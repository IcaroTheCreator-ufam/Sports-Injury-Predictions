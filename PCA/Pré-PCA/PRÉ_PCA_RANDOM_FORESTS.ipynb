{
  "cells": [
    {
      "cell_type": "markdown",
      "metadata": {
        "id": "view-in-github",
        "colab_type": "text"
      },
      "source": [
        "<a href=\"https://colab.research.google.com/github/IcaroTheCreator-ufam/Sports-Injury-Predictions/blob/main/PCA/Pr%C3%A9-PCA/PR%C3%89_PCA_RANDOM_FORESTS.ipynb\" target=\"_parent\"><img src=\"https://colab.research.google.com/assets/colab-badge.svg\" alt=\"Open In Colab\"/></a>"
      ]
    },
    {
      "cell_type": "markdown",
      "metadata": {
        "id": "XyzQsc2YYolP"
      },
      "source": [
        "#NFL Injury Analysis\n",
        "\n"
      ]
    },
    {
      "cell_type": "code",
      "execution_count": null,
      "metadata": {
        "colab": {
          "base_uri": "https://localhost:8080/"
        },
        "id": "OQf__IFgkV5N",
        "outputId": "fbb5ee57-4dbb-4ab8-af36-1b2e60032448"
      },
      "outputs": [
        {
          "output_type": "stream",
          "name": "stdout",
          "text": [
            "Collecting mglearn\n",
            "  Downloading mglearn-0.2.0-py2.py3-none-any.whl (581 kB)\n",
            "\u001b[2K     \u001b[90m━━━━━━━━━━━━━━━━━━━━━━━━━━━━━━━━━━━━━━━━\u001b[0m \u001b[32m581.4/581.4 kB\u001b[0m \u001b[31m6.1 MB/s\u001b[0m eta \u001b[36m0:00:00\u001b[0m\n",
            "\u001b[?25hRequirement already satisfied: numpy in /usr/local/lib/python3.10/dist-packages (from mglearn) (1.25.2)\n",
            "Requirement already satisfied: matplotlib in /usr/local/lib/python3.10/dist-packages (from mglearn) (3.7.1)\n",
            "Requirement already satisfied: scikit-learn in /usr/local/lib/python3.10/dist-packages (from mglearn) (1.2.2)\n",
            "Requirement already satisfied: pandas in /usr/local/lib/python3.10/dist-packages (from mglearn) (1.5.3)\n",
            "Requirement already satisfied: pillow in /usr/local/lib/python3.10/dist-packages (from mglearn) (9.4.0)\n",
            "Requirement already satisfied: cycler in /usr/local/lib/python3.10/dist-packages (from mglearn) (0.12.1)\n",
            "Requirement already satisfied: imageio in /usr/local/lib/python3.10/dist-packages (from mglearn) (2.31.6)\n",
            "Requirement already satisfied: joblib in /usr/local/lib/python3.10/dist-packages (from mglearn) (1.3.2)\n",
            "Requirement already satisfied: contourpy>=1.0.1 in /usr/local/lib/python3.10/dist-packages (from matplotlib->mglearn) (1.2.0)\n",
            "Requirement already satisfied: fonttools>=4.22.0 in /usr/local/lib/python3.10/dist-packages (from matplotlib->mglearn) (4.50.0)\n",
            "Requirement already satisfied: kiwisolver>=1.0.1 in /usr/local/lib/python3.10/dist-packages (from matplotlib->mglearn) (1.4.5)\n",
            "Requirement already satisfied: packaging>=20.0 in /usr/local/lib/python3.10/dist-packages (from matplotlib->mglearn) (24.0)\n",
            "Requirement already satisfied: pyparsing>=2.3.1 in /usr/local/lib/python3.10/dist-packages (from matplotlib->mglearn) (3.1.2)\n",
            "Requirement already satisfied: python-dateutil>=2.7 in /usr/local/lib/python3.10/dist-packages (from matplotlib->mglearn) (2.8.2)\n",
            "Requirement already satisfied: pytz>=2020.1 in /usr/local/lib/python3.10/dist-packages (from pandas->mglearn) (2023.4)\n",
            "Requirement already satisfied: scipy>=1.3.2 in /usr/local/lib/python3.10/dist-packages (from scikit-learn->mglearn) (1.11.4)\n",
            "Requirement already satisfied: threadpoolctl>=2.0.0 in /usr/local/lib/python3.10/dist-packages (from scikit-learn->mglearn) (3.4.0)\n",
            "Requirement already satisfied: six>=1.5 in /usr/local/lib/python3.10/dist-packages (from python-dateutil>=2.7->matplotlib->mglearn) (1.16.0)\n",
            "Installing collected packages: mglearn\n",
            "Successfully installed mglearn-0.2.0\n",
            "Mounted at /content/drive\n"
          ]
        }
      ],
      "source": [
        "#Importando as bibliotecas necessárias para processamento de dados, plotagem gráfica e treinamento dos modelos\n",
        "\n",
        "import numpy as np\n",
        "import pandas as pd #processamento de dados, para abrir o dataset (arquivo .csv)\n",
        "import itertools\n",
        "import seaborn as sns\n",
        "from sklearn.model_selection import train_test_split\n",
        "!pip install mglearn\n",
        "\n",
        "from google.colab import drive #para conectar o google drive ao notebook e trazer os datasets para cá\n",
        "drive.mount('/content/drive') #diretório onde o drive vai ser instaurado\n",
        "\n",
        "'''#from google.colab import files''' #função import para justamente fazer o upload dos arquivos do drive\n",
        "'''uploaded = files.upload()''' #para caso de upload\n",
        "\n",
        "# para caso de usar imagens\n",
        "import PIL\n",
        "from PIL import Image\n",
        "\n",
        "# para plotagem de gráficos\n",
        "import matplotlib.pyplot as plt #biblioteca mais comum para plotar as imagens\n",
        "import seaborn as snsC\n",
        "import scipy.stats as ss\n",
        "\n",
        "# bibliotecas e modelos para o treinamento dos modelos\n",
        "from sklearn.model_selection import StratifiedKFold #função da biblioteca sklearn para dividir os sets de maneira estratificada\n",
        "from sklearn.model_selection import train_test_split #função da biblioteca sklearn para dividir os sets de maneira padrão\n",
        "from imblearn.over_sampling import RandomOverSampler, SMOTE #funções para over sampling (aumentar quantidade de ex da classe minoritária (lesão))\n",
        "import xgboost as xgb #um dos modelos de ML\n",
        "from sklearn.metrics import accuracy_score, confusion_matrix, cohen_kappa_score #funções que irão avaliar os modelos por meio de scores\n",
        "from sklearn.metrics import (ConfusionMatrixDisplay, f1_score, classification_report) #mais funções para avaliação do modelo\n",
        "from sklearn.tree import export_graphviz #função para imprimir a árvore de decisão\n",
        "import graphviz"
      ]
    },
    {
      "cell_type": "markdown",
      "metadata": {
        "id": "J1FP4R5t0DjZ"
      },
      "source": [
        "# Load Data"
      ]
    },
    {
      "cell_type": "code",
      "execution_count": null,
      "metadata": {
        "id": "NuEdLzZ2bKv9"
      },
      "outputs": [],
      "source": [
        "play_df = pd.read_csv('/content/drive/My Drive/Datasets/PlayList.csv')\n",
        "#player_df = pd.read_csv('/content/drive/My Drive/Datasets/PlayerTrackData.csv')\n",
        "#este último dataset foi descartado pois ele pesa 3.7 GB e estoura a memória RAM gratuita do Colab e também seus dados não afetam o treinamento de nossos modelos\n",
        "injury_df = pd.read_csv('/content/drive/My Drive/Datasets/InjuryRecord.csv')"
      ]
    },
    {
      "cell_type": "code",
      "execution_count": null,
      "metadata": {
        "colab": {
          "base_uri": "https://localhost:8080/"
        },
        "id": "JdSvD3LjagOc",
        "outputId": "2038324c-6f41-44e0-8dfc-4677a6f4f417"
      },
      "outputs": [
        {
          "output_type": "stream",
          "name": "stdout",
          "text": [
            "There are 250 players in the dataset.\n",
            "There are 5712 games in the dataset.\n",
            "There are 267005 plays in the dataset.\n"
          ]
        }
      ],
      "source": [
        "#Exploração de dados\n",
        "#Primeiramente gostaria de fazer a limpeza inicial e fazer visualizações para me familiarizar com os dados e gerar ideias para análises posteriores.\n",
        "#Explorar conjunto de dados\n",
        "\n",
        "unique_players = play_df.PlayerKey.nunique()\n",
        "unique_games = play_df.GameID.nunique()\n",
        "unique_plays = play_df.PlayKey.nunique()\n",
        "\n",
        "print('There are {} players in the dataset.'.format(unique_players))\n",
        "print('There are {} games in the dataset.'.format(unique_games))\n",
        "print('There are {} plays in the dataset.'.format(unique_plays))"
      ]
    },
    {
      "cell_type": "code",
      "execution_count": null,
      "metadata": {
        "id": "SF5jfYBrcdL5"
      },
      "outputs": [],
      "source": [
        "#Game exploration:\n",
        "# create a dataframe with game-level information\n",
        "game_df = play_df[['GameID', 'StadiumType', 'FieldType', 'Weather', 'Temperature']].drop_duplicates().reset_index().drop(columns=['index'])"
      ]
    },
    {
      "cell_type": "code",
      "execution_count": null,
      "metadata": {
        "id": "1Ga0NNkacvSz"
      },
      "outputs": [],
      "source": [
        "def clean_weather(row):\n",
        "    cloudy = ['Cloudy 50% change of rain', 'Hazy', 'Cloudy.', 'Overcast', 'Mostly Cloudy',\n",
        "          'Cloudy, fog started developing in 2nd quarter', 'Partly Cloudy',\n",
        "          'Mostly cloudy', 'Rain Chance 40%',' Partly cloudy', 'Party Cloudy',\n",
        "          'Rain likely, temps in low 40s', 'Partly Clouidy', 'Cloudy, 50% change of rain','Mostly Coudy', '10% Chance of Rain',\n",
        "          'Cloudy, chance of rain', '30% Chance of Rain', 'Cloudy, light snow accumulating 1-3\"',\n",
        "          'cloudy', 'Coudy', 'Cloudy with periods of rain, thunder possible. Winds shifting to WNW, 10-20 mph.',\n",
        "         'Cloudy fog started developing in 2nd quarter', 'Cloudy light snow accumulating 1-3\"',\n",
        "         'Cloudywith periods of rain, thunder possible. Winds shifting to WNW, 10-20 mph.',\n",
        "         'Cloudy 50% change of rain', 'Cloudy and cold',\n",
        "       'Cloudy and Cool', 'Partly cloudy']\n",
        "\n",
        "    clear = ['Clear, Windy',' Clear to Cloudy', 'Clear, highs to upper 80s',\n",
        "             'Clear and clear','Partly sunny',\n",
        "             'Clear, Windy', 'Clear skies', 'Sunny', 'Partly Sunny', 'Mostly Sunny', 'Clear Skies',\n",
        "             'Sunny Skies', 'Partly clear', 'Fair', 'Sunny, highs to upper 80s', 'Sun & clouds', 'Mostly sunny','Sunny, Windy',\n",
        "             'Mostly Sunny Skies', 'Clear and Sunny', 'Clear and sunny','Clear to Partly Cloudy', 'Clear Skies',\n",
        "            'Clear and cold', 'Clear and warm', 'Clear and Cool', 'Sunny and cold', 'Sunny and warm', 'Sunny and clear']\n",
        "\n",
        "    rainy = ['Rainy', 'Scattered Showers', 'Showers', 'Cloudy Rain', 'Light Rain', 'Rain shower', 'Rain likely, temps in low 40s.', 'Cloudy, Rain']\n",
        "\n",
        "    snow = ['Heavy lake effect snow']\n",
        "\n",
        "    indoor = ['Controlled Climate', 'Indoors', 'N/A Indoor', 'N/A (Indoors)']\n",
        "\n",
        "    if row.Weather in cloudy:\n",
        "        return 'Cloudy'\n",
        "\n",
        "    if row.Weather in indoor:\n",
        "        return 'Indoor'\n",
        "\n",
        "    if row.Weather in clear:\n",
        "        return 'Clear'\n",
        "\n",
        "    if row.Weather in rainy:\n",
        "        return 'Rain'\n",
        "\n",
        "    if row.Weather in snow:\n",
        "        return 'Snow'\n",
        "\n",
        "    if row.Weather in ['Cloudy.', 'Heat Index 95', 'Cold']:\n",
        "        return np.nan\n",
        "\n",
        "    return row.Weather\n",
        "\n",
        "def clean_stadiumtype(row):\n",
        "    if row.StadiumType in ['Bowl', 'Heinz Field', 'Cloudy']:\n",
        "        return np.nan\n",
        "    else:\n",
        "        return row.StadiumType\n",
        "\n",
        "def clean_play_df(play_df):\n",
        "    play_df_cleaned = play_df.copy()\n",
        "\n",
        "    # clean StadiumType\n",
        "    play_df_cleaned['StadiumType'] = play_df_cleaned['StadiumType'].str.replace(r'Oudoor|Outdoors|Ourdoor|Outddors|Outdor|Outside', 'Outdoor')\n",
        "    play_df_cleaned['StadiumType'] = play_df_cleaned['StadiumType'].str.replace(r'Indoors|Indoor, Roof Closed|Indoor, Open Roof', 'Indoor')\n",
        "    play_df_cleaned['StadiumType'] = play_df_cleaned['StadiumType'].str.replace(r'Closed Dome|Domed, closed|Domed, Open|Domed, open|Dome, closed|Domed', 'Dome')\n",
        "    play_df_cleaned['StadiumType'] = play_df_cleaned['StadiumType'].str.replace(r'Retr. Roof-Closed|Outdoor Retr Roof-Open|Retr. Roof - Closed|Retr. Roof-Open|Retr. Roof - Open|Retr. Roof Closed', 'Retractable Roof')\n",
        "    play_df_cleaned['StadiumType'] = play_df_cleaned['StadiumType'].str.replace('Open', 'Outdoor')\n",
        "    play_df_cleaned['StadiumType'] = play_df_cleaned.apply(lambda row: clean_stadiumtype(row), axis=1)\n",
        "\n",
        "    # clean Weather\n",
        "    play_df_cleaned['Weather'] = play_df_cleaned.apply(lambda row: clean_weather(row), axis=1)\n",
        "\n",
        "    return play_df_cleaned"
      ]
    },
    {
      "cell_type": "code",
      "execution_count": null,
      "metadata": {
        "colab": {
          "base_uri": "https://localhost:8080/"
        },
        "id": "LaWxyn2RcyxZ",
        "outputId": "df42ae61-f57b-4152-8fef-915d92452a59"
      },
      "outputs": [
        {
          "output_type": "stream",
          "name": "stderr",
          "text": [
            "<ipython-input-5-a7d17a9c9ee9>:56: FutureWarning: The default value of regex will change from True to False in a future version.\n",
            "  play_df_cleaned['StadiumType'] = play_df_cleaned['StadiumType'].str.replace(r'Oudoor|Outdoors|Ourdoor|Outddors|Outdor|Outside', 'Outdoor')\n",
            "<ipython-input-5-a7d17a9c9ee9>:57: FutureWarning: The default value of regex will change from True to False in a future version.\n",
            "  play_df_cleaned['StadiumType'] = play_df_cleaned['StadiumType'].str.replace(r'Indoors|Indoor, Roof Closed|Indoor, Open Roof', 'Indoor')\n",
            "<ipython-input-5-a7d17a9c9ee9>:58: FutureWarning: The default value of regex will change from True to False in a future version.\n",
            "  play_df_cleaned['StadiumType'] = play_df_cleaned['StadiumType'].str.replace(r'Closed Dome|Domed, closed|Domed, Open|Domed, open|Dome, closed|Domed', 'Dome')\n",
            "<ipython-input-5-a7d17a9c9ee9>:59: FutureWarning: The default value of regex will change from True to False in a future version.\n",
            "  play_df_cleaned['StadiumType'] = play_df_cleaned['StadiumType'].str.replace(r'Retr. Roof-Closed|Outdoor Retr Roof-Open|Retr. Roof - Closed|Retr. Roof-Open|Retr. Roof - Open|Retr. Roof Closed', 'Retractable Roof')\n"
          ]
        }
      ],
      "source": [
        "play_df_cleaned = clean_play_df(play_df)\n",
        "game_df_cleaned = play_df_cleaned[['GameID', 'StadiumType', 'FieldType', 'Weather', 'Temperature']].drop_duplicates().reset_index().drop(columns=['index'])"
      ]
    },
    {
      "cell_type": "code",
      "execution_count": null,
      "metadata": {
        "colab": {
          "base_uri": "https://localhost:8080/"
        },
        "id": "x9SScd7Kf1mU",
        "outputId": "c1c131f8-016b-4960-ad31-00ceffff079f"
      },
      "outputs": [
        {
          "output_type": "stream",
          "name": "stdout",
          "text": [
            "There are 105 injury records in total.\n"
          ]
        }
      ],
      "source": [
        "#Vejamos rapidamente as lesões:\n",
        "print('There are {} injury records in total.'.format(len(injury_df)))"
      ]
    },
    {
      "cell_type": "code",
      "execution_count": null,
      "metadata": {
        "colab": {
          "base_uri": "https://localhost:8080/"
        },
        "id": "HxvJfYEGf6WJ",
        "outputId": "eb598b72-8f99-4bb4-8d8e-d103a5539087"
      },
      "outputs": [
        {
          "output_type": "stream",
          "name": "stdout",
          "text": [
            "100 unique players injured\n"
          ]
        }
      ],
      "source": [
        "print('{} unique players injured'.format(len(injury_df.PlayerKey.unique())))"
      ]
    },
    {
      "cell_type": "code",
      "execution_count": null,
      "metadata": {
        "colab": {
          "base_uri": "https://localhost:8080/"
        },
        "id": "e-kaiRkUf-3i",
        "outputId": "d753cb39-7d8a-4fd3-df8b-55752255704f"
      },
      "outputs": [
        {
          "output_type": "stream",
          "name": "stdout",
          "text": [
            "There are 28 PlayKey values missing.\n"
          ]
        }
      ],
      "source": [
        "#Isso significa que há jogadores lesionados duas vezes!\n",
        "\n",
        "print('There are {} PlayKey values missing.'.format(len(injury_df) - injury_df.PlayKey.count()))"
      ]
    },
    {
      "cell_type": "code",
      "execution_count": null,
      "metadata": {
        "id": "2RqExV0dgkfM"
      },
      "outputs": [],
      "source": [
        "# joined cleaned games dataset and injury dataset\n",
        "game_injury_df = injury_df.set_index('GameID').join(game_df_cleaned.set_index('GameID'), how = 'outer')\n",
        "\n",
        "# fill null values for the injury columns with zeros\n",
        "game_injury_df['DM_M1'] = game_injury_df['DM_M1'].fillna(0).astype(int)\n",
        "game_injury_df['DM_M7'] = game_injury_df['DM_M7'].fillna(0).astype(int)\n",
        "game_injury_df['DM_M28'] = game_injury_df['DM_M28'].fillna(0).astype(int)\n",
        "game_injury_df['DM_M42'] = game_injury_df['DM_M42'].fillna(0).astype(int)\n",
        "\n",
        "game_injury_df.DM_M1 = game_injury_df.DM_M1 - game_injury_df.DM_M7\n",
        "game_injury_df.DM_M7 = game_injury_df.DM_M7 - game_injury_df.DM_M28\n",
        "game_injury_df.DM_M28 = game_injury_df.DM_M28 - game_injury_df.DM_M42\n",
        "\n",
        "# introduce a column with a flag indicating an injury\n",
        "game_injury_df['Injury'] = game_injury_df['DM_M1'] + game_injury_df['DM_M7'] + game_injury_df['DM_M28'] + game_injury_df['DM_M42']\n",
        "\n",
        "# drop duplicated surface column\n",
        "game_injury_df = game_injury_df.drop(columns=['Surface'])\n",
        "\n",
        "# drop play-level features just for now\n",
        "game_injury_df = game_injury_df.drop(columns=['PlayerKey', 'PlayKey'])\n",
        "\n",
        "# create dummy variables\n",
        "game_injury_df_dummies = pd.get_dummies(game_injury_df, dummy_na = True, drop_first = True).drop(columns=['FieldType_nan'])"
      ]
    },
    {
      "cell_type": "code",
      "execution_count": null,
      "metadata": {
        "id": "eqfLSkpZiqQd"
      },
      "outputs": [],
      "source": [
        "# joined cleaned games dataset and injury dataset\n",
        "play_injury_df = injury_df.dropna(subset=['PlayKey']).set_index('PlayKey').join(play_df_cleaned.set_index('PlayKey'), how = 'outer', lsuffix='_left', rsuffix='_right')\n",
        "\n",
        "# fill null values for the injury columns with zeros\n",
        "play_injury_df['DM_M1'] = play_injury_df['DM_M1'].fillna(0).astype(int)\n",
        "play_injury_df['DM_M7'] = play_injury_df['DM_M7'].fillna(0).astype(int)\n",
        "play_injury_df['DM_M28'] = play_injury_df['DM_M28'].fillna(0).astype(int)\n",
        "play_injury_df['DM_M42'] = play_injury_df['DM_M42'].fillna(0).astype(int)\n",
        "\n",
        "# introduce a column with a flag indicating an injury\n",
        "play_injury_df.DM_M1 = play_injury_df.DM_M1 - play_injury_df.DM_M7\n",
        "play_injury_df.DM_M7 = play_injury_df.DM_M7 - play_injury_df.DM_M28\n",
        "play_injury_df.DM_M28 = play_injury_df.DM_M28 - play_injury_df.DM_M42\n",
        "\n",
        "play_injury_df['Injury'] = play_injury_df['DM_M1'] + play_injury_df['DM_M7'] + play_injury_df['DM_M28']+ play_injury_df['DM_M42']\n",
        "\n",
        "# drop duplicated surface column\n",
        "play_injury_df = play_injury_df.drop(columns=['Surface'])\n",
        "\n",
        "# create dummy variables\n",
        "play_injury_df_dummies = pd.get_dummies(play_injury_df, columns = ['PlayType', 'PositionGroup'], dummy_na = True, drop_first = True)"
      ]
    },
    {
      "cell_type": "code",
      "execution_count": null,
      "metadata": {
        "id": "8dwKR6phiBkv"
      },
      "outputs": [],
      "source": [
        "features_df = play_injury_df.copy().reset_index()\n",
        "features_df = features_df.drop(columns=['PlayerKey_left','GameID_left','BodyPart', 'PlayKey', 'PlayerKey_right', 'GameID_right', 'DM_M1', 'DM_M7', 'DM_M28', 'DM_M42'])"
      ]
    },
    {
      "cell_type": "code",
      "execution_count": null,
      "metadata": {
        "id": "4p0IBaEtL2qV"
      },
      "outputs": [],
      "source": [
        "# reset index\n",
        "features_df = play_injury_df.copy().reset_index()\n",
        "# drop the irrelevant columns\n",
        "features_df = features_df.drop(columns=['PlayerKey_left','GameID_left','BodyPart', 'PlayKey', 'PlayerKey_right', 'GameID_right', 'DM_M1', 'DM_M7', 'DM_M28', 'DM_M42'])\n",
        "# convert into dummies\n",
        "features_df = pd.get_dummies(features_df, dummy_na = False, drop_first = True)"
      ]
    },
    {
      "cell_type": "code",
      "source": [
        "#separando o features_df em 2 datasets, um com injury igual a 0 e o outro com injury igual a 1_\n",
        "features_df0 = features_df[features_df['Injury'] < 1]\n",
        "features_df1 = features_df[features_df['Injury'] >= 1]"
      ],
      "metadata": {
        "id": "cQmWyD8MKTcR"
      },
      "execution_count": null,
      "outputs": []
    },
    {
      "cell_type": "code",
      "source": [
        "#selecionando aleatoriamente 770 casos de não lesão\n",
        "features_df770 = features_df0.sample(n=770)"
      ],
      "metadata": {
        "id": "HuAknoPOKfwy"
      },
      "execution_count": null,
      "outputs": []
    },
    {
      "cell_type": "code",
      "source": [
        "#multilplicando o dataframe de lesões por 10\n",
        "features_df2 = pd.DataFrame(np.repeat(features_df1.values, 10, axis=0))\n",
        "features_df2.columns = features_df1.columns"
      ],
      "metadata": {
        "id": "lwwtTbiaKiG2"
      },
      "execution_count": null,
      "outputs": []
    },
    {
      "cell_type": "code",
      "source": [
        "#juntando o dataset de injury = 1 com as 223 amostras de treino\n",
        "frames = [features_df2, features_df770]\n",
        "new_treino_df = pd.concat(frames)\n",
        "new_treino_df.reset_index(inplace=True)\n",
        "new_treino_df = new_treino_df.drop(columns=['index'])"
      ],
      "metadata": {
        "id": "w2DCIn0AKl50"
      },
      "execution_count": null,
      "outputs": []
    },
    {
      "cell_type": "code",
      "execution_count": null,
      "metadata": {
        "id": "qTgJLWHDMAW1"
      },
      "outputs": [],
      "source": [
        "#separa em features e targets (treino)\n",
        "y = new_treino_df['Injury']\n",
        "X = new_treino_df.drop(columns=['Injury'])"
      ]
    },
    {
      "cell_type": "code",
      "execution_count": null,
      "metadata": {
        "id": "xHPDkC7zcwcv"
      },
      "outputs": [],
      "source": [
        "#Importar PCA\n",
        "from sklearn.decomposition import PCA\n",
        "\n",
        "#Padronizar os dados\n",
        "##StandardScaler é uma classe do scikit-learn que fornece uma implementação da padronização dos conjuntos de dados. A padronização é uma técnica importante, especialmente quando se utiliza algoritmos que são sensíveis à escala das variáveis, como é frequentemente o caso em modelos baseados em distância, como o k-Nearest Neighbors (k-NN) ou máquinas de vetores de suporte (SVM).\n",
        "from sklearn.preprocessing import StandardScaler\n",
        "\n",
        "scaler = StandardScaler() #scaler = StandardScaler(): Cria uma instância do StandardScaler. Esta instância será usada para ajustar os parâmetros de padronização (média e desvio padrão) aos dados de treinamento e, em seguida, aplicar a mesma transformação aos dados de teste.\n",
        "\n",
        "X_padronizado = scaler.fit_transform(X) #X_padronizado = scaler.fit_transform(X_train): Aplica a padronização aos dados (features_df). O método fit_transform ajusta o scaler aos dados de treinamento, calculando a média e o desvio padrão, e, em seguida, aplica a transformação aos dados, resultando em X_padronizado.\n"
      ]
    },
    {
      "cell_type": "code",
      "execution_count": null,
      "metadata": {
        "colab": {
          "base_uri": "https://localhost:8080/"
        },
        "id": "zdkCDTdHD2hk",
        "outputId": "e116c4d3-6672-47f0-c446-415fd099fc5a"
      },
      "outputs": [
        {
          "output_type": "execute_result",
          "data": {
            "text/plain": [
              "(1540, 62)"
            ]
          },
          "metadata": {},
          "execution_count": 20
        }
      ],
      "source": [
        "X_padronizado.shape"
      ]
    },
    {
      "cell_type": "code",
      "execution_count": null,
      "metadata": {
        "colab": {
          "base_uri": "https://localhost:8080/"
        },
        "id": "ErWMv4_7eCxy",
        "outputId": "93db34aa-9ffc-47ea-9fec-8a0f69b4f55a"
      },
      "outputs": [
        {
          "output_type": "stream",
          "name": "stdout",
          "text": [
            "Original shape: (1540, 62)\n",
            "Reduced shape: (1540, 30)\n"
          ]
        }
      ],
      "source": [
        "#Aplicar o PCA\n",
        "\n",
        "num_componentes = 30  # ajuste conforme necessário\n",
        "pca = PCA(n_components=num_componentes)\n",
        "X_pca = pca.fit_transform(X_padronizado)\n",
        "\n",
        "\n",
        "#X_pca = pca.fit_transform(X_padronizado) #X_pca =\n",
        "#pca.fit_transform(X_padronizado): Ajusta o modelo PCA aos dados\n",
        "#padronizados de treinamento (X_padronizado). Durante esse\n",
        "#processo, o PCA calcula os componentes principais\n",
        "#(combinações lineares das características originais) que explicam\n",
        "#a maior parte da variância nos dados.\n",
        "print(\"Original shape: {}\".format(str(X.shape)))\n",
        "print(\"Reduced shape: {}\".format(str(X_pca.shape)))"
      ]
    },
    {
      "cell_type": "code",
      "execution_count": null,
      "metadata": {
        "id": "5SBhHdD2GNVU"
      },
      "outputs": [],
      "source": [
        "X_pca = pd.DataFrame(X_pca)\n",
        "y_pca = pd.DataFrame(y)\n"
      ]
    },
    {
      "cell_type": "code",
      "source": [
        "display(y)"
      ],
      "metadata": {
        "colab": {
          "base_uri": "https://localhost:8080/",
          "height": 239
        },
        "id": "cdpL5l-6P42R",
        "outputId": "13c9a0ae-a9b0-42e9-9ed0-1e74e0713f83"
      },
      "execution_count": null,
      "outputs": [
        {
          "output_type": "display_data",
          "data": {
            "text/plain": [
              "0       1\n",
              "1       1\n",
              "2       1\n",
              "3       1\n",
              "4       1\n",
              "       ..\n",
              "1535    0\n",
              "1536    0\n",
              "1537    0\n",
              "1538    0\n",
              "1539    0\n",
              "Name: Injury, Length: 1540, dtype: int64"
            ]
          },
          "metadata": {}
        }
      ]
    },
    {
      "cell_type": "code",
      "execution_count": null,
      "metadata": {
        "id": "rzVxXUcpAviE"
      },
      "outputs": [],
      "source": [
        "skf = StratifiedKFold(n_splits=2, shuffle = True)\n",
        "#usa separação estratificada para treinar o conjunto de treino para distribuir igualmente os rótulos em todas as classes\n",
        "for train_index, test_index in skf.split(X_pca, y):\n",
        "    X_train, X_teste = X_pca.values[train_index, :], X_pca.values[test_index, :]\n",
        "    y_train, y_teste = y[train_index], y[test_index]"
      ]
    },
    {
      "cell_type": "code",
      "execution_count": null,
      "metadata": {
        "colab": {
          "base_uri": "https://localhost:8080/"
        },
        "id": "SLl3X3YOAUAU",
        "outputId": "4dcc646c-97d9-4b36-f9d0-345ea17feab5"
      },
      "outputs": [
        {
          "output_type": "stream",
          "name": "stdout",
          "text": [
            "Accuracy on training set: 1.000\n",
            "Accuracy on test set: 0.962\n",
            "F1 Score: 0.9623911604281804\n"
          ]
        }
      ],
      "source": [
        "from sklearn.ensemble import RandomForestClassifier\n",
        "forest = RandomForestClassifier(n_estimators=100, random_state=0)\n",
        "forest.fit(X_train, y_train)\n",
        "\n",
        "print(\"Accuracy on training set: {:.3f}\".format(forest.score(X_train, y_train)))\n",
        "print(\"Accuracy on test set: {:.3f}\".format(forest.score(X_teste, y_teste)))\n",
        "\n",
        "y_pred = forest.predict(X_teste)\n",
        "f1 = f1_score(y_pred, y_teste, average=\"weighted\")\n",
        "print(\"F1 Score:\", f1)"
      ]
    },
    {
      "cell_type": "code",
      "execution_count": null,
      "metadata": {
        "id": "_SGDsz4kA4oc",
        "colab": {
          "base_uri": "https://localhost:8080/"
        },
        "outputId": "a512809e-7569-4496-f9ea-cb88362e1461"
      },
      "outputs": [
        {
          "output_type": "stream",
          "name": "stdout",
          "text": [
            "Accuracy on training set: 1.000\n",
            "Accuracy on test set: 0.960\n",
            "F1 Score: 0.9598056205466766\n"
          ]
        }
      ],
      "source": [
        "forest = RandomForestClassifier(n_estimators=50, random_state=0)\n",
        "forest.fit(X_train, y_train)\n",
        "\n",
        "print(\"Accuracy on training set: {:.3f}\".format(forest.score(X_train, y_train)))\n",
        "print(\"Accuracy on test set: {:.3f}\".format(forest.score(X_teste, y_teste)))\n",
        "\n",
        "y_pred = forest.predict(X_teste)\n",
        "f1 = f1_score(y_pred, y_teste, average=\"weighted\")\n",
        "print(\"F1 Score:\", f1)"
      ]
    },
    {
      "cell_type": "code",
      "execution_count": null,
      "metadata": {
        "id": "F8xVToJQA3G8",
        "colab": {
          "base_uri": "https://localhost:8080/"
        },
        "outputId": "aa711ec9-5ac7-41d6-9459-06111aed39c3"
      },
      "outputs": [
        {
          "output_type": "stream",
          "name": "stdout",
          "text": [
            "Accuracy on training set: 1.000\n",
            "Accuracy on test set: 0.958\n",
            "F1 Sctreeore: 0.9585134583735642\n"
          ]
        }
      ],
      "source": [
        "forest = RandomForestClassifier(n_estimators=25, random_state=0)\n",
        "forest.fit(X_train, y_train)\n",
        "\n",
        "print(\"Accuracy on training set: {:.3f}\".format(forest.score(X_train, y_train)))\n",
        "print(\"Accuracy on test set: {:.3f}\".format(forest.score(X_teste, y_teste)))\n",
        "\n",
        "y_pred = forest.predict(X_teste)\n",
        "f1 = f1_score(y_pred, y_teste, average=\"weighted\")\n",
        "print(\"F1 Sctreeore:\", f1)"
      ]
    },
    {
      "cell_type": "code",
      "source": [
        "forest = RandomForestClassifier(n_estimators=10, random_state=0)\n",
        "forest.fit(X_train, y_train)\n",
        "\n",
        "print(\"Accuracy on training set: {:.3f}\".format(forest.score(X_train, y_train)))\n",
        "print(\"Accuracy on test set: {:.3f}\".format(forest.score(X_teste, y_teste)))\n",
        "\n",
        "y_pred = forest.predict(X_teste)\n",
        "f1 = f1_score(y_pred, y_teste, average=\"weighted\")\n",
        "print(\"F1 Score:\", f1)"
      ],
      "metadata": {
        "colab": {
          "base_uri": "https://localhost:8080/"
        },
        "id": "P_Jy3ztQM9cS",
        "outputId": "83eafbdc-82c9-4095-d1c4-81f6c39ccefe"
      },
      "execution_count": null,
      "outputs": [
        {
          "output_type": "stream",
          "name": "stdout",
          "text": [
            "Accuracy on training set: 0.997\n",
            "Accuracy on test set: 0.961\n",
            "F1 Score: 0.9610981923481924\n"
          ]
        }
      ]
    },
    {
      "cell_type": "code",
      "source": [
        "forest = RandomForestClassifier(n_estimators=5, random_state=0)\n",
        "forest.fit(X_train, y_train)\n",
        "\n",
        "print(\"Accuracy on training set: {:.3f}\".format(forest.score(X_train, y_train)))\n",
        "print(\"Accuracy on test set: {:.3f}\".format(forest.score(X_teste, y_teste)))\n",
        "\n",
        "y_pred = forest.predict(X_teste)\n",
        "f1 = f1_score(y_pred, y_teste, average=\"weighted\")\n",
        "print(\"F1 Score:\", f1)"
      ],
      "metadata": {
        "colab": {
          "base_uri": "https://localhost:8080/"
        },
        "id": "oli3rvVgWjZg",
        "outputId": "165d83b7-fd7f-4251-f66b-3c4802c92d34"
      },
      "execution_count": null,
      "outputs": [
        {
          "output_type": "stream",
          "name": "stdout",
          "text": [
            "Accuracy on training set: 0.994\n",
            "Accuracy on test set: 0.957\n",
            "F1 Score: 0.9572217191926863\n"
          ]
        }
      ]
    },
    {
      "cell_type": "code",
      "source": [
        "forest = RandomForestClassifier(n_estimators=1, random_state=0)\n",
        "forest.fit(X_train, y_train)\n",
        "\n",
        "print(\"Accuracy on training set: {:.3f}\".format(forest.score(X_train, y_train)))\n",
        "print(\"Accuracy on test set: {:.3f}\".format(forest.score(X_teste, y_teste)))\n",
        "\n",
        "y_pred = forest.predict(X_teste)\n",
        "f1 = f1_score(y_pred, y_teste, average=\"weighted\")\n",
        "print(\"F1 Score:\", f1)"
      ],
      "metadata": {
        "colab": {
          "base_uri": "https://localhost:8080/"
        },
        "id": "FZl62nQaWnYo",
        "outputId": "f664c259-f423-49b2-895e-cff9daa8c932"
      },
      "execution_count": null,
      "outputs": [
        {
          "output_type": "stream",
          "name": "stdout",
          "text": [
            "Accuracy on training set: 0.953\n",
            "Accuracy on test set: 0.892\n",
            "F1 Score: 0.8930301412474588\n"
          ]
        }
      ]
    },
    {
      "cell_type": "code",
      "execution_count": null,
      "metadata": {
        "id": "v7z0TJ9aA8sc",
        "colab": {
          "base_uri": "https://localhost:8080/",
          "height": 509
        },
        "outputId": "ea2ab5ae-ae20-4ed2-cbe9-35d27b34e4b0"
      },
      "outputs": [
        {
          "output_type": "stream",
          "name": "stdout",
          "text": [
            "[[356  29]\n",
            " [  0 385]]\n"
          ]
        },
        {
          "output_type": "display_data",
          "data": {
            "text/plain": [
              "<Figure size 640x480 with 2 Axes>"
            ],
            "image/png": "[encoded data removed]"
          },
          "metadata": {}
        }
      ],
      "source": [
        "model = RandomForestClassifier()\n",
        "model.fit(X_train, y_train)\n",
        "y_pred = model.predict(X_teste)\n",
        "\n",
        "from sklearn.metrics import confusion_matrix\n",
        "\n",
        "labels = [\"(Não Lesão)\", \"(Lesão)\"]\n",
        "cf_matrix = confusion_matrix(y_teste, y_pred)\n",
        "print(cf_matrix)\n",
        "\n",
        "import seaborn as sns\n",
        "ax= plt.subplot()\n",
        "sns.heatmap(cf_matrix, annot=True, fmt='g', ax=ax, cmap = 'Blues')\n",
        "\n",
        "ax.set_xlabel('Predicted labels');ax.set_ylabel('True labels');\n",
        "ax.set_title('Matriz de Confusão - RF/PCA');\n",
        "ax.xaxis.set_ticklabels(['Não Lesão', 'Lesão']); ax.yaxis.set_ticklabels(['Não Lesão', 'Lesão']);"
      ]
    }
  ],
  "metadata": {
    "colab": {
      "provenance": [],
      "include_colab_link": true
    },
    "kernelspec": {
      "display_name": "Python 3",
      "name": "python3"
    },
    "language_info": {
      "name": "python"
    }
  },
  "nbformat": 4,
  "nbformat_minor": 0
}