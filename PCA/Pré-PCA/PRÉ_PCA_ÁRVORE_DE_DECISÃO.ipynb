{
  "cells": [
    {
      "cell_type": "markdown",
      "metadata": {
        "id": "view-in-github",
        "colab_type": "text"
      },
      "source": [
        "<a href=\"https://colab.research.google.com/github/IcaroTheCreator-ufam/Sports-Injury-Predictions/blob/main/PCA/Pr%C3%A9-PCA/PR%C3%89_PCA_%C3%81RVORE_DE_DECIS%C3%83O.ipynb\" target=\"_parent\"><img src=\"https://colab.research.google.com/assets/colab-badge.svg\" alt=\"Open In Colab\"/></a>"
      ]
    },
    {
      "cell_type": "markdown",
      "metadata": {
        "id": "XyzQsc2YYolP"
      },
      "source": [
        "#NFL Injury Analysis\n",
        "\n"
      ]
    },
    {
      "cell_type": "code",
      "execution_count": null,
      "metadata": {
        "colab": {
          "base_uri": "https://localhost:8080/"
        },
        "id": "OQf__IFgkV5N",
        "outputId": "eb73fde7-dd89-40c1-cd25-be6ef8352ad3"
      },
      "outputs": [
        {
          "output_type": "stream",
          "name": "stdout",
          "text": [
            "Collecting mglearn\n",
            "  Downloading mglearn-0.2.0-py2.py3-none-any.whl (581 kB)\n",
            "\u001b[2K     \u001b[90m━━━━━━━━━━━━━━━━━━━━━━━━━━━━━━━━━━━━━━━━\u001b[0m \u001b[32m581.4/581.4 kB\u001b[0m \u001b[31m4.6 MB/s\u001b[0m eta \u001b[36m0:00:00\u001b[0m\n",
            "\u001b[?25hRequirement already satisfied: numpy in /usr/local/lib/python3.10/dist-packages (from mglearn) (1.25.2)\n",
            "Requirement already satisfied: matplotlib in /usr/local/lib/python3.10/dist-packages (from mglearn) (3.7.1)\n",
            "Requirement already satisfied: scikit-learn in /usr/local/lib/python3.10/dist-packages (from mglearn) (1.2.2)\n",
            "Requirement already satisfied: pandas in /usr/local/lib/python3.10/dist-packages (from mglearn) (1.5.3)\n",
            "Requirement already satisfied: pillow in /usr/local/lib/python3.10/dist-packages (from mglearn) (9.4.0)\n",
            "Requirement already satisfied: cycler in /usr/local/lib/python3.10/dist-packages (from mglearn) (0.12.1)\n",
            "Requirement already satisfied: imageio in /usr/local/lib/python3.10/dist-packages (from mglearn) (2.31.6)\n",
            "Requirement already satisfied: joblib in /usr/local/lib/python3.10/dist-packages (from mglearn) (1.3.2)\n",
            "Requirement already satisfied: contourpy>=1.0.1 in /usr/local/lib/python3.10/dist-packages (from matplotlib->mglearn) (1.2.0)\n",
            "Requirement already satisfied: fonttools>=4.22.0 in /usr/local/lib/python3.10/dist-packages (from matplotlib->mglearn) (4.50.0)\n",
            "Requirement already satisfied: kiwisolver>=1.0.1 in /usr/local/lib/python3.10/dist-packages (from matplotlib->mglearn) (1.4.5)\n",
            "Requirement already satisfied: packaging>=20.0 in /usr/local/lib/python3.10/dist-packages (from matplotlib->mglearn) (24.0)\n",
            "Requirement already satisfied: pyparsing>=2.3.1 in /usr/local/lib/python3.10/dist-packages (from matplotlib->mglearn) (3.1.2)\n",
            "Requirement already satisfied: python-dateutil>=2.7 in /usr/local/lib/python3.10/dist-packages (from matplotlib->mglearn) (2.8.2)\n",
            "Requirement already satisfied: pytz>=2020.1 in /usr/local/lib/python3.10/dist-packages (from pandas->mglearn) (2023.4)\n",
            "Requirement already satisfied: scipy>=1.3.2 in /usr/local/lib/python3.10/dist-packages (from scikit-learn->mglearn) (1.11.4)\n",
            "Requirement already satisfied: threadpoolctl>=2.0.0 in /usr/local/lib/python3.10/dist-packages (from scikit-learn->mglearn) (3.4.0)\n",
            "Requirement already satisfied: six>=1.5 in /usr/local/lib/python3.10/dist-packages (from python-dateutil>=2.7->matplotlib->mglearn) (1.16.0)\n",
            "Installing collected packages: mglearn\n",
            "Successfully installed mglearn-0.2.0\n",
            "Mounted at /content/drive\n"
          ]
        }
      ],
      "source": [
        "#Importando as bibliotecas necessárias para processamento de dados, plotagem gráfica e treinamento dos modelos\n",
        "\n",
        "import numpy as np\n",
        "import pandas as pd #processamento de dados, para abrir o dataset (arquivo .csv)\n",
        "import itertools\n",
        "import seaborn as sns\n",
        "from sklearn.model_selection import train_test_split\n",
        "!pip install mglearn\n",
        "\n",
        "from google.colab import drive #para conectar o google drive ao notebook e trazer os datasets para cá\n",
        "drive.mount('/content/drive') #diretório onde o drive vai ser instaurado\n",
        "\n",
        "'''#from google.colab import files''' #função import para justamente fazer o upload dos arquivos do drive\n",
        "'''uploaded = files.upload()''' #para caso de upload\n",
        "\n",
        "# para caso de usar imagens\n",
        "import PIL\n",
        "from PIL import Image\n",
        "\n",
        "# para plotagem de gráficos\n",
        "import matplotlib.pyplot as plt #biblioteca mais comum para plotar as imagens\n",
        "import seaborn as snsC\n",
        "import scipy.stats as ss\n",
        "\n",
        "# bibliotecas e modelos para o treinamento dos modelos\n",
        "from sklearn.model_selection import StratifiedKFold #função da biblioteca sklearn para dividir os sets de maneira estratificada\n",
        "from sklearn.model_selection import train_test_split #função da biblioteca sklearn para dividir os sets de maneira padrão\n",
        "from imblearn.over_sampling import RandomOverSampler, SMOTE #funções para over sampling (aumentar quantidade de ex da classe minoritária (lesão))\n",
        "import xgboost as xgb #um dos modelos de ML\n",
        "from sklearn.metrics import accuracy_score, confusion_matrix, cohen_kappa_score #funções que irão avaliar os modelos por meio de scores\n",
        "from sklearn.metrics import (ConfusionMatrixDisplay, f1_score, classification_report) #mais funções para avaliação do modelo\n",
        "from sklearn.tree import export_graphviz #função para imprimir a árvore de decisão\n",
        "import graphviz"
      ]
    },
    {
      "cell_type": "markdown",
      "metadata": {
        "id": "J1FP4R5t0DjZ"
      },
      "source": [
        "# Load Data"
      ]
    },
    {
      "cell_type": "code",
      "execution_count": null,
      "metadata": {
        "id": "NuEdLzZ2bKv9"
      },
      "outputs": [],
      "source": [
        "play_df = pd.read_csv('/content/drive/My Drive/Datasets/PlayList.csv')\n",
        "#player_df = pd.read_csv('/content/drive/My Drive/Datasets/PlayerTrackData.csv')\n",
        "#este último dataset foi descartado pois ele pesa 3.7 GB e estoura a memória RAM gratuita do Colab e também seus dados não afetam o treinamento de nossos modelos\n",
        "injury_df = pd.read_csv('/content/drive/My Drive/Datasets/InjuryRecord.csv')"
      ]
    },
    {
      "cell_type": "code",
      "execution_count": null,
      "metadata": {
        "colab": {
          "base_uri": "https://localhost:8080/"
        },
        "id": "JdSvD3LjagOc",
        "outputId": "2d11d5c6-4eec-4aab-baf7-a92d22bebfea"
      },
      "outputs": [
        {
          "output_type": "stream",
          "name": "stdout",
          "text": [
            "There are 250 players in the dataset.\n",
            "There are 5712 games in the dataset.\n",
            "There are 267005 plays in the dataset.\n"
          ]
        }
      ],
      "source": [
        "#Exploração de dados\n",
        "#Primeiramente gostaria de fazer a limpeza inicial e fazer visualizações para me familiarizar com os dados e gerar ideias para análises posteriores.\n",
        "#Explorar conjunto de dados\n",
        "\n",
        "unique_players = play_df.PlayerKey.nunique()\n",
        "unique_games = play_df.GameID.nunique()\n",
        "unique_plays = play_df.PlayKey.nunique()\n",
        "\n",
        "print('There are {} players in the dataset.'.format(unique_players))\n",
        "print('There are {} games in the dataset.'.format(unique_games))\n",
        "print('There are {} plays in the dataset.'.format(unique_plays))"
      ]
    },
    {
      "cell_type": "code",
      "execution_count": null,
      "metadata": {
        "id": "SF5jfYBrcdL5"
      },
      "outputs": [],
      "source": [
        "#Game exploration:\n",
        "# create a dataframe with game-level information\n",
        "game_df = play_df[['GameID', 'StadiumType', 'FieldType', 'Weather', 'Temperature']].drop_duplicates().reset_index().drop(columns=['index'])"
      ]
    },
    {
      "cell_type": "code",
      "execution_count": null,
      "metadata": {
        "id": "1Ga0NNkacvSz"
      },
      "outputs": [],
      "source": [
        "def clean_weather(row):\n",
        "    cloudy = ['Cloudy 50% change of rain', 'Hazy', 'Cloudy.', 'Overcast', 'Mostly Cloudy',\n",
        "          'Cloudy, fog started developing in 2nd quarter', 'Partly Cloudy',\n",
        "          'Mostly cloudy', 'Rain Chance 40%',' Partly cloudy', 'Party Cloudy',\n",
        "          'Rain likely, temps in low 40s', 'Partly Clouidy', 'Cloudy, 50% change of rain','Mostly Coudy', '10% Chance of Rain',\n",
        "          'Cloudy, chance of rain', '30% Chance of Rain', 'Cloudy, light snow accumulating 1-3\"',\n",
        "          'cloudy', 'Coudy', 'Cloudy with periods of rain, thunder possible. Winds shifting to WNW, 10-20 mph.',\n",
        "         'Cloudy fog started developing in 2nd quarter', 'Cloudy light snow accumulating 1-3\"',\n",
        "         'Cloudywith periods of rain, thunder possible. Winds shifting to WNW, 10-20 mph.',\n",
        "         'Cloudy 50% change of rain', 'Cloudy and cold',\n",
        "       'Cloudy and Cool', 'Partly cloudy']\n",
        "\n",
        "    clear = ['Clear, Windy',' Clear to Cloudy', 'Clear, highs to upper 80s',\n",
        "             'Clear and clear','Partly sunny',\n",
        "             'Clear, Windy', 'Clear skies', 'Sunny', 'Partly Sunny', 'Mostly Sunny', 'Clear Skies',\n",
        "             'Sunny Skies', 'Partly clear', 'Fair', 'Sunny, highs to upper 80s', 'Sun & clouds', 'Mostly sunny','Sunny, Windy',\n",
        "             'Mostly Sunny Skies', 'Clear and Sunny', 'Clear and sunny','Clear to Partly Cloudy', 'Clear Skies',\n",
        "            'Clear and cold', 'Clear and warm', 'Clear and Cool', 'Sunny and cold', 'Sunny and warm', 'Sunny and clear']\n",
        "\n",
        "    rainy = ['Rainy', 'Scattered Showers', 'Showers', 'Cloudy Rain', 'Light Rain', 'Rain shower', 'Rain likely, temps in low 40s.', 'Cloudy, Rain']\n",
        "\n",
        "    snow = ['Heavy lake effect snow']\n",
        "\n",
        "    indoor = ['Controlled Climate', 'Indoors', 'N/A Indoor', 'N/A (Indoors)']\n",
        "\n",
        "    if row.Weather in cloudy:\n",
        "        return 'Cloudy'\n",
        "\n",
        "    if row.Weather in indoor:\n",
        "        return 'Indoor'\n",
        "\n",
        "    if row.Weather in clear:\n",
        "        return 'Clear'\n",
        "\n",
        "    if row.Weather in rainy:\n",
        "        return 'Rain'\n",
        "\n",
        "    if row.Weather in snow:\n",
        "        return 'Snow'\n",
        "\n",
        "    if row.Weather in ['Cloudy.', 'Heat Index 95', 'Cold']:\n",
        "        return np.nan\n",
        "\n",
        "    return row.Weather\n",
        "\n",
        "def clean_stadiumtype(row):\n",
        "    if row.StadiumType in ['Bowl', 'Heinz Field', 'Cloudy']:\n",
        "        return np.nan\n",
        "    else:\n",
        "        return row.StadiumType\n",
        "\n",
        "def clean_play_df(play_df):\n",
        "    play_df_cleaned = play_df.copy()\n",
        "\n",
        "    # clean StadiumType\n",
        "    play_df_cleaned['StadiumType'] = play_df_cleaned['StadiumType'].str.replace(r'Oudoor|Outdoors|Ourdoor|Outddors|Outdor|Outside', 'Outdoor')\n",
        "    play_df_cleaned['StadiumType'] = play_df_cleaned['StadiumType'].str.replace(r'Indoors|Indoor, Roof Closed|Indoor, Open Roof', 'Indoor')\n",
        "    play_df_cleaned['StadiumType'] = play_df_cleaned['StadiumType'].str.replace(r'Closed Dome|Domed, closed|Domed, Open|Domed, open|Dome, closed|Domed', 'Dome')\n",
        "    play_df_cleaned['StadiumType'] = play_df_cleaned['StadiumType'].str.replace(r'Retr. Roof-Closed|Outdoor Retr Roof-Open|Retr. Roof - Closed|Retr. Roof-Open|Retr. Roof - Open|Retr. Roof Closed', 'Retractable Roof')\n",
        "    play_df_cleaned['StadiumType'] = play_df_cleaned['StadiumType'].str.replace('Open', 'Outdoor')\n",
        "    play_df_cleaned['StadiumType'] = play_df_cleaned.apply(lambda row: clean_stadiumtype(row), axis=1)\n",
        "\n",
        "    # clean Weather\n",
        "    play_df_cleaned['Weather'] = play_df_cleaned.apply(lambda row: clean_weather(row), axis=1)\n",
        "\n",
        "    return play_df_cleaned"
      ]
    },
    {
      "cell_type": "code",
      "execution_count": null,
      "metadata": {
        "colab": {
          "base_uri": "https://localhost:8080/"
        },
        "id": "LaWxyn2RcyxZ",
        "outputId": "8809954f-f7b0-41ea-ec2b-93bc30fd0079"
      },
      "outputs": [
        {
          "output_type": "stream",
          "name": "stderr",
          "text": [
            "<ipython-input-5-a7d17a9c9ee9>:56: FutureWarning: The default value of regex will change from True to False in a future version.\n",
            "  play_df_cleaned['StadiumType'] = play_df_cleaned['StadiumType'].str.replace(r'Oudoor|Outdoors|Ourdoor|Outddors|Outdor|Outside', 'Outdoor')\n",
            "<ipython-input-5-a7d17a9c9ee9>:57: FutureWarning: The default value of regex will change from True to False in a future version.\n",
            "  play_df_cleaned['StadiumType'] = play_df_cleaned['StadiumType'].str.replace(r'Indoors|Indoor, Roof Closed|Indoor, Open Roof', 'Indoor')\n",
            "<ipython-input-5-a7d17a9c9ee9>:58: FutureWarning: The default value of regex will change from True to False in a future version.\n",
            "  play_df_cleaned['StadiumType'] = play_df_cleaned['StadiumType'].str.replace(r'Closed Dome|Domed, closed|Domed, Open|Domed, open|Dome, closed|Domed', 'Dome')\n",
            "<ipython-input-5-a7d17a9c9ee9>:59: FutureWarning: The default value of regex will change from True to False in a future version.\n",
            "  play_df_cleaned['StadiumType'] = play_df_cleaned['StadiumType'].str.replace(r'Retr. Roof-Closed|Outdoor Retr Roof-Open|Retr. Roof - Closed|Retr. Roof-Open|Retr. Roof - Open|Retr. Roof Closed', 'Retractable Roof')\n"
          ]
        }
      ],
      "source": [
        "play_df_cleaned = clean_play_df(play_df)\n",
        "game_df_cleaned = play_df_cleaned[['GameID', 'StadiumType', 'FieldType', 'Weather', 'Temperature']].drop_duplicates().reset_index().drop(columns=['index'])"
      ]
    },
    {
      "cell_type": "code",
      "execution_count": null,
      "metadata": {
        "colab": {
          "base_uri": "https://localhost:8080/"
        },
        "id": "x9SScd7Kf1mU",
        "outputId": "bb8d1a5d-06d9-4117-94ca-3351fa867fd5"
      },
      "outputs": [
        {
          "output_type": "stream",
          "name": "stdout",
          "text": [
            "There are 105 injury records in total.\n"
          ]
        }
      ],
      "source": [
        "#Vejamos rapidamente as lesões:\n",
        "print('There are {} injury records in total.'.format(len(injury_df)))"
      ]
    },
    {
      "cell_type": "code",
      "execution_count": null,
      "metadata": {
        "colab": {
          "base_uri": "https://localhost:8080/"
        },
        "id": "HxvJfYEGf6WJ",
        "outputId": "308b8055-1b9e-48eb-e001-c9032b8402d0"
      },
      "outputs": [
        {
          "output_type": "stream",
          "name": "stdout",
          "text": [
            "100 unique players injured\n"
          ]
        }
      ],
      "source": [
        "print('{} unique players injured'.format(len(injury_df.PlayerKey.unique())))"
      ]
    },
    {
      "cell_type": "code",
      "execution_count": null,
      "metadata": {
        "colab": {
          "base_uri": "https://localhost:8080/"
        },
        "id": "e-kaiRkUf-3i",
        "outputId": "ae780da0-8e5b-422a-e1db-68c76c48a373"
      },
      "outputs": [
        {
          "output_type": "stream",
          "name": "stdout",
          "text": [
            "There are 28 PlayKey values missing.\n"
          ]
        }
      ],
      "source": [
        "#Isso significa que há jogadores lesionados duas vezes!\n",
        "\n",
        "print('There are {} PlayKey values missing.'.format(len(injury_df) - injury_df.PlayKey.count()))"
      ]
    },
    {
      "cell_type": "code",
      "execution_count": null,
      "metadata": {
        "id": "2RqExV0dgkfM"
      },
      "outputs": [],
      "source": [
        "# joined cleaned games dataset and injury dataset\n",
        "game_injury_df = injury_df.set_index('GameID').join(game_df_cleaned.set_index('GameID'), how = 'outer')\n",
        "\n",
        "# fill null values for the injury columns with zeros\n",
        "game_injury_df['DM_M1'] = game_injury_df['DM_M1'].fillna(0).astype(int)\n",
        "game_injury_df['DM_M7'] = game_injury_df['DM_M7'].fillna(0).astype(int)\n",
        "game_injury_df['DM_M28'] = game_injury_df['DM_M28'].fillna(0).astype(int)\n",
        "game_injury_df['DM_M42'] = game_injury_df['DM_M42'].fillna(0).astype(int)\n",
        "\n",
        "game_injury_df.DM_M1 = game_injury_df.DM_M1 - game_injury_df.DM_M7\n",
        "game_injury_df.DM_M7 = game_injury_df.DM_M7 - game_injury_df.DM_M28\n",
        "game_injury_df.DM_M28 = game_injury_df.DM_M28 - game_injury_df.DM_M42\n",
        "\n",
        "# introduce a column with a flag indicating an injury\n",
        "game_injury_df['Injury'] = game_injury_df['DM_M1'] + game_injury_df['DM_M7'] + game_injury_df['DM_M28'] + game_injury_df['DM_M42']\n",
        "\n",
        "# drop duplicated surface column\n",
        "game_injury_df = game_injury_df.drop(columns=['Surface'])\n",
        "\n",
        "# drop play-level features just for now\n",
        "game_injury_df = game_injury_df.drop(columns=['PlayerKey', 'PlayKey'])\n",
        "\n",
        "# create dummy variables\n",
        "game_injury_df_dummies = pd.get_dummies(game_injury_df, dummy_na = True, drop_first = True).drop(columns=['FieldType_nan'])"
      ]
    },
    {
      "cell_type": "code",
      "execution_count": null,
      "metadata": {
        "id": "eqfLSkpZiqQd"
      },
      "outputs": [],
      "source": [
        "# joined cleaned games dataset and injury dataset\n",
        "play_injury_df = injury_df.dropna(subset=['PlayKey']).set_index('PlayKey').join(play_df_cleaned.set_index('PlayKey'), how = 'outer', lsuffix='_left', rsuffix='_right')\n",
        "\n",
        "# fill null values for the injury columns with zeros\n",
        "play_injury_df['DM_M1'] = play_injury_df['DM_M1'].fillna(0).astype(int)\n",
        "play_injury_df['DM_M7'] = play_injury_df['DM_M7'].fillna(0).astype(int)\n",
        "play_injury_df['DM_M28'] = play_injury_df['DM_M28'].fillna(0).astype(int)\n",
        "play_injury_df['DM_M42'] = play_injury_df['DM_M42'].fillna(0).astype(int)\n",
        "\n",
        "# introduce a column with a flag indicating an injury\n",
        "play_injury_df.DM_M1 = play_injury_df.DM_M1 - play_injury_df.DM_M7\n",
        "play_injury_df.DM_M7 = play_injury_df.DM_M7 - play_injury_df.DM_M28\n",
        "play_injury_df.DM_M28 = play_injury_df.DM_M28 - play_injury_df.DM_M42\n",
        "\n",
        "play_injury_df['Injury'] = play_injury_df['DM_M1'] + play_injury_df['DM_M7'] + play_injury_df['DM_M28']+ play_injury_df['DM_M42']\n",
        "\n",
        "# drop duplicated surface column\n",
        "play_injury_df = play_injury_df.drop(columns=['Surface'])\n",
        "\n",
        "# create dummy variables\n",
        "play_injury_df_dummies = pd.get_dummies(play_injury_df, columns = ['PlayType', 'PositionGroup'], dummy_na = True, drop_first = True)"
      ]
    },
    {
      "cell_type": "code",
      "execution_count": null,
      "metadata": {
        "id": "8dwKR6phiBkv"
      },
      "outputs": [],
      "source": [
        "features_df = play_injury_df.copy().reset_index()\n",
        "features_df = features_df.drop(columns=['PlayerKey_left','GameID_left','BodyPart', 'PlayKey', 'PlayerKey_right', 'GameID_right', 'DM_M1', 'DM_M7', 'DM_M28', 'DM_M42'])"
      ]
    },
    {
      "cell_type": "code",
      "execution_count": null,
      "metadata": {
        "id": "4p0IBaEtL2qV"
      },
      "outputs": [],
      "source": [
        "# reset index\n",
        "features_df = play_injury_df.copy().reset_index()\n",
        "# drop the irrelevant columns\n",
        "features_df = features_df.drop(columns=['PlayerKey_left','GameID_left','BodyPart', 'PlayKey', 'PlayerKey_right', 'GameID_right', 'DM_M1', 'DM_M7', 'DM_M28', 'DM_M42'])\n",
        "# convert into dummies\n",
        "features_df = pd.get_dummies(features_df, dummy_na = False, drop_first = True)"
      ]
    },
    {
      "cell_type": "code",
      "source": [
        "#separando o features_df em 2 datasets, um com injury igual a 0 e o outro com injury igual a 1_\n",
        "features_df0 = features_df[features_df['Injury'] < 1]\n",
        "features_df1 = features_df[features_df['Injury'] >= 1]"
      ],
      "metadata": {
        "id": "cQmWyD8MKTcR"
      },
      "execution_count": null,
      "outputs": []
    },
    {
      "cell_type": "code",
      "source": [
        "#selecionando aleatoriamente 770 casos de não lesão\n",
        "features_df770 = features_df0.sample(n=770)"
      ],
      "metadata": {
        "id": "HuAknoPOKfwy"
      },
      "execution_count": null,
      "outputs": []
    },
    {
      "cell_type": "code",
      "source": [
        "#multilplicando o dataframe de lesões por 10\n",
        "features_df2 = pd.DataFrame(np.repeat(features_df1.values, 10, axis=0))\n",
        "features_df2.columns = features_df1.columns"
      ],
      "metadata": {
        "id": "lwwtTbiaKiG2"
      },
      "execution_count": null,
      "outputs": []
    },
    {
      "cell_type": "code",
      "source": [
        "#juntando o dataset de injury = 1 com as 223 amostras de treino\n",
        "frames = [features_df2, features_df770]\n",
        "new_treino_df = pd.concat(frames)\n",
        "new_treino_df.reset_index(inplace=True)\n",
        "new_treino_df = new_treino_df.drop(columns=['index'])"
      ],
      "metadata": {
        "id": "w2DCIn0AKl50"
      },
      "execution_count": null,
      "outputs": []
    },
    {
      "cell_type": "code",
      "execution_count": null,
      "metadata": {
        "id": "qTgJLWHDMAW1"
      },
      "outputs": [],
      "source": [
        "#separa em features e targets (treino)\n",
        "y = new_treino_df['Injury']\n",
        "X = new_treino_df.drop(columns=['Injury'])"
      ]
    },
    {
      "cell_type": "code",
      "execution_count": null,
      "metadata": {
        "id": "xHPDkC7zcwcv"
      },
      "outputs": [],
      "source": [
        "#Importar PCA\n",
        "from sklearn.decomposition import PCA\n",
        "\n",
        "#Padronizar os dados\n",
        "##StandardScaler é uma classe do scikit-learn que fornece uma implementação da padronização dos conjuntos de dados. A padronização é uma técnica importante, especialmente quando se utiliza algoritmos que são sensíveis à escala das variáveis, como é frequentemente o caso em modelos baseados em distância, como o k-Nearest Neighbors (k-NN) ou máquinas de vetores de suporte (SVM).\n",
        "from sklearn.preprocessing import StandardScaler\n",
        "\n",
        "scaler = StandardScaler() #scaler = StandardScaler(): Cria uma instância do StandardScaler. Esta instância será usada para ajustar os parâmetros de padronização (média e desvio padrão) aos dados de treinamento e, em seguida, aplicar a mesma transformação aos dados de teste.\n",
        "\n",
        "X_padronizado = scaler.fit_transform(X) #X_padronizado = scaler.fit_transform(X_train): Aplica a padronização aos dados (features_df). O método fit_transform ajusta o scaler aos dados de treinamento, calculando a média e o desvio padrão, e, em seguida, aplica a transformação aos dados, resultando em X_padronizado.\n"
      ]
    },
    {
      "cell_type": "code",
      "execution_count": null,
      "metadata": {
        "colab": {
          "base_uri": "https://localhost:8080/"
        },
        "id": "zdkCDTdHD2hk",
        "outputId": "89e00336-d830-45d1-fe8c-50351695c96f"
      },
      "outputs": [
        {
          "output_type": "execute_result",
          "data": {
            "text/plain": [
              "(1540, 62)"
            ]
          },
          "metadata": {},
          "execution_count": 20
        }
      ],
      "source": [
        "X_padronizado.shape"
      ]
    },
    {
      "cell_type": "code",
      "execution_count": null,
      "metadata": {
        "colab": {
          "base_uri": "https://localhost:8080/"
        },
        "id": "ErWMv4_7eCxy",
        "outputId": "ac49cf1c-211f-4a39-f0fc-858b4d38ccd7"
      },
      "outputs": [
        {
          "output_type": "stream",
          "name": "stdout",
          "text": [
            "Original shape: (1540, 62)\n",
            "Reduced shape: (1540, 30)\n"
          ]
        }
      ],
      "source": [
        "#Aplicar o PCA\n",
        "\n",
        "num_componentes = 30  # ajuste conforme necessário\n",
        "pca = PCA(n_components=num_componentes)\n",
        "X_pca = pca.fit_transform(X_padronizado)\n",
        "\n",
        "\n",
        "#X_pca = pca.fit_transform(X_padronizado) #X_pca =\n",
        "#pca.fit_transform(X_padronizado): Ajusta o modelo PCA aos dados\n",
        "#padronizados de treinamento (X_padronizado). Durante esse\n",
        "#processo, o PCA calcula os componentes principais\n",
        "#(combinações lineares das características originais) que explicam\n",
        "#a maior parte da variância nos dados.\n",
        "print(\"Original shape: {}\".format(str(X.shape)))\n",
        "print(\"Reduced shape: {}\".format(str(X_pca.shape)))"
      ]
    },
    {
      "cell_type": "code",
      "execution_count": null,
      "metadata": {
        "id": "5SBhHdD2GNVU"
      },
      "outputs": [],
      "source": [
        "X_pca = pd.DataFrame(X_pca)\n",
        "y_pca = pd.DataFrame(y)\n"
      ]
    },
    {
      "cell_type": "code",
      "source": [
        "display(y)"
      ],
      "metadata": {
        "colab": {
          "base_uri": "https://localhost:8080/",
          "height": 239
        },
        "id": "cdpL5l-6P42R",
        "outputId": "846c0313-3c75-4d16-be3c-b56a052d9bf3"
      },
      "execution_count": null,
      "outputs": [
        {
          "output_type": "display_data",
          "data": {
            "text/plain": [
              "0       1\n",
              "1       1\n",
              "2       1\n",
              "3       1\n",
              "4       1\n",
              "       ..\n",
              "1535    0\n",
              "1536    0\n",
              "1537    0\n",
              "1538    0\n",
              "1539    0\n",
              "Name: Injury, Length: 1540, dtype: int64"
            ]
          },
          "metadata": {}
        }
      ]
    },
    {
      "cell_type": "code",
      "execution_count": null,
      "metadata": {
        "id": "rzVxXUcpAviE"
      },
      "outputs": [],
      "source": [
        "skf = StratifiedKFold(n_splits=2, shuffle = True)\n",
        "#usa separação estratificada para treinar o conjunto de treino para distribuir igualmente os rótulos em todas as classes\n",
        "for train_index, test_index in skf.split(X_pca, y):\n",
        "    X_train, X_teste = X_pca.values[train_index, :], X_pca.values[test_index, :]\n",
        "    y_train, y_teste = y[train_index], y[test_index]"
      ]
    },
    {
      "cell_type": "code",
      "execution_count": null,
      "metadata": {
        "colab": {
          "base_uri": "https://localhost:8080/"
        },
        "id": "SLl3X3YOAUAU",
        "outputId": "15b0f9c2-01d0-46b0-8f4b-e830435f9a06"
      },
      "outputs": [
        {
          "output_type": "stream",
          "name": "stdout",
          "text": [
            "Accuracy on training set: 1.000\n",
            "Accuracy on test set: 0.926\n",
            "F1 Score: 0.9263819119771199\n"
          ]
        }
      ],
      "source": [
        "from sklearn.tree import DecisionTreeClassifier\n",
        "\n",
        "tree = DecisionTreeClassifier(random_state=0)\n",
        "tree.fit(X_train, y_train)\n",
        "print(\"Accuracy on training set: {:.3f}\".format(tree.score(X_train, y_train)))\n",
        "print(\"Accuracy on test set: {:.3f}\".format(tree.score(X_teste, y_teste)))\n",
        "\n",
        "y_pred = tree.predict(X_teste)\n",
        "f1 = f1_score(y_pred, y_teste, average=\"weighted\")\n",
        "print(\"F1 Score:\", f1)"
      ]
    },
    {
      "cell_type": "code",
      "execution_count": null,
      "metadata": {
        "id": "_SGDsz4kA4oc",
        "colab": {
          "base_uri": "https://localhost:8080/"
        },
        "outputId": "35ae0a28-165d-42db-f765-ee80b64dee0d"
      },
      "outputs": [
        {
          "output_type": "stream",
          "name": "stdout",
          "text": [
            "Accuracy on training set: 0.973\n",
            "Accuracy on test set: 0.892\n",
            "F1 Score: 0.8934749706728389\n"
          ]
        }
      ],
      "source": [
        "tree = DecisionTreeClassifier(max_depth=10, random_state=0)\n",
        "tree.fit(X_train, y_train)\n",
        "print(\"Accuracy on training set: {:.3f}\".format(tree.score(X_train, y_train)))\n",
        "print(\"Accuracy on test set: {:.3f}\".format(tree.score(X_teste, y_teste)))\n",
        "\n",
        "y_pred = tree.predict(X_teste)\n",
        "f1 = f1_score(y_pred, y_teste, average=\"weighted\")\n",
        "print(\"F1 Score:\", f1)"
      ]
    },
    {
      "cell_type": "code",
      "execution_count": null,
      "metadata": {
        "id": "F8xVToJQA3G8",
        "colab": {
          "base_uri": "https://localhost:8080/"
        },
        "outputId": "b4ef9f3c-d72d-4ee2-bfbc-24898090ebb8"
      },
      "outputs": [
        {
          "output_type": "stream",
          "name": "stdout",
          "text": [
            "Accuracy on training set: 0.926\n",
            "Accuracy on test set: 0.832\n",
            "F1 Score: 0.834159779614325\n"
          ]
        }
      ],
      "source": [
        "tree = DecisionTreeClassifier(max_depth=7, random_state=0)\n",
        "tree.fit(X_train, y_train)\n",
        "print(\"Accuracy on training set: {:.3f}\".format(tree.score(X_train, y_train)))\n",
        "print(\"Accuracy on test set: {:.3f}\".format(tree.score(X_teste, y_teste)))\n",
        "\n",
        "y_pred = tree.predict(X_teste)\n",
        "f1 = f1_score(y_pred, y_teste, average=\"weighted\")\n",
        "print(\"F1 Score:\", f1)"
      ]
    },
    {
      "cell_type": "code",
      "source": [
        "tree = DecisionTreeClassifier(max_depth=5, random_state=0)\n",
        "tree.fit(X_train, y_train)\n",
        "print(\"Accuracy on training set: {:.3f}\".format(tree.score(X_train, y_train)))\n",
        "print(\"Accuracy on test set: {:.3f}\".format(tree.score(X_teste, y_teste)))\n",
        "\n",
        "y_pred = tree.predict(X_teste)\n",
        "f1 = f1_score(y_pred, y_teste, average=\"weighted\")\n",
        "print(\"F1 Score:\", f1)"
      ],
      "metadata": {
        "colab": {
          "base_uri": "https://localhost:8080/"
        },
        "id": "P_Jy3ztQM9cS",
        "outputId": "68559041-1f8c-4feb-abc1-655d7992abe4"
      },
      "execution_count": null,
      "outputs": [
        {
          "output_type": "stream",
          "name": "stdout",
          "text": [
            "Accuracy on training set: 0.845\n",
            "Accuracy on test set: 0.766\n",
            "F1 Score: 0.7735344885536904\n"
          ]
        }
      ]
    },
    {
      "cell_type": "code",
      "source": [
        "colunas = range(1,31)\n",
        "col = [\"X_pca{:02d}\".format(x) for x in colunas]\n",
        "\n",
        "X_pca = X_pca.set_axis(col, axis=1)"
      ],
      "metadata": {
        "id": "rxEKETkTRf9B"
      },
      "execution_count": null,
      "outputs": []
    },
    {
      "cell_type": "code",
      "source": [
        "display(X_pca)"
      ],
      "metadata": {
        "colab": {
          "base_uri": "https://localhost:8080/",
          "height": 423
        },
        "id": "zvceKEnhUe7h",
        "outputId": "99cf20f2-b737-49ab-9e47-84d6ee7df047"
      },
      "execution_count": null,
      "outputs": [
        {
          "output_type": "display_data",
          "data": {
            "text/plain": [
              "       X_pca01   X_pca02   X_pca03   X_pca04   X_pca05   X_pca06   X_pca07  \\\n",
              "0    -0.976367 -2.486283  3.458447  2.814583  2.478082  1.971061 -1.428537   \n",
              "1    -0.976367 -2.486283  3.458447  2.814583  2.478082  1.971061 -1.428537   \n",
              "2    -0.976367 -2.486283  3.458447  2.814583  2.478082  1.971061 -1.428537   \n",
              "3    -0.976367 -2.486283  3.458447  2.814583  2.478082  1.971061 -1.428537   \n",
              "4    -0.976367 -2.486283  3.458447  2.814583  2.478082  1.971061 -1.428537   \n",
              "...        ...       ...       ...       ...       ...       ...       ...   \n",
              "1535  2.182013 -2.843537 -1.474367  0.055535  0.541050 -0.200248  0.282374   \n",
              "1536 -2.048781 -0.214770  0.200585 -0.859393  1.030443 -0.701731  0.074276   \n",
              "1537  0.661257  1.534882  1.716712 -1.121616 -3.024501  0.973408 -2.041869   \n",
              "1538  1.690427  2.683596  1.645419 -1.397486 -3.200799  0.926933 -1.898488   \n",
              "1539 -2.739150  0.239394 -1.605585  0.017760 -0.251586 -0.079544 -0.137855   \n",
              "\n",
              "       X_pca08   X_pca09   X_pca10  ...   X_pca21   X_pca22   X_pca23  \\\n",
              "0     3.787535 -0.570213  0.098727  ...  0.148066 -0.099733  0.226222   \n",
              "1     3.787535 -0.570213  0.098727  ...  0.148066 -0.099733  0.226222   \n",
              "2     3.787535 -0.570213  0.098727  ...  0.148066 -0.099733  0.226222   \n",
              "3     3.787535 -0.570213  0.098727  ...  0.148066 -0.099733  0.226222   \n",
              "4     3.787535 -0.570213  0.098727  ...  0.148066 -0.099733  0.226222   \n",
              "...        ...       ...       ...  ...       ...       ...       ...   \n",
              "1535 -0.996527 -1.301885  0.175066  ... -0.156270 -0.137752  0.495664   \n",
              "1536 -1.096199 -1.340973  0.531031  ...  0.585079 -0.249535  0.725199   \n",
              "1537  0.675838 -0.677686 -2.115795  ... -1.032579 -2.845180  1.814852   \n",
              "1538  0.503322 -1.444647 -0.416535  ...  1.116384  1.634882 -1.299387   \n",
              "1539  0.422849 -0.181885 -0.478988  ... -0.720972  0.557322 -0.931035   \n",
              "\n",
              "       X_pca24   X_pca25   X_pca26   X_pca27   X_pca28   X_pca29   X_pca30  \n",
              "0    -0.258717 -0.459103  0.121997 -0.187978  0.014588  0.077220 -0.024907  \n",
              "1    -0.258717 -0.459103  0.121997 -0.187978  0.014588  0.077220 -0.024907  \n",
              "2    -0.258717 -0.459103  0.121997 -0.187978  0.014588  0.077220 -0.024907  \n",
              "3    -0.258717 -0.459103  0.121997 -0.187978  0.014588  0.077220 -0.024907  \n",
              "4    -0.258717 -0.459103  0.121997 -0.187978  0.014588  0.077220 -0.024907  \n",
              "...        ...       ...       ...       ...       ...       ...       ...  \n",
              "1535  0.015946  0.153021 -0.032236 -0.675218 -0.614993 -0.245919  0.045232  \n",
              "1536  0.639822  0.788271  0.212053  0.458906 -0.046573 -0.454171  0.132404  \n",
              "1537  1.772847 -1.049348 -0.274041  1.091251  0.142234 -0.135762  1.232633  \n",
              "1538 -0.675287  0.866428  0.231501 -1.008578 -0.445275  0.949576 -1.433919  \n",
              "1539 -0.901531 -3.629849 -0.109711  0.832225  0.230570  0.481010 -1.587200  \n",
              "\n",
              "[1540 rows x 30 columns]"
            ],
            "text/html": [
              "\n",
              "  <div id=\"df-238bf4d2-3b3e-4382-8693-fd86c8fbbcf2\" class=\"colab-df-container\">\n",
              "    <div>\n",
              "<style scoped>\n",
              "    .dataframe tbody tr th:only-of-type {\n",
              "        vertical-align: middle;\n",
              "    }\n",
              "\n",
              "    .dataframe tbody tr th {\n",
              "        vertical-align: top;\n",
              "    }\n",
              "\n",
              "    .dataframe thead th {\n",
              "        text-align: right;\n",
              "    }\n",
              "</style>\n",
              "<table border=\"1\" class=\"dataframe\">\n",
              "  <thead>\n",
              "    <tr style=\"text-align: right;\">\n",
              "      <th></th>\n",
              "      <th>X_pca01</th>\n",
              "      <th>X_pca02</th>\n",
              "      <th>X_pca03</th>\n",
              "      <th>X_pca04</th>\n",
              "      <th>X_pca05</th>\n",
              "      <th>X_pca06</th>\n",
              "      <th>X_pca07</th>\n",
              "      <th>X_pca08</th>\n",
              "      <th>X_pca09</th>\n",
              "      <th>X_pca10</th>\n",
              "      <th>...</th>\n",
              "      <th>X_pca21</th>\n",
              "      <th>X_pca22</th>\n",
              "      <th>X_pca23</th>\n",
              "      <th>X_pca24</th>\n",
              "      <th>X_pca25</th>\n",
              "      <th>X_pca26</th>\n",
              "      <th>X_pca27</th>\n",
              "      <th>X_pca28</th>\n",
              "      <th>X_pca29</th>\n",
              "      <th>X_pca30</th>\n",
              "    </tr>\n",
              "  </thead>\n",
              "  <tbody>\n",
              "    <tr>\n",
              "      <th>0</th>\n",
              "      <td>-0.976367</td>\n",
              "      <td>-2.486283</td>\n",
              "      <td>3.458447</td>\n",
              "      <td>2.814583</td>\n",
              "      <td>2.478082</td>\n",
              "      <td>1.971061</td>\n",
              "      <td>-1.428537</td>\n",
              "      <td>3.787535</td>\n",
              "      <td>-0.570213</td>\n",
              "      <td>0.098727</td>\n",
              "      <td>...</td>\n",
              "      <td>0.148066</td>\n",
              "      <td>-0.099733</td>\n",
              "      <td>0.226222</td>\n",
              "      <td>-0.258717</td>\n",
              "      <td>-0.459103</td>\n",
              "      <td>0.121997</td>\n",
              "      <td>-0.187978</td>\n",
              "      <td>0.014588</td>\n",
              "      <td>0.077220</td>\n",
              "      <td>-0.024907</td>\n",
              "    </tr>\n",
              "    <tr>\n",
              "      <th>1</th>\n",
              "      <td>-0.976367</td>\n",
              "      <td>-2.486283</td>\n",
              "      <td>3.458447</td>\n",
              "      <td>2.814583</td>\n",
              "      <td>2.478082</td>\n",
              "      <td>1.971061</td>\n",
              "      <td>-1.428537</td>\n",
              "      <td>3.787535</td>\n",
              "      <td>-0.570213</td>\n",
              "      <td>0.098727</td>\n",
              "      <td>...</td>\n",
              "      <td>0.148066</td>\n",
              "      <td>-0.099733</td>\n",
              "      <td>0.226222</td>\n",
              "      <td>-0.258717</td>\n",
              "      <td>-0.459103</td>\n",
              "      <td>0.121997</td>\n",
              "      <td>-0.187978</td>\n",
              "      <td>0.014588</td>\n",
              "      <td>0.077220</td>\n",
              "      <td>-0.024907</td>\n",
              "    </tr>\n",
              "    <tr>\n",
              "      <th>2</th>\n",
              "      <td>-0.976367</td>\n",
              "      <td>-2.486283</td>\n",
              "      <td>3.458447</td>\n",
              "      <td>2.814583</td>\n",
              "      <td>2.478082</td>\n",
              "      <td>1.971061</td>\n",
              "      <td>-1.428537</td>\n",
              "      <td>3.787535</td>\n",
              "      <td>-0.570213</td>\n",
              "      <td>0.098727</td>\n",
              "      <td>...</td>\n",
              "      <td>0.148066</td>\n",
              "      <td>-0.099733</td>\n",
              "      <td>0.226222</td>\n",
              "      <td>-0.258717</td>\n",
              "      <td>-0.459103</td>\n",
              "      <td>0.121997</td>\n",
              "      <td>-0.187978</td>\n",
              "      <td>0.014588</td>\n",
              "      <td>0.077220</td>\n",
              "      <td>-0.024907</td>\n",
              "    </tr>\n",
              "    <tr>\n",
              "      <th>3</th>\n",
              "      <td>-0.976367</td>\n",
              "      <td>-2.486283</td>\n",
              "      <td>3.458447</td>\n",
              "      <td>2.814583</td>\n",
              "      <td>2.478082</td>\n",
              "      <td>1.971061</td>\n",
              "      <td>-1.428537</td>\n",
              "      <td>3.787535</td>\n",
              "      <td>-0.570213</td>\n",
              "      <td>0.098727</td>\n",
              "      <td>...</td>\n",
              "      <td>0.148066</td>\n",
              "      <td>-0.099733</td>\n",
              "      <td>0.226222</td>\n",
              "      <td>-0.258717</td>\n",
              "      <td>-0.459103</td>\n",
              "      <td>0.121997</td>\n",
              "      <td>-0.187978</td>\n",
              "      <td>0.014588</td>\n",
              "      <td>0.077220</td>\n",
              "      <td>-0.024907</td>\n",
              "    </tr>\n",
              "    <tr>\n",
              "      <th>4</th>\n",
              "      <td>-0.976367</td>\n",
              "      <td>-2.486283</td>\n",
              "      <td>3.458447</td>\n",
              "      <td>2.814583</td>\n",
              "      <td>2.478082</td>\n",
              "      <td>1.971061</td>\n",
              "      <td>-1.428537</td>\n",
              "      <td>3.787535</td>\n",
              "      <td>-0.570213</td>\n",
              "      <td>0.098727</td>\n",
              "      <td>...</td>\n",
              "      <td>0.148066</td>\n",
              "      <td>-0.099733</td>\n",
              "      <td>0.226222</td>\n",
              "      <td>-0.258717</td>\n",
              "      <td>-0.459103</td>\n",
              "      <td>0.121997</td>\n",
              "      <td>-0.187978</td>\n",
              "      <td>0.014588</td>\n",
              "      <td>0.077220</td>\n",
              "      <td>-0.024907</td>\n",
              "    </tr>\n",
              "    <tr>\n",
              "      <th>...</th>\n",
              "      <td>...</td>\n",
              "      <td>...</td>\n",
              "      <td>...</td>\n",
              "      <td>...</td>\n",
              "      <td>...</td>\n",
              "      <td>...</td>\n",
              "      <td>...</td>\n",
              "      <td>...</td>\n",
              "      <td>...</td>\n",
              "      <td>...</td>\n",
              "      <td>...</td>\n",
              "      <td>...</td>\n",
              "      <td>...</td>\n",
              "      <td>...</td>\n",
              "      <td>...</td>\n",
              "      <td>...</td>\n",
              "      <td>...</td>\n",
              "      <td>...</td>\n",
              "      <td>...</td>\n",
              "      <td>...</td>\n",
              "      <td>...</td>\n",
              "    </tr>\n",
              "    <tr>\n",
              "      <th>1535</th>\n",
              "      <td>2.182013</td>\n",
              "      <td>-2.843537</td>\n",
              "      <td>-1.474367</td>\n",
              "      <td>0.055535</td>\n",
              "      <td>0.541050</td>\n",
              "      <td>-0.200248</td>\n",
              "      <td>0.282374</td>\n",
              "      <td>-0.996527</td>\n",
              "      <td>-1.301885</td>\n",
              "      <td>0.175066</td>\n",
              "      <td>...</td>\n",
              "      <td>-0.156270</td>\n",
              "      <td>-0.137752</td>\n",
              "      <td>0.495664</td>\n",
              "      <td>0.015946</td>\n",
              "      <td>0.153021</td>\n",
              "      <td>-0.032236</td>\n",
              "      <td>-0.675218</td>\n",
              "      <td>-0.614993</td>\n",
              "      <td>-0.245919</td>\n",
              "      <td>0.045232</td>\n",
              "    </tr>\n",
              "    <tr>\n",
              "      <th>1536</th>\n",
              "      <td>-2.048781</td>\n",
              "      <td>-0.214770</td>\n",
              "      <td>0.200585</td>\n",
              "      <td>-0.859393</td>\n",
              "      <td>1.030443</td>\n",
              "      <td>-0.701731</td>\n",
              "      <td>0.074276</td>\n",
              "      <td>-1.096199</td>\n",
              "      <td>-1.340973</td>\n",
              "      <td>0.531031</td>\n",
              "      <td>...</td>\n",
              "      <td>0.585079</td>\n",
              "      <td>-0.249535</td>\n",
              "      <td>0.725199</td>\n",
              "      <td>0.639822</td>\n",
              "      <td>0.788271</td>\n",
              "      <td>0.212053</td>\n",
              "      <td>0.458906</td>\n",
              "      <td>-0.046573</td>\n",
              "      <td>-0.454171</td>\n",
              "      <td>0.132404</td>\n",
              "    </tr>\n",
              "    <tr>\n",
              "      <th>1537</th>\n",
              "      <td>0.661257</td>\n",
              "      <td>1.534882</td>\n",
              "      <td>1.716712</td>\n",
              "      <td>-1.121616</td>\n",
              "      <td>-3.024501</td>\n",
              "      <td>0.973408</td>\n",
              "      <td>-2.041869</td>\n",
              "      <td>0.675838</td>\n",
              "      <td>-0.677686</td>\n",
              "      <td>-2.115795</td>\n",
              "      <td>...</td>\n",
              "      <td>-1.032579</td>\n",
              "      <td>-2.845180</td>\n",
              "      <td>1.814852</td>\n",
              "      <td>1.772847</td>\n",
              "      <td>-1.049348</td>\n",
              "      <td>-0.274041</td>\n",
              "      <td>1.091251</td>\n",
              "      <td>0.142234</td>\n",
              "      <td>-0.135762</td>\n",
              "      <td>1.232633</td>\n",
              "    </tr>\n",
              "    <tr>\n",
              "      <th>1538</th>\n",
              "      <td>1.690427</td>\n",
              "      <td>2.683596</td>\n",
              "      <td>1.645419</td>\n",
              "      <td>-1.397486</td>\n",
              "      <td>-3.200799</td>\n",
              "      <td>0.926933</td>\n",
              "      <td>-1.898488</td>\n",
              "      <td>0.503322</td>\n",
              "      <td>-1.444647</td>\n",
              "      <td>-0.416535</td>\n",
              "      <td>...</td>\n",
              "      <td>1.116384</td>\n",
              "      <td>1.634882</td>\n",
              "      <td>-1.299387</td>\n",
              "      <td>-0.675287</td>\n",
              "      <td>0.866428</td>\n",
              "      <td>0.231501</td>\n",
              "      <td>-1.008578</td>\n",
              "      <td>-0.445275</td>\n",
              "      <td>0.949576</td>\n",
              "      <td>-1.433919</td>\n",
              "    </tr>\n",
              "    <tr>\n",
              "      <th>1539</th>\n",
              "      <td>-2.739150</td>\n",
              "      <td>0.239394</td>\n",
              "      <td>-1.605585</td>\n",
              "      <td>0.017760</td>\n",
              "      <td>-0.251586</td>\n",
              "      <td>-0.079544</td>\n",
              "      <td>-0.137855</td>\n",
              "      <td>0.422849</td>\n",
              "      <td>-0.181885</td>\n",
              "      <td>-0.478988</td>\n",
              "      <td>...</td>\n",
              "      <td>-0.720972</td>\n",
              "      <td>0.557322</td>\n",
              "      <td>-0.931035</td>\n",
              "      <td>-0.901531</td>\n",
              "      <td>-3.629849</td>\n",
              "      <td>-0.109711</td>\n",
              "      <td>0.832225</td>\n",
              "      <td>0.230570</td>\n",
              "      <td>0.481010</td>\n",
              "      <td>-1.587200</td>\n",
              "    </tr>\n",
              "  </tbody>\n",
              "</table>\n",
              "<p>1540 rows × 30 columns</p>\n",
              "</div>\n",
              "    <div class=\"colab-df-buttons\">\n",
              "\n",
              "  <div class=\"colab-df-container\">\n",
              "    <button class=\"colab-df-convert\" onclick=\"convertToInteractive('df-238bf4d2-3b3e-4382-8693-fd86c8fbbcf2')\"\n",
              "            title=\"Convert this dataframe to an interactive table.\"\n",
              "            style=\"display:none;\">\n",
              "\n",
              "  <svg xmlns=\"http://www.w3.org/2000/svg\" height=\"24px\" viewBox=\"0 -960 960 960\">\n",
              "    <path d=\"M120-120v-720h720v720H120Zm60-500h600v-160H180v160Zm220 220h160v-160H400v160Zm0 220h160v-160H400v160ZM180-400h160v-160H180v160Zm440 0h160v-160H620v160ZM180-180h160v-160H180v160Zm440 0h160v-160H620v160Z\"/>\n",
              "  </svg>\n",
              "    </button>\n",
              "\n",
              "  <style>\n",
              "    .colab-df-container {\n",
              "      display:flex;\n",
              "      gap: 12px;\n",
              "    }\n",
              "\n",
              "    .colab-df-convert {\n",
              "      background-color: #E8F0FE;\n",
              "      border: none;\n",
              "      border-radius: 50%;\n",
              "      cursor: pointer;\n",
              "      display: none;\n",
              "      fill: #1967D2;\n",
              "      height: 32px;\n",
              "      padding: 0 0 0 0;\n",
              "      width: 32px;\n",
              "    }\n",
              "\n",
              "    .colab-df-convert:hover {\n",
              "      background-color: #E2EBFA;\n",
              "      box-shadow: 0px 1px 2px rgba(60, 64, 67, 0.3), 0px 1px 3px 1px rgba(60, 64, 67, 0.15);\n",
              "      fill: #174EA6;\n",
              "    }\n",
              "\n",
              "    .colab-df-buttons div {\n",
              "      margin-bottom: 4px;\n",
              "    }\n",
              "\n",
              "    [theme=dark] .colab-df-convert {\n",
              "      background-color: #3B4455;\n",
              "      fill: #D2E3FC;\n",
              "    }\n",
              "\n",
              "    [theme=dark] .colab-df-convert:hover {\n",
              "      background-color: #434B5C;\n",
              "      box-shadow: 0px 1px 3px 1px rgba(0, 0, 0, 0.15);\n",
              "      filter: drop-shadow(0px 1px 2px rgba(0, 0, 0, 0.3));\n",
              "      fill: #FFFFFF;\n",
              "    }\n",
              "  </style>\n",
              "\n",
              "    <script>\n",
              "      const buttonEl =\n",
              "        document.querySelector('#df-238bf4d2-3b3e-4382-8693-fd86c8fbbcf2 button.colab-df-convert');\n",
              "      buttonEl.style.display =\n",
              "        google.colab.kernel.accessAllowed ? 'block' : 'none';\n",
              "\n",
              "      async function convertToInteractive(key) {\n",
              "        const element = document.querySelector('#df-238bf4d2-3b3e-4382-8693-fd86c8fbbcf2');\n",
              "        const dataTable =\n",
              "          await google.colab.kernel.invokeFunction('convertToInteractive',\n",
              "                                                    [key], {});\n",
              "        if (!dataTable) return;\n",
              "\n",
              "        const docLinkHtml = 'Like what you see? Visit the ' +\n",
              "          '<a target=\"_blank\" href=https://colab.research.google.com/notebooks/data_table.ipynb>data table notebook</a>'\n",
              "          + ' to learn more about interactive tables.';\n",
              "        element.innerHTML = '';\n",
              "        dataTable['output_type'] = 'display_data';\n",
              "        await google.colab.output.renderOutput(dataTable, element);\n",
              "        const docLink = document.createElement('div');\n",
              "        docLink.innerHTML = docLinkHtml;\n",
              "        element.appendChild(docLink);\n",
              "      }\n",
              "    </script>\n",
              "  </div>\n",
              "\n",
              "\n",
              "<div id=\"df-43ef7e78-ac0b-4810-a7fd-09e43c09e5f5\">\n",
              "  <button class=\"colab-df-quickchart\" onclick=\"quickchart('df-43ef7e78-ac0b-4810-a7fd-09e43c09e5f5')\"\n",
              "            title=\"Suggest charts\"\n",
              "            style=\"display:none;\">\n",
              "\n",
              "<svg xmlns=\"http://www.w3.org/2000/svg\" height=\"24px\"viewBox=\"0 0 24 24\"\n",
              "     width=\"24px\">\n",
              "    <g>\n",
              "        <path d=\"M19 3H5c-1.1 0-2 .9-2 2v14c0 1.1.9 2 2 2h14c1.1 0 2-.9 2-2V5c0-1.1-.9-2-2-2zM9 17H7v-7h2v7zm4 0h-2V7h2v10zm4 0h-2v-4h2v4z\"/>\n",
              "    </g>\n",
              "</svg>\n",
              "  </button>\n",
              "\n",
              "<style>\n",
              "  .colab-df-quickchart {\n",
              "      --bg-color: #E8F0FE;\n",
              "      --fill-color: #1967D2;\n",
              "      --hover-bg-color: #E2EBFA;\n",
              "      --hover-fill-color: #174EA6;\n",
              "      --disabled-fill-color: #AAA;\n",
              "      --disabled-bg-color: #DDD;\n",
              "  }\n",
              "\n",
              "  [theme=dark] .colab-df-quickchart {\n",
              "      --bg-color: #3B4455;\n",
              "      --fill-color: #D2E3FC;\n",
              "      --hover-bg-color: #434B5C;\n",
              "      --hover-fill-color: #FFFFFF;\n",
              "      --disabled-bg-color: #3B4455;\n",
              "      --disabled-fill-color: #666;\n",
              "  }\n",
              "\n",
              "  .colab-df-quickchart {\n",
              "    background-color: var(--bg-color);\n",
              "    border: none;\n",
              "    border-radius: 50%;\n",
              "    cursor: pointer;\n",
              "    display: none;\n",
              "    fill: var(--fill-color);\n",
              "    height: 32px;\n",
              "    padding: 0;\n",
              "    width: 32px;\n",
              "  }\n",
              "\n",
              "  .colab-df-quickchart:hover {\n",
              "    background-color: var(--hover-bg-color);\n",
              "    box-shadow: 0 1px 2px rgba(60, 64, 67, 0.3), 0 1px 3px 1px rgba(60, 64, 67, 0.15);\n",
              "    fill: var(--button-hover-fill-color);\n",
              "  }\n",
              "\n",
              "  .colab-df-quickchart-complete:disabled,\n",
              "  .colab-df-quickchart-complete:disabled:hover {\n",
              "    background-color: var(--disabled-bg-color);\n",
              "    fill: var(--disabled-fill-color);\n",
              "    box-shadow: none;\n",
              "  }\n",
              "\n",
              "  .colab-df-spinner {\n",
              "    border: 2px solid var(--fill-color);\n",
              "    border-color: transparent;\n",
              "    border-bottom-color: var(--fill-color);\n",
              "    animation:\n",
              "      spin 1s steps(1) infinite;\n",
              "  }\n",
              "\n",
              "  @keyframes spin {\n",
              "    0% {\n",
              "      border-color: transparent;\n",
              "      border-bottom-color: var(--fill-color);\n",
              "      border-left-color: var(--fill-color);\n",
              "    }\n",
              "    20% {\n",
              "      border-color: transparent;\n",
              "      border-left-color: var(--fill-color);\n",
              "      border-top-color: var(--fill-color);\n",
              "    }\n",
              "    30% {\n",
              "      border-color: transparent;\n",
              "      border-left-color: var(--fill-color);\n",
              "      border-top-color: var(--fill-color);\n",
              "      border-right-color: var(--fill-color);\n",
              "    }\n",
              "    40% {\n",
              "      border-color: transparent;\n",
              "      border-right-color: var(--fill-color);\n",
              "      border-top-color: var(--fill-color);\n",
              "    }\n",
              "    60% {\n",
              "      border-color: transparent;\n",
              "      border-right-color: var(--fill-color);\n",
              "    }\n",
              "    80% {\n",
              "      border-color: transparent;\n",
              "      border-right-color: var(--fill-color);\n",
              "      border-bottom-color: var(--fill-color);\n",
              "    }\n",
              "    90% {\n",
              "      border-color: transparent;\n",
              "      border-bottom-color: var(--fill-color);\n",
              "    }\n",
              "  }\n",
              "</style>\n",
              "\n",
              "  <script>\n",
              "    async function quickchart(key) {\n",
              "      const quickchartButtonEl =\n",
              "        document.querySelector('#' + key + ' button');\n",
              "      quickchartButtonEl.disabled = true;  // To prevent multiple clicks.\n",
              "      quickchartButtonEl.classList.add('colab-df-spinner');\n",
              "      try {\n",
              "        const charts = await google.colab.kernel.invokeFunction(\n",
              "            'suggestCharts', [key], {});\n",
              "      } catch (error) {\n",
              "        console.error('Error during call to suggestCharts:', error);\n",
              "      }\n",
              "      quickchartButtonEl.classList.remove('colab-df-spinner');\n",
              "      quickchartButtonEl.classList.add('colab-df-quickchart-complete');\n",
              "    }\n",
              "    (() => {\n",
              "      let quickchartButtonEl =\n",
              "        document.querySelector('#df-43ef7e78-ac0b-4810-a7fd-09e43c09e5f5 button');\n",
              "      quickchartButtonEl.style.display =\n",
              "        google.colab.kernel.accessAllowed ? 'block' : 'none';\n",
              "    })();\n",
              "  </script>\n",
              "</div>\n",
              "    </div>\n",
              "  </div>\n"
            ],
            "application/vnd.google.colaboratory.intrinsic+json": {
              "type": "dataframe",
              "variable_name": "X_pca"
            }
          },
          "metadata": {}
        }
      ]
    },
    {
      "cell_type": "code",
      "execution_count": null,
      "metadata": {
        "id": "ojSjqUYbA7S8",
        "colab": {
          "base_uri": "https://localhost:8080/",
          "height": 797
        },
        "outputId": "1f8227d4-6da9-4a90-d225-c4f6a0bb2e23"
      },
      "outputs": [
        {
          "output_type": "execute_result",
          "data": {
            "image/svg+xml": "<?xml version=\"1.0\" encoding=\"UTF-8\" standalone=\"no\"?>\n<!DOCTYPE svg PUBLIC \"-//W3C//DTD SVG 1.1//EN\"\n \"http://www.w3.org/Graphics/SVG/1.1/DTD/svg11.dtd\">\n<!-- Generated by graphviz version 2.43.0 (0)\n -->\n<!-- Title: Tree Pages: 1 -->\n<svg width=\"1822pt\" height=\"581pt\"\n viewBox=\"0.00 0.00 1822.00 581.00\" xmlns=\"http://www.w3.org/2000/svg\" xmlns:xlink=\"http://www.w3.org/1999/xlink\">\n<g id=\"graph0\" class=\"graph\" transform=\"scale(1 1) rotate(0) translate(4 577)\">\n<title>Tree</title>\n<polygon fill=\"white\" stroke=\"transparent\" points=\"-4,4 -4,-577 1818,-577 1818,4 -4,4\"/>\n<!-- 0 -->\n<g id=\"node1\" class=\"node\">\n<title>0</title>\n<polygon fill=\"#ffffff\" stroke=\"black\" points=\"1029,-573 901,-573 901,-505 1029,-505 1029,-573\"/>\n<text text-anchor=\"middle\" x=\"965\" y=\"-557.8\" font-family=\"Helvetica,sans-Serif\" font-size=\"14.00\">X_pca02 &lt;= 0.808</text>\n<text text-anchor=\"middle\" x=\"965\" y=\"-542.8\" font-family=\"Helvetica,sans-Serif\" font-size=\"14.00\">samples = 770</text>\n<text text-anchor=\"middle\" x=\"965\" y=\"-527.8\" font-family=\"Helvetica,sans-Serif\" font-size=\"14.00\">value = [385, 385]</text>\n<text text-anchor=\"middle\" x=\"965\" y=\"-512.8\" font-family=\"Helvetica,sans-Serif\" font-size=\"14.00\">class = Não Lesão</text>\n</g>\n<!-- 1 -->\n<g id=\"node2\" class=\"node\">\n<title>1</title>\n<polygon fill=\"#bfe0f7\" stroke=\"black\" points=\"765,-469 637,-469 637,-401 765,-401 765,-469\"/>\n<text text-anchor=\"middle\" x=\"701\" y=\"-453.8\" font-family=\"Helvetica,sans-Serif\" font-size=\"14.00\">X_pca17 &lt;= 0.934</text>\n<text text-anchor=\"middle\" x=\"701\" y=\"-438.8\" font-family=\"Helvetica,sans-Serif\" font-size=\"14.00\">samples = 544</text>\n<text text-anchor=\"middle\" x=\"701\" y=\"-423.8\" font-family=\"Helvetica,sans-Serif\" font-size=\"14.00\">value = [220, 324]</text>\n<text text-anchor=\"middle\" x=\"701\" y=\"-408.8\" font-family=\"Helvetica,sans-Serif\" font-size=\"14.00\">class = Lesão</text>\n</g>\n<!-- 0&#45;&gt;1 -->\n<g id=\"edge1\" class=\"edge\">\n<title>0&#45;&gt;1</title>\n<path fill=\"none\" stroke=\"black\" d=\"M900.76,-513.18C862.61,-498.44 814.09,-479.7 774.43,-464.37\"/>\n<polygon fill=\"black\" stroke=\"black\" points=\"775.66,-461.1 765.07,-460.76 773.14,-467.62 775.66,-461.1\"/>\n<text text-anchor=\"middle\" x=\"775.19\" y=\"-479.92\" font-family=\"Helvetica,sans-Serif\" font-size=\"14.00\">True</text>\n</g>\n<!-- 20 -->\n<g id=\"node21\" class=\"node\">\n<title>20</title>\n<polygon fill=\"#efb082\" stroke=\"black\" points=\"1296,-469 1168,-469 1168,-401 1296,-401 1296,-469\"/>\n<text text-anchor=\"middle\" x=\"1232\" y=\"-453.8\" font-family=\"Helvetica,sans-Serif\" font-size=\"14.00\">X_pca28 &lt;= 0.27</text>\n<text text-anchor=\"middle\" x=\"1232\" y=\"-438.8\" font-family=\"Helvetica,sans-Serif\" font-size=\"14.00\">samples = 226</text>\n<text text-anchor=\"middle\" x=\"1232\" y=\"-423.8\" font-family=\"Helvetica,sans-Serif\" font-size=\"14.00\">value = [165, 61]</text>\n<text text-anchor=\"middle\" x=\"1232\" y=\"-408.8\" font-family=\"Helvetica,sans-Serif\" font-size=\"14.00\">class = Não Lesão</text>\n</g>\n<!-- 0&#45;&gt;20 -->\n<g id=\"edge20\" class=\"edge\">\n<title>0&#45;&gt;20</title>\n<path fill=\"none\" stroke=\"black\" d=\"M1029.29,-513.44C1068.15,-498.59 1117.82,-479.62 1158.26,-464.17\"/>\n<polygon fill=\"black\" stroke=\"black\" points=\"1159.71,-467.36 1167.8,-460.52 1157.21,-460.82 1159.71,-467.36\"/>\n<text text-anchor=\"middle\" x=\"1157.6\" y=\"-479.65\" font-family=\"Helvetica,sans-Serif\" font-size=\"14.00\">False</text>\n</g>\n<!-- 2 -->\n<g id=\"node3\" class=\"node\">\n<title>2</title>\n<polygon fill=\"#a2d1f3\" stroke=\"black\" points=\"425,-365 293,-365 293,-297 425,-297 425,-365\"/>\n<text text-anchor=\"middle\" x=\"359\" y=\"-349.8\" font-family=\"Helvetica,sans-Serif\" font-size=\"14.00\">X_pca05 &lt;= &#45;2.385</text>\n<text text-anchor=\"middle\" x=\"359\" y=\"-334.8\" font-family=\"Helvetica,sans-Serif\" font-size=\"14.00\">samples = 469</text>\n<text text-anchor=\"middle\" x=\"359\" y=\"-319.8\" font-family=\"Helvetica,sans-Serif\" font-size=\"14.00\">value = [163, 306]</text>\n<text text-anchor=\"middle\" x=\"359\" y=\"-304.8\" font-family=\"Helvetica,sans-Serif\" font-size=\"14.00\">class = Lesão</text>\n</g>\n<!-- 1&#45;&gt;2 -->\n<g id=\"edge2\" class=\"edge\">\n<title>1&#45;&gt;2</title>\n<path fill=\"none\" stroke=\"black\" d=\"M636.67,-414.81C579.39,-397.73 495.53,-372.72 434.97,-354.66\"/>\n<polygon fill=\"black\" stroke=\"black\" points=\"435.66,-351.21 425.08,-351.71 433.66,-357.92 435.66,-351.21\"/>\n</g>\n<!-- 11 -->\n<g id=\"node12\" class=\"node\">\n<title>11</title>\n<polygon fill=\"#eda978\" stroke=\"black\" points=\"765,-365 637,-365 637,-297 765,-297 765,-365\"/>\n<text text-anchor=\"middle\" x=\"701\" y=\"-349.8\" font-family=\"Helvetica,sans-Serif\" font-size=\"14.00\">X_pca17 &lt;= 1.952</text>\n<text text-anchor=\"middle\" x=\"701\" y=\"-334.8\" font-family=\"Helvetica,sans-Serif\" font-size=\"14.00\">samples = 75</text>\n<text text-anchor=\"middle\" x=\"701\" y=\"-319.8\" font-family=\"Helvetica,sans-Serif\" font-size=\"14.00\">value = [57, 18]</text>\n<text text-anchor=\"middle\" x=\"701\" y=\"-304.8\" font-family=\"Helvetica,sans-Serif\" font-size=\"14.00\">class = Não Lesão</text>\n</g>\n<!-- 1&#45;&gt;11 -->\n<g id=\"edge11\" class=\"edge\">\n<title>1&#45;&gt;11</title>\n<path fill=\"none\" stroke=\"black\" d=\"M701,-400.88C701,-392.78 701,-383.98 701,-375.47\"/>\n<polygon fill=\"black\" stroke=\"black\" points=\"704.5,-375.3 701,-365.3 697.5,-375.3 704.5,-375.3\"/>\n</g>\n<!-- 3 -->\n<g id=\"node4\" class=\"node\">\n<title>3</title>\n<polygon fill=\"#e58139\" stroke=\"black\" points=\"277,-253.5 149,-253.5 149,-200.5 277,-200.5 277,-253.5\"/>\n<text text-anchor=\"middle\" x=\"213\" y=\"-238.3\" font-family=\"Helvetica,sans-Serif\" font-size=\"14.00\">samples = 20</text>\n<text text-anchor=\"middle\" x=\"213\" y=\"-223.3\" font-family=\"Helvetica,sans-Serif\" font-size=\"14.00\">value = [20, 0]</text>\n<text text-anchor=\"middle\" x=\"213\" y=\"-208.3\" font-family=\"Helvetica,sans-Serif\" font-size=\"14.00\">class = Não Lesão</text>\n</g>\n<!-- 2&#45;&gt;3 -->\n<g id=\"edge3\" class=\"edge\">\n<title>2&#45;&gt;3</title>\n<path fill=\"none\" stroke=\"black\" d=\"M311.6,-296.88C294.44,-284.9 275.12,-271.4 258.16,-259.55\"/>\n<polygon fill=\"black\" stroke=\"black\" points=\"259.73,-256.38 249.53,-253.52 255.72,-262.12 259.73,-256.38\"/>\n</g>\n<!-- 4 -->\n<g id=\"node5\" class=\"node\">\n<title>4</title>\n<polygon fill=\"#96cbf1\" stroke=\"black\" points=\"423,-261 295,-261 295,-193 423,-193 423,-261\"/>\n<text text-anchor=\"middle\" x=\"359\" y=\"-245.8\" font-family=\"Helvetica,sans-Serif\" font-size=\"14.00\">X_pca24 &lt;= 0.083</text>\n<text text-anchor=\"middle\" x=\"359\" y=\"-230.8\" font-family=\"Helvetica,sans-Serif\" font-size=\"14.00\">samples = 449</text>\n<text text-anchor=\"middle\" x=\"359\" y=\"-215.8\" font-family=\"Helvetica,sans-Serif\" font-size=\"14.00\">value = [143, 306]</text>\n<text text-anchor=\"middle\" x=\"359\" y=\"-200.8\" font-family=\"Helvetica,sans-Serif\" font-size=\"14.00\">class = Lesão</text>\n</g>\n<!-- 2&#45;&gt;4 -->\n<g id=\"edge4\" class=\"edge\">\n<title>2&#45;&gt;4</title>\n<path fill=\"none\" stroke=\"black\" d=\"M359,-296.88C359,-288.78 359,-279.98 359,-271.47\"/>\n<polygon fill=\"black\" stroke=\"black\" points=\"362.5,-271.3 359,-261.3 355.5,-271.3 362.5,-271.3\"/>\n</g>\n<!-- 5 -->\n<g id=\"node6\" class=\"node\">\n<title>5</title>\n<polygon fill=\"#68b4eb\" stroke=\"black\" points=\"271,-157 139,-157 139,-89 271,-89 271,-157\"/>\n<text text-anchor=\"middle\" x=\"205\" y=\"-141.8\" font-family=\"Helvetica,sans-Serif\" font-size=\"14.00\">X_pca28 &lt;= &#45;1.174</text>\n<text text-anchor=\"middle\" x=\"205\" y=\"-126.8\" font-family=\"Helvetica,sans-Serif\" font-size=\"14.00\">samples = 224</text>\n<text text-anchor=\"middle\" x=\"205\" y=\"-111.8\" font-family=\"Helvetica,sans-Serif\" font-size=\"14.00\">value = [43, 181]</text>\n<text text-anchor=\"middle\" x=\"205\" y=\"-96.8\" font-family=\"Helvetica,sans-Serif\" font-size=\"14.00\">class = Lesão</text>\n</g>\n<!-- 4&#45;&gt;5 -->\n<g id=\"edge5\" class=\"edge\">\n<title>4&#45;&gt;5</title>\n<path fill=\"none\" stroke=\"black\" d=\"M309,-192.88C294.54,-183.3 278.62,-172.76 263.68,-162.86\"/>\n<polygon fill=\"black\" stroke=\"black\" points=\"265.28,-159.73 255.01,-157.12 261.42,-165.56 265.28,-159.73\"/>\n</g>\n<!-- 8 -->\n<g id=\"node9\" class=\"node\">\n<title>8</title>\n<polygon fill=\"#d7ebfa\" stroke=\"black\" points=\"425,-157 293,-157 293,-89 425,-89 425,-157\"/>\n<text text-anchor=\"middle\" x=\"359\" y=\"-141.8\" font-family=\"Helvetica,sans-Serif\" font-size=\"14.00\">X_pca12 &lt;= &#45;0.916</text>\n<text text-anchor=\"middle\" x=\"359\" y=\"-126.8\" font-family=\"Helvetica,sans-Serif\" font-size=\"14.00\">samples = 225</text>\n<text text-anchor=\"middle\" x=\"359\" y=\"-111.8\" font-family=\"Helvetica,sans-Serif\" font-size=\"14.00\">value = [100, 125]</text>\n<text text-anchor=\"middle\" x=\"359\" y=\"-96.8\" font-family=\"Helvetica,sans-Serif\" font-size=\"14.00\">class = Lesão</text>\n</g>\n<!-- 4&#45;&gt;8 -->\n<g id=\"edge8\" class=\"edge\">\n<title>4&#45;&gt;8</title>\n<path fill=\"none\" stroke=\"black\" d=\"M359,-192.88C359,-184.78 359,-175.98 359,-167.47\"/>\n<polygon fill=\"black\" stroke=\"black\" points=\"362.5,-167.3 359,-157.3 355.5,-167.3 362.5,-167.3\"/>\n</g>\n<!-- 6 -->\n<g id=\"node7\" class=\"node\">\n<title>6</title>\n<polygon fill=\"#e58139\" stroke=\"black\" points=\"128,-53 0,-53 0,0 128,0 128,-53\"/>\n<text text-anchor=\"middle\" x=\"64\" y=\"-37.8\" font-family=\"Helvetica,sans-Serif\" font-size=\"14.00\">samples = 9</text>\n<text text-anchor=\"middle\" x=\"64\" y=\"-22.8\" font-family=\"Helvetica,sans-Serif\" font-size=\"14.00\">value = [9, 0]</text>\n<text text-anchor=\"middle\" x=\"64\" y=\"-7.8\" font-family=\"Helvetica,sans-Serif\" font-size=\"14.00\">class = Não Lesão</text>\n</g>\n<!-- 5&#45;&gt;6 -->\n<g id=\"edge6\" class=\"edge\">\n<title>5&#45;&gt;6</title>\n<path fill=\"none\" stroke=\"black\" d=\"M155.69,-88.95C141.22,-79.25 125.44,-68.68 111.11,-59.07\"/>\n<polygon fill=\"black\" stroke=\"black\" points=\"112.66,-55.9 102.4,-53.24 108.76,-61.71 112.66,-55.9\"/>\n</g>\n<!-- 7 -->\n<g id=\"node8\" class=\"node\">\n<title>7</title>\n<polygon fill=\"#5eafea\" stroke=\"black\" points=\"263.5,-53 146.5,-53 146.5,0 263.5,0 263.5,-53\"/>\n<text text-anchor=\"middle\" x=\"205\" y=\"-37.8\" font-family=\"Helvetica,sans-Serif\" font-size=\"14.00\">samples = 215</text>\n<text text-anchor=\"middle\" x=\"205\" y=\"-22.8\" font-family=\"Helvetica,sans-Serif\" font-size=\"14.00\">value = [34, 181]</text>\n<text text-anchor=\"middle\" x=\"205\" y=\"-7.8\" font-family=\"Helvetica,sans-Serif\" font-size=\"14.00\">class = Lesão</text>\n</g>\n<!-- 5&#45;&gt;7 -->\n<g id=\"edge7\" class=\"edge\">\n<title>5&#45;&gt;7</title>\n<path fill=\"none\" stroke=\"black\" d=\"M205,-88.95C205,-80.72 205,-71.85 205,-63.48\"/>\n<polygon fill=\"black\" stroke=\"black\" points=\"208.5,-63.24 205,-53.24 201.5,-63.24 208.5,-63.24\"/>\n</g>\n<!-- 9 -->\n<g id=\"node10\" class=\"node\">\n<title>9</title>\n<polygon fill=\"#eda775\" stroke=\"black\" points=\"410,-53 282,-53 282,0 410,0 410,-53\"/>\n<text text-anchor=\"middle\" x=\"346\" y=\"-37.8\" font-family=\"Helvetica,sans-Serif\" font-size=\"14.00\">samples = 56</text>\n<text text-anchor=\"middle\" x=\"346\" y=\"-22.8\" font-family=\"Helvetica,sans-Serif\" font-size=\"14.00\">value = [43, 13]</text>\n<text text-anchor=\"middle\" x=\"346\" y=\"-7.8\" font-family=\"Helvetica,sans-Serif\" font-size=\"14.00\">class = Não Lesão</text>\n</g>\n<!-- 8&#45;&gt;9 -->\n<g id=\"edge9\" class=\"edge\">\n<title>8&#45;&gt;9</title>\n<path fill=\"none\" stroke=\"black\" d=\"M354.45,-88.95C353.31,-80.62 352.07,-71.65 350.91,-63.2\"/>\n<polygon fill=\"black\" stroke=\"black\" points=\"354.37,-62.67 349.54,-53.24 347.44,-63.62 354.37,-62.67\"/>\n</g>\n<!-- 10 -->\n<g id=\"node11\" class=\"node\">\n<title>10</title>\n<polygon fill=\"#9ecff2\" stroke=\"black\" points=\"545.5,-53 428.5,-53 428.5,0 545.5,0 545.5,-53\"/>\n<text text-anchor=\"middle\" x=\"487\" y=\"-37.8\" font-family=\"Helvetica,sans-Serif\" font-size=\"14.00\">samples = 169</text>\n<text text-anchor=\"middle\" x=\"487\" y=\"-22.8\" font-family=\"Helvetica,sans-Serif\" font-size=\"14.00\">value = [57, 112]</text>\n<text text-anchor=\"middle\" x=\"487\" y=\"-7.8\" font-family=\"Helvetica,sans-Serif\" font-size=\"14.00\">class = Lesão</text>\n</g>\n<!-- 8&#45;&gt;10 -->\n<g id=\"edge10\" class=\"edge\">\n<title>8&#45;&gt;10</title>\n<path fill=\"none\" stroke=\"black\" d=\"M403.77,-88.95C416.78,-79.34 430.96,-68.87 443.87,-59.34\"/>\n<polygon fill=\"black\" stroke=\"black\" points=\"446.17,-61.99 452.14,-53.24 442.02,-56.36 446.17,-61.99\"/>\n</g>\n<!-- 12 -->\n<g id=\"node13\" class=\"node\">\n<title>12</title>\n<polygon fill=\"#e89152\" stroke=\"black\" points=\"694,-261 562,-261 562,-193 694,-193 694,-261\"/>\n<text text-anchor=\"middle\" x=\"628\" y=\"-245.8\" font-family=\"Helvetica,sans-Serif\" font-size=\"14.00\">X_pca02 &lt;= &#45;4.083</text>\n<text text-anchor=\"middle\" x=\"628\" y=\"-230.8\" font-family=\"Helvetica,sans-Serif\" font-size=\"14.00\">samples = 63</text>\n<text text-anchor=\"middle\" x=\"628\" y=\"-215.8\" font-family=\"Helvetica,sans-Serif\" font-size=\"14.00\">value = [56, 7]</text>\n<text text-anchor=\"middle\" x=\"628\" y=\"-200.8\" font-family=\"Helvetica,sans-Serif\" font-size=\"14.00\">class = Não Lesão</text>\n</g>\n<!-- 11&#45;&gt;12 -->\n<g id=\"edge12\" class=\"edge\">\n<title>11&#45;&gt;12</title>\n<path fill=\"none\" stroke=\"black\" d=\"M677.3,-296.88C671.05,-288.15 664.23,-278.62 657.71,-269.51\"/>\n<polygon fill=\"black\" stroke=\"black\" points=\"660.5,-267.39 651.83,-261.3 654.81,-271.47 660.5,-267.39\"/>\n</g>\n<!-- 17 -->\n<g id=\"node18\" class=\"node\">\n<title>17</title>\n<polygon fill=\"#4ba6e7\" stroke=\"black\" points=\"837.5,-261 712.5,-261 712.5,-193 837.5,-193 837.5,-261\"/>\n<text text-anchor=\"middle\" x=\"775\" y=\"-245.8\" font-family=\"Helvetica,sans-Serif\" font-size=\"14.00\">X_pca03 &lt;= &#45;0.69</text>\n<text text-anchor=\"middle\" x=\"775\" y=\"-230.8\" font-family=\"Helvetica,sans-Serif\" font-size=\"14.00\">samples = 12</text>\n<text text-anchor=\"middle\" x=\"775\" y=\"-215.8\" font-family=\"Helvetica,sans-Serif\" font-size=\"14.00\">value = [1, 11]</text>\n<text text-anchor=\"middle\" x=\"775\" y=\"-200.8\" font-family=\"Helvetica,sans-Serif\" font-size=\"14.00\">class = Lesão</text>\n</g>\n<!-- 11&#45;&gt;17 -->\n<g id=\"edge17\" class=\"edge\">\n<title>11&#45;&gt;17</title>\n<path fill=\"none\" stroke=\"black\" d=\"M725.03,-296.88C731.36,-288.15 738.27,-278.62 744.88,-269.51\"/>\n<polygon fill=\"black\" stroke=\"black\" points=\"747.8,-271.45 750.84,-261.3 742.14,-267.34 747.8,-271.45\"/>\n</g>\n<!-- 13 -->\n<g id=\"node14\" class=\"node\">\n<title>13</title>\n<polygon fill=\"#399de5\" stroke=\"black\" points=\"546,-149.5 446,-149.5 446,-96.5 546,-96.5 546,-149.5\"/>\n<text text-anchor=\"middle\" x=\"496\" y=\"-134.3\" font-family=\"Helvetica,sans-Serif\" font-size=\"14.00\">samples = 4</text>\n<text text-anchor=\"middle\" x=\"496\" y=\"-119.3\" font-family=\"Helvetica,sans-Serif\" font-size=\"14.00\">value = [0, 4]</text>\n<text text-anchor=\"middle\" x=\"496\" y=\"-104.3\" font-family=\"Helvetica,sans-Serif\" font-size=\"14.00\">class = Lesão</text>\n</g>\n<!-- 12&#45;&gt;13 -->\n<g id=\"edge13\" class=\"edge\">\n<title>12&#45;&gt;13</title>\n<path fill=\"none\" stroke=\"black\" d=\"M585.14,-192.88C569.77,-181.01 552.48,-167.65 537.25,-155.88\"/>\n<polygon fill=\"black\" stroke=\"black\" points=\"539.08,-152.86 529.03,-149.52 534.8,-158.4 539.08,-152.86\"/>\n</g>\n<!-- 14 -->\n<g id=\"node15\" class=\"node\">\n<title>14</title>\n<polygon fill=\"#e68844\" stroke=\"black\" points=\"692,-157 564,-157 564,-89 692,-89 692,-157\"/>\n<text text-anchor=\"middle\" x=\"628\" y=\"-141.8\" font-family=\"Helvetica,sans-Serif\" font-size=\"14.00\">X_pca08 &lt;= 1.314</text>\n<text text-anchor=\"middle\" x=\"628\" y=\"-126.8\" font-family=\"Helvetica,sans-Serif\" font-size=\"14.00\">samples = 59</text>\n<text text-anchor=\"middle\" x=\"628\" y=\"-111.8\" font-family=\"Helvetica,sans-Serif\" font-size=\"14.00\">value = [56, 3]</text>\n<text text-anchor=\"middle\" x=\"628\" y=\"-96.8\" font-family=\"Helvetica,sans-Serif\" font-size=\"14.00\">class = Não Lesão</text>\n</g>\n<!-- 12&#45;&gt;14 -->\n<g id=\"edge14\" class=\"edge\">\n<title>12&#45;&gt;14</title>\n<path fill=\"none\" stroke=\"black\" d=\"M628,-192.88C628,-184.78 628,-175.98 628,-167.47\"/>\n<polygon fill=\"black\" stroke=\"black\" points=\"631.5,-167.3 628,-157.3 624.5,-167.3 631.5,-167.3\"/>\n</g>\n<!-- 15 -->\n<g id=\"node16\" class=\"node\">\n<title>15</title>\n<polygon fill=\"#e58139\" stroke=\"black\" points=\"692,-53 564,-53 564,0 692,0 692,-53\"/>\n<text text-anchor=\"middle\" x=\"628\" y=\"-37.8\" font-family=\"Helvetica,sans-Serif\" font-size=\"14.00\">samples = 55</text>\n<text text-anchor=\"middle\" x=\"628\" y=\"-22.8\" font-family=\"Helvetica,sans-Serif\" font-size=\"14.00\">value = [55, 0]</text>\n<text text-anchor=\"middle\" x=\"628\" y=\"-7.8\" font-family=\"Helvetica,sans-Serif\" font-size=\"14.00\">class = Não Lesão</text>\n</g>\n<!-- 14&#45;&gt;15 -->\n<g id=\"edge15\" class=\"edge\">\n<title>14&#45;&gt;15</title>\n<path fill=\"none\" stroke=\"black\" d=\"M628,-88.95C628,-80.72 628,-71.85 628,-63.48\"/>\n<polygon fill=\"black\" stroke=\"black\" points=\"631.5,-63.24 628,-53.24 624.5,-63.24 631.5,-63.24\"/>\n</g>\n<!-- 16 -->\n<g id=\"node17\" class=\"node\">\n<title>16</title>\n<polygon fill=\"#7bbeee\" stroke=\"black\" points=\"810,-53 710,-53 710,0 810,0 810,-53\"/>\n<text text-anchor=\"middle\" x=\"760\" y=\"-37.8\" font-family=\"Helvetica,sans-Serif\" font-size=\"14.00\">samples = 4</text>\n<text text-anchor=\"middle\" x=\"760\" y=\"-22.8\" font-family=\"Helvetica,sans-Serif\" font-size=\"14.00\">value = [1, 3]</text>\n<text text-anchor=\"middle\" x=\"760\" y=\"-7.8\" font-family=\"Helvetica,sans-Serif\" font-size=\"14.00\">class = Lesão</text>\n</g>\n<!-- 14&#45;&gt;16 -->\n<g id=\"edge16\" class=\"edge\">\n<title>14&#45;&gt;16</title>\n<path fill=\"none\" stroke=\"black\" d=\"M674.17,-88.95C687.71,-79.25 702.49,-68.68 715.9,-59.07\"/>\n<polygon fill=\"black\" stroke=\"black\" points=\"717.96,-61.9 724.05,-53.24 713.88,-56.21 717.96,-61.9\"/>\n</g>\n<!-- 18 -->\n<g id=\"node19\" class=\"node\">\n<title>18</title>\n<polygon fill=\"#e58139\" stroke=\"black\" points=\"838,-149.5 710,-149.5 710,-96.5 838,-96.5 838,-149.5\"/>\n<text text-anchor=\"middle\" x=\"774\" y=\"-134.3\" font-family=\"Helvetica,sans-Serif\" font-size=\"14.00\">samples = 1</text>\n<text text-anchor=\"middle\" x=\"774\" y=\"-119.3\" font-family=\"Helvetica,sans-Serif\" font-size=\"14.00\">value = [1, 0]</text>\n<text text-anchor=\"middle\" x=\"774\" y=\"-104.3\" font-family=\"Helvetica,sans-Serif\" font-size=\"14.00\">class = Não Lesão</text>\n</g>\n<!-- 17&#45;&gt;18 -->\n<g id=\"edge18\" class=\"edge\">\n<title>17&#45;&gt;18</title>\n<path fill=\"none\" stroke=\"black\" d=\"M774.68,-192.88C774.57,-182.33 774.46,-170.6 774.35,-159.85\"/>\n<polygon fill=\"black\" stroke=\"black\" points=\"777.85,-159.49 774.25,-149.52 770.85,-159.55 777.85,-159.49\"/>\n</g>\n<!-- 19 -->\n<g id=\"node20\" class=\"node\">\n<title>19</title>\n<polygon fill=\"#399de5\" stroke=\"black\" points=\"958,-149.5 856,-149.5 856,-96.5 958,-96.5 958,-149.5\"/>\n<text text-anchor=\"middle\" x=\"907\" y=\"-134.3\" font-family=\"Helvetica,sans-Serif\" font-size=\"14.00\">samples = 11</text>\n<text text-anchor=\"middle\" x=\"907\" y=\"-119.3\" font-family=\"Helvetica,sans-Serif\" font-size=\"14.00\">value = [0, 11]</text>\n<text text-anchor=\"middle\" x=\"907\" y=\"-104.3\" font-family=\"Helvetica,sans-Serif\" font-size=\"14.00\">class = Lesão</text>\n</g>\n<!-- 17&#45;&gt;19 -->\n<g id=\"edge19\" class=\"edge\">\n<title>17&#45;&gt;19</title>\n<path fill=\"none\" stroke=\"black\" d=\"M817.86,-192.88C833.23,-181.01 850.52,-167.65 865.75,-155.88\"/>\n<polygon fill=\"black\" stroke=\"black\" points=\"868.2,-158.4 873.97,-149.52 863.92,-152.86 868.2,-158.4\"/>\n</g>\n<!-- 21 -->\n<g id=\"node22\" class=\"node\">\n<title>21</title>\n<polygon fill=\"#ea985d\" stroke=\"black\" points=\"1296,-365 1168,-365 1168,-297 1296,-297 1296,-365\"/>\n<text text-anchor=\"middle\" x=\"1232\" y=\"-349.8\" font-family=\"Helvetica,sans-Serif\" font-size=\"14.00\">X_pca19 &lt;= 1.118</text>\n<text text-anchor=\"middle\" x=\"1232\" y=\"-334.8\" font-family=\"Helvetica,sans-Serif\" font-size=\"14.00\">samples = 149</text>\n<text text-anchor=\"middle\" x=\"1232\" y=\"-319.8\" font-family=\"Helvetica,sans-Serif\" font-size=\"14.00\">value = [126, 23]</text>\n<text text-anchor=\"middle\" x=\"1232\" y=\"-304.8\" font-family=\"Helvetica,sans-Serif\" font-size=\"14.00\">class = Não Lesão</text>\n</g>\n<!-- 20&#45;&gt;21 -->\n<g id=\"edge21\" class=\"edge\">\n<title>20&#45;&gt;21</title>\n<path fill=\"none\" stroke=\"black\" d=\"M1232,-400.88C1232,-392.78 1232,-383.98 1232,-375.47\"/>\n<polygon fill=\"black\" stroke=\"black\" points=\"1235.5,-375.3 1232,-365.3 1228.5,-375.3 1235.5,-375.3\"/>\n</g>\n<!-- 32 -->\n<g id=\"node33\" class=\"node\">\n<title>32</title>\n<polygon fill=\"#fefcfa\" stroke=\"black\" points=\"1522,-365 1390,-365 1390,-297 1522,-297 1522,-365\"/>\n<text text-anchor=\"middle\" x=\"1456\" y=\"-349.8\" font-family=\"Helvetica,sans-Serif\" font-size=\"14.00\">X_pca23 &lt;= &#45;1.139</text>\n<text text-anchor=\"middle\" x=\"1456\" y=\"-334.8\" font-family=\"Helvetica,sans-Serif\" font-size=\"14.00\">samples = 77</text>\n<text text-anchor=\"middle\" x=\"1456\" y=\"-319.8\" font-family=\"Helvetica,sans-Serif\" font-size=\"14.00\">value = [39, 38]</text>\n<text text-anchor=\"middle\" x=\"1456\" y=\"-304.8\" font-family=\"Helvetica,sans-Serif\" font-size=\"14.00\">class = Não Lesão</text>\n</g>\n<!-- 20&#45;&gt;32 -->\n<g id=\"edge32\" class=\"edge\">\n<title>20&#45;&gt;32</title>\n<path fill=\"none\" stroke=\"black\" d=\"M1296.19,-404.77C1322.56,-392.76 1353.27,-378.78 1380.69,-366.29\"/>\n<polygon fill=\"black\" stroke=\"black\" points=\"1382.2,-369.45 1389.85,-362.12 1379.3,-363.08 1382.2,-369.45\"/>\n</g>\n<!-- 22 -->\n<g id=\"node23\" class=\"node\">\n<title>22</title>\n<polygon fill=\"#e78845\" stroke=\"black\" points=\"1223.5,-261 1088.5,-261 1088.5,-193 1223.5,-193 1223.5,-261\"/>\n<text text-anchor=\"middle\" x=\"1156\" y=\"-245.8\" font-family=\"Helvetica,sans-Serif\" font-size=\"14.00\">X_pca04 &lt;= 10.682</text>\n<text text-anchor=\"middle\" x=\"1156\" y=\"-230.8\" font-family=\"Helvetica,sans-Serif\" font-size=\"14.00\">samples = 126</text>\n<text text-anchor=\"middle\" x=\"1156\" y=\"-215.8\" font-family=\"Helvetica,sans-Serif\" font-size=\"14.00\">value = [119, 7]</text>\n<text text-anchor=\"middle\" x=\"1156\" y=\"-200.8\" font-family=\"Helvetica,sans-Serif\" font-size=\"14.00\">class = Não Lesão</text>\n</g>\n<!-- 21&#45;&gt;22 -->\n<g id=\"edge22\" class=\"edge\">\n<title>21&#45;&gt;22</title>\n<path fill=\"none\" stroke=\"black\" d=\"M1207.32,-296.88C1200.82,-288.15 1193.72,-278.62 1186.93,-269.51\"/>\n<polygon fill=\"black\" stroke=\"black\" points=\"1189.59,-267.23 1180.81,-261.3 1183.98,-271.41 1189.59,-267.23\"/>\n</g>\n<!-- 27 -->\n<g id=\"node28\" class=\"node\">\n<title>27</title>\n<polygon fill=\"#90c8f0\" stroke=\"black\" points=\"1374,-261 1242,-261 1242,-193 1374,-193 1374,-261\"/>\n<text text-anchor=\"middle\" x=\"1308\" y=\"-245.8\" font-family=\"Helvetica,sans-Serif\" font-size=\"14.00\">X_pca25 &lt;= &#45;0.592</text>\n<text text-anchor=\"middle\" x=\"1308\" y=\"-230.8\" font-family=\"Helvetica,sans-Serif\" font-size=\"14.00\">samples = 23</text>\n<text text-anchor=\"middle\" x=\"1308\" y=\"-215.8\" font-family=\"Helvetica,sans-Serif\" font-size=\"14.00\">value = [7, 16]</text>\n<text text-anchor=\"middle\" x=\"1308\" y=\"-200.8\" font-family=\"Helvetica,sans-Serif\" font-size=\"14.00\">class = Lesão</text>\n</g>\n<!-- 21&#45;&gt;27 -->\n<g id=\"edge27\" class=\"edge\">\n<title>21&#45;&gt;27</title>\n<path fill=\"none\" stroke=\"black\" d=\"M1256.68,-296.88C1263.18,-288.15 1270.28,-278.62 1277.07,-269.51\"/>\n<polygon fill=\"black\" stroke=\"black\" points=\"1280.02,-271.41 1283.19,-261.3 1274.41,-267.23 1280.02,-271.41\"/>\n</g>\n<!-- 23 -->\n<g id=\"node24\" class=\"node\">\n<title>23</title>\n<polygon fill=\"#e68540\" stroke=\"black\" points=\"1108,-157 976,-157 976,-89 1108,-89 1108,-157\"/>\n<text text-anchor=\"middle\" x=\"1042\" y=\"-141.8\" font-family=\"Helvetica,sans-Serif\" font-size=\"14.00\">X_pca14 &lt;= &#45;0.873</text>\n<text text-anchor=\"middle\" x=\"1042\" y=\"-126.8\" font-family=\"Helvetica,sans-Serif\" font-size=\"14.00\">samples = 123</text>\n<text text-anchor=\"middle\" x=\"1042\" y=\"-111.8\" font-family=\"Helvetica,sans-Serif\" font-size=\"14.00\">value = [119, 4]</text>\n<text text-anchor=\"middle\" x=\"1042\" y=\"-96.8\" font-family=\"Helvetica,sans-Serif\" font-size=\"14.00\">class = Não Lesão</text>\n</g>\n<!-- 22&#45;&gt;23 -->\n<g id=\"edge23\" class=\"edge\">\n<title>22&#45;&gt;23</title>\n<path fill=\"none\" stroke=\"black\" d=\"M1118.99,-192.88C1108.73,-183.71 1097.49,-173.65 1086.84,-164.12\"/>\n<polygon fill=\"black\" stroke=\"black\" points=\"1089,-161.36 1079.22,-157.3 1084.34,-166.58 1089,-161.36\"/>\n</g>\n<!-- 26 -->\n<g id=\"node27\" class=\"node\">\n<title>26</title>\n<polygon fill=\"#399de5\" stroke=\"black\" points=\"1226,-149.5 1126,-149.5 1126,-96.5 1226,-96.5 1226,-149.5\"/>\n<text text-anchor=\"middle\" x=\"1176\" y=\"-134.3\" font-family=\"Helvetica,sans-Serif\" font-size=\"14.00\">samples = 3</text>\n<text text-anchor=\"middle\" x=\"1176\" y=\"-119.3\" font-family=\"Helvetica,sans-Serif\" font-size=\"14.00\">value = [0, 3]</text>\n<text text-anchor=\"middle\" x=\"1176\" y=\"-104.3\" font-family=\"Helvetica,sans-Serif\" font-size=\"14.00\">class = Lesão</text>\n</g>\n<!-- 22&#45;&gt;26 -->\n<g id=\"edge26\" class=\"edge\">\n<title>22&#45;&gt;26</title>\n<path fill=\"none\" stroke=\"black\" d=\"M1162.49,-192.88C1164.59,-182.22 1166.91,-170.35 1169.04,-159.52\"/>\n<polygon fill=\"black\" stroke=\"black\" points=\"1172.51,-160.01 1171,-149.52 1165.64,-158.66 1172.51,-160.01\"/>\n</g>\n<!-- 24 -->\n<g id=\"node25\" class=\"node\">\n<title>24</title>\n<polygon fill=\"#ea995f\" stroke=\"black\" points=\"1033,-53 905,-53 905,0 1033,0 1033,-53\"/>\n<text text-anchor=\"middle\" x=\"969\" y=\"-37.8\" font-family=\"Helvetica,sans-Serif\" font-size=\"14.00\">samples = 25</text>\n<text text-anchor=\"middle\" x=\"969\" y=\"-22.8\" font-family=\"Helvetica,sans-Serif\" font-size=\"14.00\">value = [21, 4]</text>\n<text text-anchor=\"middle\" x=\"969\" y=\"-7.8\" font-family=\"Helvetica,sans-Serif\" font-size=\"14.00\">class = Não Lesão</text>\n</g>\n<!-- 23&#45;&gt;24 -->\n<g id=\"edge24\" class=\"edge\">\n<title>23&#45;&gt;24</title>\n<path fill=\"none\" stroke=\"black\" d=\"M1016.47,-88.95C1009.54,-79.98 1002.04,-70.27 995.08,-61.26\"/>\n<polygon fill=\"black\" stroke=\"black\" points=\"997.76,-59.01 988.88,-53.24 992.22,-63.29 997.76,-59.01\"/>\n</g>\n<!-- 25 -->\n<g id=\"node26\" class=\"node\">\n<title>25</title>\n<polygon fill=\"#e58139\" stroke=\"black\" points=\"1179,-53 1051,-53 1051,0 1179,0 1179,-53\"/>\n<text text-anchor=\"middle\" x=\"1115\" y=\"-37.8\" font-family=\"Helvetica,sans-Serif\" font-size=\"14.00\">samples = 98</text>\n<text text-anchor=\"middle\" x=\"1115\" y=\"-22.8\" font-family=\"Helvetica,sans-Serif\" font-size=\"14.00\">value = [98, 0]</text>\n<text text-anchor=\"middle\" x=\"1115\" y=\"-7.8\" font-family=\"Helvetica,sans-Serif\" font-size=\"14.00\">class = Não Lesão</text>\n</g>\n<!-- 23&#45;&gt;25 -->\n<g id=\"edge25\" class=\"edge\">\n<title>23&#45;&gt;25</title>\n<path fill=\"none\" stroke=\"black\" d=\"M1067.53,-88.95C1074.46,-79.98 1081.96,-70.27 1088.92,-61.26\"/>\n<polygon fill=\"black\" stroke=\"black\" points=\"1091.78,-63.29 1095.12,-53.24 1086.24,-59.01 1091.78,-63.29\"/>\n</g>\n<!-- 28 -->\n<g id=\"node29\" class=\"node\">\n<title>28</title>\n<polygon fill=\"#e58139\" stroke=\"black\" points=\"1372,-149.5 1244,-149.5 1244,-96.5 1372,-96.5 1372,-149.5\"/>\n<text text-anchor=\"middle\" x=\"1308\" y=\"-134.3\" font-family=\"Helvetica,sans-Serif\" font-size=\"14.00\">samples = 5</text>\n<text text-anchor=\"middle\" x=\"1308\" y=\"-119.3\" font-family=\"Helvetica,sans-Serif\" font-size=\"14.00\">value = [5, 0]</text>\n<text text-anchor=\"middle\" x=\"1308\" y=\"-104.3\" font-family=\"Helvetica,sans-Serif\" font-size=\"14.00\">class = Não Lesão</text>\n</g>\n<!-- 27&#45;&gt;28 -->\n<g id=\"edge28\" class=\"edge\">\n<title>27&#45;&gt;28</title>\n<path fill=\"none\" stroke=\"black\" d=\"M1308,-192.88C1308,-182.33 1308,-170.6 1308,-159.85\"/>\n<polygon fill=\"black\" stroke=\"black\" points=\"1311.5,-159.52 1308,-149.52 1304.5,-159.52 1311.5,-159.52\"/>\n</g>\n<!-- 29 -->\n<g id=\"node30\" class=\"node\">\n<title>29</title>\n<polygon fill=\"#52a9e8\" stroke=\"black\" points=\"1518,-157 1390,-157 1390,-89 1518,-89 1518,-157\"/>\n<text text-anchor=\"middle\" x=\"1454\" y=\"-141.8\" font-family=\"Helvetica,sans-Serif\" font-size=\"14.00\">X_pca01 &lt;= 0.434</text>\n<text text-anchor=\"middle\" x=\"1454\" y=\"-126.8\" font-family=\"Helvetica,sans-Serif\" font-size=\"14.00\">samples = 18</text>\n<text text-anchor=\"middle\" x=\"1454\" y=\"-111.8\" font-family=\"Helvetica,sans-Serif\" font-size=\"14.00\">value = [2, 16]</text>\n<text text-anchor=\"middle\" x=\"1454\" y=\"-96.8\" font-family=\"Helvetica,sans-Serif\" font-size=\"14.00\">class = Lesão</text>\n</g>\n<!-- 27&#45;&gt;29 -->\n<g id=\"edge29\" class=\"edge\">\n<title>27&#45;&gt;29</title>\n<path fill=\"none\" stroke=\"black\" d=\"M1355.4,-192.88C1368.92,-183.44 1383.77,-173.06 1397.76,-163.29\"/>\n<polygon fill=\"black\" stroke=\"black\" points=\"1400.14,-165.9 1406.34,-157.3 1396.13,-160.16 1400.14,-165.9\"/>\n</g>\n<!-- 30 -->\n<g id=\"node31\" class=\"node\">\n<title>30</title>\n<polygon fill=\"#399de5\" stroke=\"black\" points=\"1372,-53 1270,-53 1270,0 1372,0 1372,-53\"/>\n<text text-anchor=\"middle\" x=\"1321\" y=\"-37.8\" font-family=\"Helvetica,sans-Serif\" font-size=\"14.00\">samples = 16</text>\n<text text-anchor=\"middle\" x=\"1321\" y=\"-22.8\" font-family=\"Helvetica,sans-Serif\" font-size=\"14.00\">value = [0, 16]</text>\n<text text-anchor=\"middle\" x=\"1321\" y=\"-7.8\" font-family=\"Helvetica,sans-Serif\" font-size=\"14.00\">class = Lesão</text>\n</g>\n<!-- 29&#45;&gt;30 -->\n<g id=\"edge30\" class=\"edge\">\n<title>29&#45;&gt;30</title>\n<path fill=\"none\" stroke=\"black\" d=\"M1407.48,-88.95C1393.84,-79.25 1378.95,-68.68 1365.44,-59.07\"/>\n<polygon fill=\"black\" stroke=\"black\" points=\"1367.4,-56.18 1357.22,-53.24 1363.35,-61.88 1367.4,-56.18\"/>\n</g>\n<!-- 31 -->\n<g id=\"node32\" class=\"node\">\n<title>31</title>\n<polygon fill=\"#e58139\" stroke=\"black\" points=\"1518,-53 1390,-53 1390,0 1518,0 1518,-53\"/>\n<text text-anchor=\"middle\" x=\"1454\" y=\"-37.8\" font-family=\"Helvetica,sans-Serif\" font-size=\"14.00\">samples = 2</text>\n<text text-anchor=\"middle\" x=\"1454\" y=\"-22.8\" font-family=\"Helvetica,sans-Serif\" font-size=\"14.00\">value = [2, 0]</text>\n<text text-anchor=\"middle\" x=\"1454\" y=\"-7.8\" font-family=\"Helvetica,sans-Serif\" font-size=\"14.00\">class = Não Lesão</text>\n</g>\n<!-- 29&#45;&gt;31 -->\n<g id=\"edge31\" class=\"edge\">\n<title>29&#45;&gt;31</title>\n<path fill=\"none\" stroke=\"black\" d=\"M1454,-88.95C1454,-80.72 1454,-71.85 1454,-63.48\"/>\n<polygon fill=\"black\" stroke=\"black\" points=\"1457.5,-63.24 1454,-53.24 1450.5,-63.24 1457.5,-63.24\"/>\n</g>\n<!-- 33 -->\n<g id=\"node34\" class=\"node\">\n<title>33</title>\n<polygon fill=\"#e58139\" stroke=\"black\" points=\"1520,-253.5 1392,-253.5 1392,-200.5 1520,-200.5 1520,-253.5\"/>\n<text text-anchor=\"middle\" x=\"1456\" y=\"-238.3\" font-family=\"Helvetica,sans-Serif\" font-size=\"14.00\">samples = 15</text>\n<text text-anchor=\"middle\" x=\"1456\" y=\"-223.3\" font-family=\"Helvetica,sans-Serif\" font-size=\"14.00\">value = [15, 0]</text>\n<text text-anchor=\"middle\" x=\"1456\" y=\"-208.3\" font-family=\"Helvetica,sans-Serif\" font-size=\"14.00\">class = Não Lesão</text>\n</g>\n<!-- 32&#45;&gt;33 -->\n<g id=\"edge33\" class=\"edge\">\n<title>32&#45;&gt;33</title>\n<path fill=\"none\" stroke=\"black\" d=\"M1456,-296.88C1456,-286.33 1456,-274.6 1456,-263.85\"/>\n<polygon fill=\"black\" stroke=\"black\" points=\"1459.5,-263.52 1456,-253.52 1452.5,-263.52 1459.5,-263.52\"/>\n</g>\n<!-- 34 -->\n<g id=\"node35\" class=\"node\">\n<title>34</title>\n<polygon fill=\"#b6dbf5\" stroke=\"black\" points=\"1666,-261 1538,-261 1538,-193 1666,-193 1666,-261\"/>\n<text text-anchor=\"middle\" x=\"1602\" y=\"-245.8\" font-family=\"Helvetica,sans-Serif\" font-size=\"14.00\">X_pca28 &lt;= 1.178</text>\n<text text-anchor=\"middle\" x=\"1602\" y=\"-230.8\" font-family=\"Helvetica,sans-Serif\" font-size=\"14.00\">samples = 62</text>\n<text text-anchor=\"middle\" x=\"1602\" y=\"-215.8\" font-family=\"Helvetica,sans-Serif\" font-size=\"14.00\">value = [24, 38]</text>\n<text text-anchor=\"middle\" x=\"1602\" y=\"-200.8\" font-family=\"Helvetica,sans-Serif\" font-size=\"14.00\">class = Lesão</text>\n</g>\n<!-- 32&#45;&gt;34 -->\n<g id=\"edge34\" class=\"edge\">\n<title>32&#45;&gt;34</title>\n<path fill=\"none\" stroke=\"black\" d=\"M1503.4,-296.88C1516.92,-287.44 1531.77,-277.06 1545.76,-267.29\"/>\n<polygon fill=\"black\" stroke=\"black\" points=\"1548.14,-269.9 1554.34,-261.3 1544.13,-264.16 1548.14,-269.9\"/>\n</g>\n<!-- 35 -->\n<g id=\"node36\" class=\"node\">\n<title>35</title>\n<polygon fill=\"#8cc6f0\" stroke=\"black\" points=\"1668,-157 1536,-157 1536,-89 1668,-89 1668,-157\"/>\n<text text-anchor=\"middle\" x=\"1602\" y=\"-141.8\" font-family=\"Helvetica,sans-Serif\" font-size=\"14.00\">X_pca14 &lt;= &#45;1.356</text>\n<text text-anchor=\"middle\" x=\"1602\" y=\"-126.8\" font-family=\"Helvetica,sans-Serif\" font-size=\"14.00\">samples = 54</text>\n<text text-anchor=\"middle\" x=\"1602\" y=\"-111.8\" font-family=\"Helvetica,sans-Serif\" font-size=\"14.00\">value = [16, 38]</text>\n<text text-anchor=\"middle\" x=\"1602\" y=\"-96.8\" font-family=\"Helvetica,sans-Serif\" font-size=\"14.00\">class = Lesão</text>\n</g>\n<!-- 34&#45;&gt;35 -->\n<g id=\"edge35\" class=\"edge\">\n<title>34&#45;&gt;35</title>\n<path fill=\"none\" stroke=\"black\" d=\"M1602,-192.88C1602,-184.78 1602,-175.98 1602,-167.47\"/>\n<polygon fill=\"black\" stroke=\"black\" points=\"1605.5,-167.3 1602,-157.3 1598.5,-167.3 1605.5,-167.3\"/>\n</g>\n<!-- 38 -->\n<g id=\"node39\" class=\"node\">\n<title>38</title>\n<polygon fill=\"#e58139\" stroke=\"black\" points=\"1814,-149.5 1686,-149.5 1686,-96.5 1814,-96.5 1814,-149.5\"/>\n<text text-anchor=\"middle\" x=\"1750\" y=\"-134.3\" font-family=\"Helvetica,sans-Serif\" font-size=\"14.00\">samples = 8</text>\n<text text-anchor=\"middle\" x=\"1750\" y=\"-119.3\" font-family=\"Helvetica,sans-Serif\" font-size=\"14.00\">value = [8, 0]</text>\n<text text-anchor=\"middle\" x=\"1750\" y=\"-104.3\" font-family=\"Helvetica,sans-Serif\" font-size=\"14.00\">class = Não Lesão</text>\n</g>\n<!-- 34&#45;&gt;38 -->\n<g id=\"edge38\" class=\"edge\">\n<title>34&#45;&gt;38</title>\n<path fill=\"none\" stroke=\"black\" d=\"M1650.05,-192.88C1667.6,-180.79 1687.39,-167.15 1704.69,-155.22\"/>\n<polygon fill=\"black\" stroke=\"black\" points=\"1706.72,-158.08 1712.97,-149.52 1702.75,-152.31 1706.72,-158.08\"/>\n</g>\n<!-- 36 -->\n<g id=\"node37\" class=\"node\">\n<title>36</title>\n<polygon fill=\"#e58139\" stroke=\"black\" points=\"1665,-53 1537,-53 1537,0 1665,0 1665,-53\"/>\n<text text-anchor=\"middle\" x=\"1601\" y=\"-37.8\" font-family=\"Helvetica,sans-Serif\" font-size=\"14.00\">samples = 6</text>\n<text text-anchor=\"middle\" x=\"1601\" y=\"-22.8\" font-family=\"Helvetica,sans-Serif\" font-size=\"14.00\">value = [6, 0]</text>\n<text text-anchor=\"middle\" x=\"1601\" y=\"-7.8\" font-family=\"Helvetica,sans-Serif\" font-size=\"14.00\">class = Não Lesão</text>\n</g>\n<!-- 35&#45;&gt;36 -->\n<g id=\"edge36\" class=\"edge\">\n<title>35&#45;&gt;36</title>\n<path fill=\"none\" stroke=\"black\" d=\"M1601.65,-88.95C1601.56,-80.72 1601.47,-71.85 1601.38,-63.48\"/>\n<polygon fill=\"black\" stroke=\"black\" points=\"1604.88,-63.2 1601.27,-53.24 1597.88,-63.27 1604.88,-63.2\"/>\n</g>\n<!-- 37 -->\n<g id=\"node38\" class=\"node\">\n<title>37</title>\n<polygon fill=\"#6db7ec\" stroke=\"black\" points=\"1793,-53 1683,-53 1683,0 1793,0 1793,-53\"/>\n<text text-anchor=\"middle\" x=\"1738\" y=\"-37.8\" font-family=\"Helvetica,sans-Serif\" font-size=\"14.00\">samples = 48</text>\n<text text-anchor=\"middle\" x=\"1738\" y=\"-22.8\" font-family=\"Helvetica,sans-Serif\" font-size=\"14.00\">value = [10, 38]</text>\n<text text-anchor=\"middle\" x=\"1738\" y=\"-7.8\" font-family=\"Helvetica,sans-Serif\" font-size=\"14.00\">class = Lesão</text>\n</g>\n<!-- 35&#45;&gt;37 -->\n<g id=\"edge37\" class=\"edge\">\n<title>35&#45;&gt;37</title>\n<path fill=\"none\" stroke=\"black\" d=\"M1649.57,-88.95C1663.52,-79.25 1678.74,-68.68 1692.56,-59.07\"/>\n<polygon fill=\"black\" stroke=\"black\" points=\"1694.75,-61.82 1700.96,-53.24 1690.75,-56.07 1694.75,-61.82\"/>\n</g>\n</g>\n</svg>\n",
            "text/plain": [
              "<graphviz.sources.Source at 0x7cd886653370>"
            ]
          },
          "metadata": {},
          "execution_count": 31
        }
      ],
      "source": [
        "export_graphviz(tree, out_file=\"tree.dot\", class_names=[\"Não Lesão\", \"Lesão\"], feature_names=X_pca.columns, impurity=False, filled=True)\n",
        "\n",
        "with open(\"tree.dot\") as f:\n",
        "  dot_graph = f.read()\n",
        "graphviz.Source(dot_graph)"
      ]
    },
    {
      "cell_type": "code",
      "source": [
        "from six import StringIO\n",
        "import pydotplus\n",
        "\n",
        "dot_data = StringIO()\n",
        "export_graphviz(tree, out_file=dot_data, class_names=[\"Não Lesão\", \"Lesão\"], feature_names=X_pca.columns, impurity=False, filled=True)\n",
        "graph = pydotplus.graph_from_dot_data(dot_data.getvalue())\n",
        "graph.write_png('my_decision_tree3.png')"
      ],
      "metadata": {
        "colab": {
          "base_uri": "https://localhost:8080/"
        },
        "id": "XgVZXyYQNDfp",
        "outputId": "8912cec3-1058-40dd-e53b-0a8e15a0c0e5"
      },
      "execution_count": null,
      "outputs": [
        {
          "output_type": "execute_result",
          "data": {
            "text/plain": [
              "True"
            ]
          },
          "metadata": {},
          "execution_count": 32
        }
      ]
    },
    {
      "cell_type": "code",
      "execution_count": null,
      "metadata": {
        "id": "v7z0TJ9aA8sc",
        "colab": {
          "base_uri": "https://localhost:8080/",
          "height": 509
        },
        "outputId": "9419d72a-9260-44be-c2fa-2fd287084de7"
      },
      "outputs": [
        {
          "output_type": "stream",
          "name": "stdout",
          "text": [
            "[[329  56]\n",
            " [  0 385]]\n"
          ]
        },
        {
          "output_type": "display_data",
          "data": {
            "text/plain": [
              "<Figure size 640x480 with 2 Axes>"
            ],
            "image/png": "[encoded data removed]"
          },
          "metadata": {}
        }
      ],
      "source": [
        "model = DecisionTreeClassifier()\n",
        "model.fit(X_train, y_train)\n",
        "y_pred = model.predict(X_teste)\n",
        "\n",
        "from sklearn.metrics import confusion_matrix\n",
        "\n",
        "labels = [\"(Não Lesão)\", \"(Lesão)\"]\n",
        "cf_matrix = confusion_matrix(y_teste, y_pred)\n",
        "print(cf_matrix)\n",
        "\n",
        "import seaborn as sns\n",
        "ax= plt.subplot()\n",
        "sns.heatmap(cf_matrix, annot=True, fmt='g', ax=ax, cmap = 'Blues')\n",
        "\n",
        "ax.set_xlabel('Predicted labels');ax.set_ylabel('True labels');\n",
        "ax.set_title('Matriz de Confusão - DT/PCA');\n",
        "ax.xaxis.set_ticklabels(['Não Lesão', 'Lesão']); ax.yaxis.set_ticklabels(['Não Lesão', 'Lesão']);"
      ]
    }
  ],
  "metadata": {
    "colab": {
      "provenance": [],
      "include_colab_link": true
    },
    "kernelspec": {
      "display_name": "Python 3",
      "name": "python3"
    },
    "language_info": {
      "name": "python"
    }
  },
  "nbformat": 4,
  "nbformat_minor": 0
}