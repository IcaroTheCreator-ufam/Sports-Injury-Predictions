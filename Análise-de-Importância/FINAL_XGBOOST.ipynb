{
  "cells": [
    {
      "cell_type": "markdown",
      "metadata": {
        "id": "XyzQsc2YYolP"
      },
      "source": [
        "#NFL Injury Analysis\n",
        "\n"
      ]
    },
    {
      "cell_type": "code",
      "execution_count": null,
      "metadata": {
        "id": "OQf__IFgkV5N",
        "colab": {
          "base_uri": "https://localhost:8080/"
        },
        "outputId": "873d899b-9da8-4614-d0cf-60b19ccdebc6"
      },
      "outputs": [
        {
          "output_type": "stream",
          "name": "stdout",
          "text": [
            "Requirement already satisfied: mglearn in /usr/local/lib/python3.10/dist-packages (0.2.0)\n",
            "Requirement already satisfied: numpy in /usr/local/lib/python3.10/dist-packages (from mglearn) (1.25.2)\n",
            "Requirement already satisfied: matplotlib in /usr/local/lib/python3.10/dist-packages (from mglearn) (3.7.1)\n",
            "Requirement already satisfied: scikit-learn in /usr/local/lib/python3.10/dist-packages (from mglearn) (1.2.2)\n",
            "Requirement already satisfied: pandas in /usr/local/lib/python3.10/dist-packages (from mglearn) (2.0.3)\n",
            "Requirement already satisfied: pillow in /usr/local/lib/python3.10/dist-packages (from mglearn) (9.4.0)\n",
            "Requirement already satisfied: cycler in /usr/local/lib/python3.10/dist-packages (from mglearn) (0.12.1)\n",
            "Requirement already satisfied: imageio in /usr/local/lib/python3.10/dist-packages (from mglearn) (2.31.6)\n",
            "Requirement already satisfied: joblib in /usr/local/lib/python3.10/dist-packages (from mglearn) (1.4.0)\n",
            "Requirement already satisfied: contourpy>=1.0.1 in /usr/local/lib/python3.10/dist-packages (from matplotlib->mglearn) (1.2.1)\n",
            "Requirement already satisfied: fonttools>=4.22.0 in /usr/local/lib/python3.10/dist-packages (from matplotlib->mglearn) (4.51.0)\n",
            "Requirement already satisfied: kiwisolver>=1.0.1 in /usr/local/lib/python3.10/dist-packages (from matplotlib->mglearn) (1.4.5)\n",
            "Requirement already satisfied: packaging>=20.0 in /usr/local/lib/python3.10/dist-packages (from matplotlib->mglearn) (24.0)\n",
            "Requirement already satisfied: pyparsing>=2.3.1 in /usr/local/lib/python3.10/dist-packages (from matplotlib->mglearn) (3.1.2)\n",
            "Requirement already satisfied: python-dateutil>=2.7 in /usr/local/lib/python3.10/dist-packages (from matplotlib->mglearn) (2.8.2)\n",
            "Requirement already satisfied: pytz>=2020.1 in /usr/local/lib/python3.10/dist-packages (from pandas->mglearn) (2023.4)\n",
            "Requirement already satisfied: tzdata>=2022.1 in /usr/local/lib/python3.10/dist-packages (from pandas->mglearn) (2024.1)\n",
            "Requirement already satisfied: scipy>=1.3.2 in /usr/local/lib/python3.10/dist-packages (from scikit-learn->mglearn) (1.11.4)\n",
            "Requirement already satisfied: threadpoolctl>=2.0.0 in /usr/local/lib/python3.10/dist-packages (from scikit-learn->mglearn) (3.5.0)\n",
            "Requirement already satisfied: six>=1.5 in /usr/local/lib/python3.10/dist-packages (from python-dateutil>=2.7->matplotlib->mglearn) (1.16.0)\n",
            "Drive already mounted at /content/drive; to attempt to forcibly remount, call drive.mount(\"/content/drive\", force_remount=True).\n"
          ]
        }
      ],
      "source": [
        "#Importando as bibliotecas necessárias para processamento de dados, plotagem gráfica e treinamento dos modelos\n",
        "\n",
        "import numpy as np\n",
        "import pandas as pd #processamento de dados, para abrir o dataset (arquivo .csv)\n",
        "import itertools\n",
        "import seaborn as sns\n",
        "from sklearn.model_selection import train_test_split\n",
        "!pip install mglearn\n",
        "\n",
        "from google.colab import drive #para conectar o google drive ao notebook e trazer os datasets para cá\n",
        "drive.mount('/content/drive') #diretório onde o drive vai ser instaurado\n",
        "\n",
        "'''#from google.colab import files''' #função import para justamente fazer o upload dos arquivos do drive\n",
        "'''uploaded = files.upload()''' #para caso de upload\n",
        "\n",
        "# para caso de usar imagens\n",
        "import PIL\n",
        "from PIL import Image\n",
        "\n",
        "# para plotagem de gráficos\n",
        "import matplotlib.pyplot as plt #biblioteca mais comum para plotar as imagens\n",
        "import seaborn as snsC\n",
        "import scipy.stats as ss\n",
        "\n",
        "# bibliotecas e modelos para o treinamento dos modelos\n",
        "from sklearn.model_selection import StratifiedKFold #função da biblioteca sklearn para dividir os sets de maneira estratificada\n",
        "from sklearn.model_selection import train_test_split #função da biblioteca sklearn para dividir os sets de maneira padrão\n",
        "from imblearn.over_sampling import RandomOverSampler, SMOTE #funções para over sampling (aumentar quantidade de ex da classe minoritária (lesão))\n",
        "import xgboost as xgb #um dos modelos de ML\n",
        "from sklearn.metrics import accuracy_score, confusion_matrix, cohen_kappa_score #funções que irão avaliar os modelos por meio de scores\n",
        "from sklearn.metrics import (ConfusionMatrixDisplay, f1_score, classification_report) #mais funções para avaliação do modelo\n",
        "from sklearn.tree import export_graphviz #função para imprimir a árvore de decisão\n",
        "import graphviz"
      ]
    },
    {
      "cell_type": "markdown",
      "metadata": {
        "id": "J1FP4R5t0DjZ"
      },
      "source": [
        "# Load Data"
      ]
    },
    {
      "cell_type": "code",
      "execution_count": null,
      "metadata": {
        "id": "NuEdLzZ2bKv9"
      },
      "outputs": [],
      "source": [
        "play_df = pd.read_csv('/content/drive/My Drive/Datasets/PlayList.csv')\n",
        "#player_df = pd.read_csv('/content/drive/My Drive/Datasets/PlayerTrackData.csv')\n",
        "#este último dataset foi descartado pois ele pesa 3.7 GB e estoura a memória RAM gratuita do Colab e também seus dados não afetam o treinamento de nossos modelos\n",
        "injury_df = pd.read_csv('/content/drive/My Drive/Datasets/InjuryRecord.csv')"
      ]
    },
    {
      "cell_type": "code",
      "execution_count": null,
      "metadata": {
        "id": "JdSvD3LjagOc",
        "colab": {
          "base_uri": "https://localhost:8080/"
        },
        "outputId": "656f0276-9fa4-46b1-f3bc-7a8a266a7f7e"
      },
      "outputs": [
        {
          "output_type": "stream",
          "name": "stdout",
          "text": [
            "There are 250 players in the dataset.\n",
            "There are 5712 games in the dataset.\n",
            "There are 267005 plays in the dataset.\n"
          ]
        }
      ],
      "source": [
        "#Exploração de dados\n",
        "#Primeiramente gostaria de fazer a limpeza inicial e fazer visualizações para me familiarizar com os dados e gerar ideias para análises posteriores.\n",
        "#Explorar conjunto de dados\n",
        "\n",
        "unique_players = play_df.PlayerKey.nunique()\n",
        "unique_games = play_df.GameID.nunique()\n",
        "unique_plays = play_df.PlayKey.nunique()\n",
        "\n",
        "print('There are {} players in the dataset.'.format(unique_players))\n",
        "print('There are {} games in the dataset.'.format(unique_games))\n",
        "print('There are {} plays in the dataset.'.format(unique_plays))"
      ]
    },
    {
      "cell_type": "code",
      "execution_count": null,
      "metadata": {
        "id": "SF5jfYBrcdL5"
      },
      "outputs": [],
      "source": [
        "#Game exploration:\n",
        "# create a dataframe with game-level information\n",
        "game_df = play_df[['GameID', 'StadiumType', 'FieldType', 'Weather', 'Temperature']].drop_duplicates().reset_index().drop(columns=['index'])"
      ]
    },
    {
      "cell_type": "code",
      "execution_count": null,
      "metadata": {
        "id": "1Ga0NNkacvSz"
      },
      "outputs": [],
      "source": [
        "def clean_weather(row):\n",
        "    cloudy = ['Cloudy 50% change of rain', 'Hazy', 'Cloudy.', 'Overcast', 'Mostly Cloudy',\n",
        "          'Cloudy, fog started developing in 2nd quarter', 'Partly Cloudy',\n",
        "          'Mostly cloudy', 'Rain Chance 40%',' Partly cloudy', 'Party Cloudy',\n",
        "          'Rain likely, temps in low 40s', 'Partly Clouidy', 'Cloudy, 50% change of rain','Mostly Coudy', '10% Chance of Rain',\n",
        "          'Cloudy, chance of rain', '30% Chance of Rain', 'Cloudy, light snow accumulating 1-3\"',\n",
        "          'cloudy', 'Coudy', 'Cloudy with periods of rain, thunder possible. Winds shifting to WNW, 10-20 mph.',\n",
        "         'Cloudy fog started developing in 2nd quarter', 'Cloudy light snow accumulating 1-3\"',\n",
        "         'Cloudywith periods of rain, thunder possible. Winds shifting to WNW, 10-20 mph.',\n",
        "         'Cloudy 50% change of rain', 'Cloudy and cold',\n",
        "       'Cloudy and Cool', 'Partly cloudy']\n",
        "\n",
        "    clear = ['Clear, Windy',' Clear to Cloudy', 'Clear, highs to upper 80s',\n",
        "             'Clear and clear','Partly sunny',\n",
        "             'Clear, Windy', 'Clear skies', 'Sunny', 'Partly Sunny', 'Mostly Sunny', 'Clear Skies',\n",
        "             'Sunny Skies', 'Partly clear', 'Fair', 'Sunny, highs to upper 80s', 'Sun & clouds', 'Mostly sunny','Sunny, Windy',\n",
        "             'Mostly Sunny Skies', 'Clear and Sunny', 'Clear and sunny','Clear to Partly Cloudy', 'Clear Skies',\n",
        "            'Clear and cold', 'Clear and warm', 'Clear and Cool', 'Sunny and cold', 'Sunny and warm', 'Sunny and clear']\n",
        "\n",
        "    rainy = ['Rainy', 'Scattered Showers', 'Showers', 'Cloudy Rain', 'Light Rain', 'Rain shower', 'Rain likely, temps in low 40s.', 'Cloudy, Rain']\n",
        "\n",
        "    snow = ['Heavy lake effect snow']\n",
        "\n",
        "    indoor = ['Controlled Climate', 'Indoors', 'N/A Indoor', 'N/A (Indoors)']\n",
        "\n",
        "    if row.Weather in cloudy:\n",
        "        return 'Cloudy'\n",
        "\n",
        "    if row.Weather in indoor:\n",
        "        return 'Indoor'\n",
        "\n",
        "    if row.Weather in clear:\n",
        "        return 'Clear'\n",
        "\n",
        "    if row.Weather in rainy:\n",
        "        return 'Rain'\n",
        "\n",
        "    if row.Weather in snow:\n",
        "        return 'Snow'\n",
        "\n",
        "    if row.Weather in ['Cloudy.', 'Heat Index 95', 'Cold']:\n",
        "        return np.nan\n",
        "\n",
        "    return row.Weather\n",
        "\n",
        "def clean_stadiumtype(row):\n",
        "    if row.StadiumType in ['Bowl', 'Heinz Field', 'Cloudy']:\n",
        "        return np.nan\n",
        "    else:\n",
        "        return row.StadiumType\n",
        "\n",
        "def clean_play_df(play_df):\n",
        "    play_df_cleaned = play_df.copy()\n",
        "\n",
        "    # clean StadiumType\n",
        "    play_df_cleaned['StadiumType'] = play_df_cleaned['StadiumType'].str.replace(r'Oudoor|Outdoors|Ourdoor|Outddors|Outdor|Outside', 'Outdoor')\n",
        "    play_df_cleaned['StadiumType'] = play_df_cleaned['StadiumType'].str.replace(r'Indoors|Indoor, Roof Closed|Indoor, Open Roof', 'Indoor')\n",
        "    play_df_cleaned['StadiumType'] = play_df_cleaned['StadiumType'].str.replace(r'Closed Dome|Domed, closed|Domed, Open|Domed, open|Dome, closed|Domed', 'Dome')\n",
        "    play_df_cleaned['StadiumType'] = play_df_cleaned['StadiumType'].str.replace(r'Retr. Roof-Closed|Outdoor Retr Roof-Open|Retr. Roof - Closed|Retr. Roof-Open|Retr. Roof - Open|Retr. Roof Closed', 'Retractable Roof')\n",
        "    play_df_cleaned['StadiumType'] = play_df_cleaned['StadiumType'].str.replace('Open', 'Outdoor')\n",
        "    play_df_cleaned['StadiumType'] = play_df_cleaned.apply(lambda row: clean_stadiumtype(row), axis=1)\n",
        "\n",
        "    # clean Weather\n",
        "    play_df_cleaned['Weather'] = play_df_cleaned.apply(lambda row: clean_weather(row), axis=1)\n",
        "\n",
        "    return play_df_cleaned"
      ]
    },
    {
      "cell_type": "code",
      "execution_count": null,
      "metadata": {
        "id": "LaWxyn2RcyxZ"
      },
      "outputs": [],
      "source": [
        "play_df_cleaned = clean_play_df(play_df)\n",
        "game_df_cleaned = play_df_cleaned[['GameID', 'StadiumType', 'FieldType', 'Weather', 'Temperature']].drop_duplicates().reset_index().drop(columns=['index'])"
      ]
    },
    {
      "cell_type": "code",
      "execution_count": null,
      "metadata": {
        "id": "x9SScd7Kf1mU",
        "colab": {
          "base_uri": "https://localhost:8080/"
        },
        "outputId": "68162a5a-32b2-41e1-8649-7f5c5fdc3433"
      },
      "outputs": [
        {
          "output_type": "stream",
          "name": "stdout",
          "text": [
            "There are 105 injury records in total.\n"
          ]
        }
      ],
      "source": [
        "#Vejamos rapidamente as lesões:\n",
        "print('There are {} injury records in total.'.format(len(injury_df)))"
      ]
    },
    {
      "cell_type": "code",
      "execution_count": null,
      "metadata": {
        "id": "HxvJfYEGf6WJ",
        "colab": {
          "base_uri": "https://localhost:8080/"
        },
        "outputId": "5e4a7a97-2ba9-43d2-8d66-01c42d904bf8"
      },
      "outputs": [
        {
          "output_type": "stream",
          "name": "stdout",
          "text": [
            "100 unique players injured\n"
          ]
        }
      ],
      "source": [
        "print('{} unique players injured'.format(len(injury_df.PlayerKey.unique())))"
      ]
    },
    {
      "cell_type": "code",
      "execution_count": null,
      "metadata": {
        "id": "e-kaiRkUf-3i",
        "colab": {
          "base_uri": "https://localhost:8080/"
        },
        "outputId": "5163f716-d22a-4c73-f9f0-26d2b41ec38d"
      },
      "outputs": [
        {
          "output_type": "stream",
          "name": "stdout",
          "text": [
            "There are 28 PlayKey values missing.\n"
          ]
        }
      ],
      "source": [
        "#Isso significa que há jogadores lesionados duas vezes!\n",
        "\n",
        "print('There are {} PlayKey values missing.'.format(len(injury_df) - injury_df.PlayKey.count()))"
      ]
    },
    {
      "cell_type": "code",
      "execution_count": null,
      "metadata": {
        "id": "2RqExV0dgkfM"
      },
      "outputs": [],
      "source": [
        "# joined cleaned games dataset and injury dataset\n",
        "game_injury_df = injury_df.set_index('GameID').join(game_df_cleaned.set_index('GameID'), how = 'outer')\n",
        "\n",
        "# fill null values for the injury columns with zeros\n",
        "game_injury_df['DM_M1'] = game_injury_df['DM_M1'].fillna(0).astype(int)\n",
        "game_injury_df['DM_M7'] = game_injury_df['DM_M7'].fillna(0).astype(int)\n",
        "game_injury_df['DM_M28'] = game_injury_df['DM_M28'].fillna(0).astype(int)\n",
        "game_injury_df['DM_M42'] = game_injury_df['DM_M42'].fillna(0).astype(int)\n",
        "\n",
        "game_injury_df.DM_M1 = game_injury_df.DM_M1 - game_injury_df.DM_M7\n",
        "game_injury_df.DM_M7 = game_injury_df.DM_M7 - game_injury_df.DM_M28\n",
        "game_injury_df.DM_M28 = game_injury_df.DM_M28 - game_injury_df.DM_M42\n",
        "\n",
        "# introduce a column with a flag indicating an injury\n",
        "game_injury_df['Injury'] = game_injury_df['DM_M1'] + game_injury_df['DM_M7'] + game_injury_df['DM_M28'] + game_injury_df['DM_M42']\n",
        "\n",
        "# drop duplicated surface column\n",
        "game_injury_df = game_injury_df.drop(columns=['Surface'])\n",
        "\n",
        "# drop play-level features just for now\n",
        "game_injury_df = game_injury_df.drop(columns=['PlayerKey', 'PlayKey'])\n",
        "\n",
        "# create dummy variables\n",
        "game_injury_df_dummies = pd.get_dummies(game_injury_df, dummy_na = True, drop_first = True).drop(columns=['FieldType_nan'])"
      ]
    },
    {
      "cell_type": "code",
      "execution_count": null,
      "metadata": {
        "id": "eqfLSkpZiqQd"
      },
      "outputs": [],
      "source": [
        "# joined cleaned games dataset and injury dataset\n",
        "play_injury_df = injury_df.dropna(subset=['PlayKey']).set_index('PlayKey').join(play_df_cleaned.set_index('PlayKey'), how = 'outer', lsuffix='_left', rsuffix='_right')\n",
        "\n",
        "# fill null values for the injury columns with zeros\n",
        "play_injury_df['DM_M1'] = play_injury_df['DM_M1'].fillna(0).astype(int)\n",
        "play_injury_df['DM_M7'] = play_injury_df['DM_M7'].fillna(0).astype(int)\n",
        "play_injury_df['DM_M28'] = play_injury_df['DM_M28'].fillna(0).astype(int)\n",
        "play_injury_df['DM_M42'] = play_injury_df['DM_M42'].fillna(0).astype(int)\n",
        "\n",
        "# introduce a column with a flag indicating an injury\n",
        "play_injury_df.DM_M1 = play_injury_df.DM_M1 - play_injury_df.DM_M7\n",
        "play_injury_df.DM_M7 = play_injury_df.DM_M7 - play_injury_df.DM_M28\n",
        "play_injury_df.DM_M28 = play_injury_df.DM_M28 - play_injury_df.DM_M42\n",
        "\n",
        "play_injury_df['Injury'] = play_injury_df['DM_M1'] + play_injury_df['DM_M7'] + play_injury_df['DM_M28']+ play_injury_df['DM_M42']\n",
        "\n",
        "# drop duplicated surface column\n",
        "play_injury_df = play_injury_df.drop(columns=['Surface'])\n",
        "\n",
        "# create dummy variables\n",
        "play_injury_df_dummies = pd.get_dummies(play_injury_df, columns = ['PlayType', 'PositionGroup'], dummy_na = True, drop_first = True)"
      ]
    },
    {
      "cell_type": "code",
      "execution_count": null,
      "metadata": {
        "id": "8dwKR6phiBkv"
      },
      "outputs": [],
      "source": [
        "features_df = play_injury_df.copy().reset_index()\n",
        "features_df = features_df.drop(columns=['PlayerKey_left','GameID_left','BodyPart', 'PlayKey', 'PlayerKey_right', 'GameID_right', 'DM_M1', 'DM_M7', 'DM_M28', 'DM_M42'])"
      ]
    },
    {
      "cell_type": "code",
      "execution_count": null,
      "metadata": {
        "id": "4p0IBaEtL2qV",
        "colab": {
          "base_uri": "https://localhost:8080/"
        },
        "outputId": "d5d91e11-0767-42de-b7a0-f43f5c8173bb"
      },
      "outputs": [
        {
          "output_type": "stream",
          "name": "stdout",
          "text": [
            "['PlayerDay', 'PlayerGame', 'Temperature', 'PlayerGamePlay', 'Injury', 'RosterPosition_Defensive Lineman', 'RosterPosition_Kicker', 'RosterPosition_Linebacker', 'RosterPosition_Offensive Lineman', 'RosterPosition_Quarterback', 'RosterPosition_Running Back', 'RosterPosition_Safety', 'RosterPosition_Tight End', 'RosterPosition_Wide Receiver', 'StadiumType_Dome', 'StadiumType_Dome, closed', 'StadiumType_Domed', 'StadiumType_Domed, Outdoor', 'StadiumType_Domed, closed', 'StadiumType_Domed, open', 'StadiumType_Indoor', 'StadiumType_Indoor, Outdoor Roof', 'StadiumType_Indoor, Roof Closed', 'StadiumType_Indoors', 'StadiumType_Oudoor', 'StadiumType_Ourdoor', 'StadiumType_Outddors', 'StadiumType_Outdoor', 'StadiumType_Outdoor Retr Roof-Outdoor', 'StadiumType_Outdoors', 'StadiumType_Outdor', 'StadiumType_Outside', 'StadiumType_Retr. Roof - Closed', 'StadiumType_Retr. Roof - Outdoor', 'StadiumType_Retr. Roof Closed', 'StadiumType_Retr. Roof-Closed', 'StadiumType_Retr. Roof-Outdoor', 'StadiumType_Retractable Roof', 'FieldType_Synthetic', 'Weather_Cloudy', 'Weather_Indoor', 'Weather_Rain', 'Weather_Snow', 'PlayType_Extra Point', 'PlayType_Field Goal', 'PlayType_Kickoff', 'PlayType_Kickoff Not Returned', 'PlayType_Kickoff Returned', 'PlayType_Pass', 'PlayType_Punt', 'PlayType_Punt Not Returned', 'PlayType_Punt Returned', 'PlayType_Rush', 'Position_CB', 'Position_DB', 'Position_DE', 'Position_DT', 'Position_FS', 'Position_G', 'Position_HB', 'Position_ILB', 'Position_K', 'Position_LB', 'Position_MLB', 'Position_Missing Data', 'Position_NT', 'Position_OLB', 'Position_P', 'Position_QB', 'Position_RB', 'Position_S', 'Position_SS', 'Position_T', 'Position_TE', 'Position_WR', 'PositionGroup_DL', 'PositionGroup_LB', 'PositionGroup_Missing Data', 'PositionGroup_OL', 'PositionGroup_QB', 'PositionGroup_RB', 'PositionGroup_SPEC', 'PositionGroup_TE', 'PositionGroup_WR']\n"
          ]
        }
      ],
      "source": [
        "# reset index\n",
        "features_df = play_injury_df.copy().reset_index()\n",
        "# drop the irrelevant columns\n",
        "features_df = features_df.drop(columns=['PlayerKey_left','GameID_left','BodyPart', 'PlayKey', 'PlayerKey_right', 'GameID_right', 'DM_M1', 'DM_M7', 'DM_M28', 'DM_M42'])\n",
        "# convert into dummies\n",
        "features_df = pd.get_dummies(features_df, dummy_na = False, drop_first = True, dtype = int)\n",
        "print(list(features_df))"
      ]
    },
    {
      "cell_type": "code",
      "source": [
        "#aqui que muda, haverá um segundo descarte de features, com base na filtragem de feature_importance menor que 0.01\n",
        "features_df = features_df.drop(columns=['PositionGroup_LB'])\n",
        "features_df = features_df.drop(columns=['RosterPosition_Linebacker'])\n",
        "features_df = features_df.drop(columns=['PositionGroup_Missing Data'])\n",
        "features_df = features_df.drop(columns=['PositionGroup_QB'])\n",
        "features_df = features_df.drop(columns=['Position_WR'])\n",
        "features_df = features_df.drop(columns=['Position_RB'])\n",
        "features_df = features_df.drop(columns=['Position_TE'])\n",
        "features_df = features_df.drop(columns=['PositionGroup_RB'])\n",
        "features_df = features_df.drop(columns=['PositionGroup_SPEC'])\n",
        "features_df = features_df.drop(columns=['PositionGroup_TE'])\n",
        "features_df = features_df.drop(columns=['Position_S'])\n",
        "features_df = features_df.drop(columns=['Position_ILB'])\n",
        "features_df = features_df.drop(columns=['Position_QB'])\n",
        "features_df = features_df.drop(columns=['Position_P'])\n",
        "features_df = features_df.drop(columns=['Position_NT'])\n",
        "features_df = features_df.drop(columns=['Position_Missing Data'])\n",
        "features_df = features_df.drop(columns=['Position_LB'])\n",
        "features_df = features_df.drop(columns=['Position_K'])\n",
        "features_df = features_df.drop(columns=['Position_HB'])\n",
        "features_df = features_df.drop(columns=['RosterPosition_Kicker'])\n",
        "features_df = features_df.drop(columns=['Position_DE'])\n",
        "features_df = features_df.drop(columns=['Position_DB'])\n",
        "features_df = features_df.drop(columns=['PlayType_Punt Not Returned'])\n",
        "features_df = features_df.drop(columns=['PlayType_Kickoff Returned'])\n",
        "features_df = features_df.drop(columns=['Weather_Snow'])\n",
        "features_df = features_df.drop(columns=['PositionGroup_WR'])\n",
        "features_df = features_df.drop(columns=['Position_FS'])\n",
        "features_df = features_df.drop(columns=['PlayType_Kickoff'])\n",
        "features_df = features_df.drop(columns=['StadiumType_Retractable Roof'])\n",
        "features_df = features_df.drop(columns=['Weather_Rain'])\n",
        "features_df = features_df.drop(columns=['PositionGroup_DL'])\n",
        "features_df = features_df.drop(columns=['Position_MLB'])\n",
        "features_df = features_df.drop(columns=['StadiumType_Ourdoor'])\n",
        "features_df = features_df.drop(columns=['StadiumType_Retr. Roof - Outdoor'])\n",
        "features_df = features_df.drop(columns=['StadiumType_Domed, open'])\n",
        "features_df = features_df.drop(columns=['RosterPosition_Offensive Lineman'])\n",
        "features_df = features_df.drop(columns=['RosterPosition_Tight End'])\n",
        "features_df = features_df.drop(columns=['RosterPosition_Wide Receiver'])\n",
        "features_df = features_df.drop(columns=['StadiumType_Dome, closed'])\n",
        "features_df = features_df.drop(columns=['StadiumType_Domed'])\n",
        "features_df = features_df.drop(columns=['StadiumType_Domed, Outdoor'])\n",
        "features_df = features_df.drop(columns=['StadiumType_Domed, closed'])\n",
        "features_df = features_df.drop(columns=['StadiumType_Indoor, Outdoor Roof'])\n",
        "features_df = features_df.drop(columns=['StadiumType_Indoor, Roof Closed'])\n",
        "features_df = features_df.drop(columns=['StadiumType_Retr. Roof - Closed'])\n",
        "features_df = features_df.drop(columns=['StadiumType_Outdoor Retr Roof-Outdoor'])\n",
        "features_df = features_df.drop(columns=['StadiumType_Outdoors'])\n",
        "features_df = features_df.drop(columns=['StadiumType_Outside'])\n",
        "features_df = features_df.drop(columns=['StadiumType_Retr. Roof-Closed'])\n",
        "features_df = features_df.drop(columns=['PositionGroup_OL'])\n",
        "features_df = features_df.drop(columns=['Weather_Indoor'])\n",
        "features_df = features_df.drop(columns=['PlayType_Extra Point'])\n",
        "features_df = features_df.drop(columns=['StadiumType_Retr. Roof Closed'])\n",
        "features_df = features_df.drop(columns=['StadiumType_Outdoor'])\n",
        "features_df = features_df.drop(columns=['Position_SS'])\n",
        "#features_df = features_df.drop(columns=['StadiumType_Retr.Roof-Outdoor'])\n",
        "features_df = features_df.drop(columns=['StadiumType_Outdor'])\n"
      ],
      "metadata": {
        "id": "yZuik_AHylc_"
      },
      "execution_count": null,
      "outputs": []
    },
    {
      "cell_type": "code",
      "source": [
        "features_df"
      ],
      "metadata": {
        "colab": {
          "base_uri": "https://localhost:8080/",
          "height": 461
        },
        "id": "ob8tvMWnUiVe",
        "outputId": "521fa48f-a93c-484c-912d-7832f7aaae83"
      },
      "execution_count": null,
      "outputs": [
        {
          "output_type": "execute_result",
          "data": {
            "text/plain": [
              "        PlayerDay  PlayerGame  Temperature  PlayerGamePlay  Injury  \\\n",
              "0               1           1           63               1       0   \n",
              "1               1           1           63              10       0   \n",
              "2               1           1           63              11       0   \n",
              "3               1           1           63              12       0   \n",
              "4               1           1           63              13       0   \n",
              "...           ...         ...          ...             ...     ...   \n",
              "267001         71           9           53              54       0   \n",
              "267002         71           9           53               6       0   \n",
              "267003         71           9           53               7       0   \n",
              "267004         71           9           53               8       0   \n",
              "267005         71           9           53               9       0   \n",
              "\n",
              "        RosterPosition_Defensive Lineman  RosterPosition_Quarterback  \\\n",
              "0                                      0                           1   \n",
              "1                                      0                           1   \n",
              "2                                      0                           1   \n",
              "3                                      0                           1   \n",
              "4                                      0                           1   \n",
              "...                                  ...                         ...   \n",
              "267001                                 0                           0   \n",
              "267002                                 0                           0   \n",
              "267003                                 0                           0   \n",
              "267004                                 0                           0   \n",
              "267005                                 0                           0   \n",
              "\n",
              "        RosterPosition_Running Back  RosterPosition_Safety  StadiumType_Dome  \\\n",
              "0                                 0                      0                 0   \n",
              "1                                 0                      0                 0   \n",
              "2                                 0                      0                 0   \n",
              "3                                 0                      0                 0   \n",
              "4                                 0                      0                 0   \n",
              "...                             ...                    ...               ...   \n",
              "267001                            0                      0                 0   \n",
              "267002                            0                      0                 0   \n",
              "267003                            0                      0                 0   \n",
              "267004                            0                      0                 0   \n",
              "267005                            0                      0                 0   \n",
              "\n",
              "        ...  PlayType_Kickoff Not Returned  PlayType_Pass  PlayType_Punt  \\\n",
              "0       ...                              0              1              0   \n",
              "1       ...                              0              1              0   \n",
              "2       ...                              0              0              0   \n",
              "3       ...                              0              1              0   \n",
              "4       ...                              0              1              0   \n",
              "...     ...                            ...            ...            ...   \n",
              "267001  ...                              0              1              0   \n",
              "267002  ...                              0              1              0   \n",
              "267003  ...                              0              0              0   \n",
              "267004  ...                              0              1              0   \n",
              "267005  ...                              0              1              0   \n",
              "\n",
              "        PlayType_Punt Returned  PlayType_Rush  Position_CB  Position_DT  \\\n",
              "0                            0              0            0            0   \n",
              "1                            0              0            0            0   \n",
              "2                            0              1            0            0   \n",
              "3                            0              0            0            0   \n",
              "4                            0              0            0            0   \n",
              "...                        ...            ...          ...          ...   \n",
              "267001                       0              0            0            0   \n",
              "267002                       0              0            0            0   \n",
              "267003                       0              1            0            0   \n",
              "267004                       0              0            0            0   \n",
              "267005                       0              0            0            0   \n",
              "\n",
              "        Position_G  Position_OLB  Position_T  \n",
              "0                0             0           0  \n",
              "1                0             0           0  \n",
              "2                0             0           0  \n",
              "3                0             0           0  \n",
              "4                0             0           0  \n",
              "...            ...           ...         ...  \n",
              "267001           0             0           0  \n",
              "267002           0             0           0  \n",
              "267003           0             0           0  \n",
              "267004           0             0           0  \n",
              "267005           0             0           0  \n",
              "\n",
              "[267006 rows x 28 columns]"
            ],
            "text/html": [
              "\n",
              "  <div id=\"df-12b8b9de-da4c-41d7-8fb3-c519d908aca2\" class=\"colab-df-container\">\n",
              "    <div>\n",
              "<style scoped>\n",
              "    .dataframe tbody tr th:only-of-type {\n",
              "        vertical-align: middle;\n",
              "    }\n",
              "\n",
              "    .dataframe tbody tr th {\n",
              "        vertical-align: top;\n",
              "    }\n",
              "\n",
              "    .dataframe thead th {\n",
              "        text-align: right;\n",
              "    }\n",
              "</style>\n",
              "<table border=\"1\" class=\"dataframe\">\n",
              "  <thead>\n",
              "    <tr style=\"text-align: right;\">\n",
              "      <th></th>\n",
              "      <th>PlayerDay</th>\n",
              "      <th>PlayerGame</th>\n",
              "      <th>Temperature</th>\n",
              "      <th>PlayerGamePlay</th>\n",
              "      <th>Injury</th>\n",
              "      <th>RosterPosition_Defensive Lineman</th>\n",
              "      <th>RosterPosition_Quarterback</th>\n",
              "      <th>RosterPosition_Running Back</th>\n",
              "      <th>RosterPosition_Safety</th>\n",
              "      <th>StadiumType_Dome</th>\n",
              "      <th>...</th>\n",
              "      <th>PlayType_Kickoff Not Returned</th>\n",
              "      <th>PlayType_Pass</th>\n",
              "      <th>PlayType_Punt</th>\n",
              "      <th>PlayType_Punt Returned</th>\n",
              "      <th>PlayType_Rush</th>\n",
              "      <th>Position_CB</th>\n",
              "      <th>Position_DT</th>\n",
              "      <th>Position_G</th>\n",
              "      <th>Position_OLB</th>\n",
              "      <th>Position_T</th>\n",
              "    </tr>\n",
              "  </thead>\n",
              "  <tbody>\n",
              "    <tr>\n",
              "      <th>0</th>\n",
              "      <td>1</td>\n",
              "      <td>1</td>\n",
              "      <td>63</td>\n",
              "      <td>1</td>\n",
              "      <td>0</td>\n",
              "      <td>0</td>\n",
              "      <td>1</td>\n",
              "      <td>0</td>\n",
              "      <td>0</td>\n",
              "      <td>0</td>\n",
              "      <td>...</td>\n",
              "      <td>0</td>\n",
              "      <td>1</td>\n",
              "      <td>0</td>\n",
              "      <td>0</td>\n",
              "      <td>0</td>\n",
              "      <td>0</td>\n",
              "      <td>0</td>\n",
              "      <td>0</td>\n",
              "      <td>0</td>\n",
              "      <td>0</td>\n",
              "    </tr>\n",
              "    <tr>\n",
              "      <th>1</th>\n",
              "      <td>1</td>\n",
              "      <td>1</td>\n",
              "      <td>63</td>\n",
              "      <td>10</td>\n",
              "      <td>0</td>\n",
              "      <td>0</td>\n",
              "      <td>1</td>\n",
              "      <td>0</td>\n",
              "      <td>0</td>\n",
              "      <td>0</td>\n",
              "      <td>...</td>\n",
              "      <td>0</td>\n",
              "      <td>1</td>\n",
              "      <td>0</td>\n",
              "      <td>0</td>\n",
              "      <td>0</td>\n",
              "      <td>0</td>\n",
              "      <td>0</td>\n",
              "      <td>0</td>\n",
              "      <td>0</td>\n",
              "      <td>0</td>\n",
              "    </tr>\n",
              "    <tr>\n",
              "      <th>2</th>\n",
              "      <td>1</td>\n",
              "      <td>1</td>\n",
              "      <td>63</td>\n",
              "      <td>11</td>\n",
              "      <td>0</td>\n",
              "      <td>0</td>\n",
              "      <td>1</td>\n",
              "      <td>0</td>\n",
              "      <td>0</td>\n",
              "      <td>0</td>\n",
              "      <td>...</td>\n",
              "      <td>0</td>\n",
              "      <td>0</td>\n",
              "      <td>0</td>\n",
              "      <td>0</td>\n",
              "      <td>1</td>\n",
              "      <td>0</td>\n",
              "      <td>0</td>\n",
              "      <td>0</td>\n",
              "      <td>0</td>\n",
              "      <td>0</td>\n",
              "    </tr>\n",
              "    <tr>\n",
              "      <th>3</th>\n",
              "      <td>1</td>\n",
              "      <td>1</td>\n",
              "      <td>63</td>\n",
              "      <td>12</td>\n",
              "      <td>0</td>\n",
              "      <td>0</td>\n",
              "      <td>1</td>\n",
              "      <td>0</td>\n",
              "      <td>0</td>\n",
              "      <td>0</td>\n",
              "      <td>...</td>\n",
              "      <td>0</td>\n",
              "      <td>1</td>\n",
              "      <td>0</td>\n",
              "      <td>0</td>\n",
              "      <td>0</td>\n",
              "      <td>0</td>\n",
              "      <td>0</td>\n",
              "      <td>0</td>\n",
              "      <td>0</td>\n",
              "      <td>0</td>\n",
              "    </tr>\n",
              "    <tr>\n",
              "      <th>4</th>\n",
              "      <td>1</td>\n",
              "      <td>1</td>\n",
              "      <td>63</td>\n",
              "      <td>13</td>\n",
              "      <td>0</td>\n",
              "      <td>0</td>\n",
              "      <td>1</td>\n",
              "      <td>0</td>\n",
              "      <td>0</td>\n",
              "      <td>0</td>\n",
              "      <td>...</td>\n",
              "      <td>0</td>\n",
              "      <td>1</td>\n",
              "      <td>0</td>\n",
              "      <td>0</td>\n",
              "      <td>0</td>\n",
              "      <td>0</td>\n",
              "      <td>0</td>\n",
              "      <td>0</td>\n",
              "      <td>0</td>\n",
              "      <td>0</td>\n",
              "    </tr>\n",
              "    <tr>\n",
              "      <th>...</th>\n",
              "      <td>...</td>\n",
              "      <td>...</td>\n",
              "      <td>...</td>\n",
              "      <td>...</td>\n",
              "      <td>...</td>\n",
              "      <td>...</td>\n",
              "      <td>...</td>\n",
              "      <td>...</td>\n",
              "      <td>...</td>\n",
              "      <td>...</td>\n",
              "      <td>...</td>\n",
              "      <td>...</td>\n",
              "      <td>...</td>\n",
              "      <td>...</td>\n",
              "      <td>...</td>\n",
              "      <td>...</td>\n",
              "      <td>...</td>\n",
              "      <td>...</td>\n",
              "      <td>...</td>\n",
              "      <td>...</td>\n",
              "      <td>...</td>\n",
              "    </tr>\n",
              "    <tr>\n",
              "      <th>267001</th>\n",
              "      <td>71</td>\n",
              "      <td>9</td>\n",
              "      <td>53</td>\n",
              "      <td>54</td>\n",
              "      <td>0</td>\n",
              "      <td>0</td>\n",
              "      <td>0</td>\n",
              "      <td>0</td>\n",
              "      <td>0</td>\n",
              "      <td>0</td>\n",
              "      <td>...</td>\n",
              "      <td>0</td>\n",
              "      <td>1</td>\n",
              "      <td>0</td>\n",
              "      <td>0</td>\n",
              "      <td>0</td>\n",
              "      <td>0</td>\n",
              "      <td>0</td>\n",
              "      <td>0</td>\n",
              "      <td>0</td>\n",
              "      <td>0</td>\n",
              "    </tr>\n",
              "    <tr>\n",
              "      <th>267002</th>\n",
              "      <td>71</td>\n",
              "      <td>9</td>\n",
              "      <td>53</td>\n",
              "      <td>6</td>\n",
              "      <td>0</td>\n",
              "      <td>0</td>\n",
              "      <td>0</td>\n",
              "      <td>0</td>\n",
              "      <td>0</td>\n",
              "      <td>0</td>\n",
              "      <td>...</td>\n",
              "      <td>0</td>\n",
              "      <td>1</td>\n",
              "      <td>0</td>\n",
              "      <td>0</td>\n",
              "      <td>0</td>\n",
              "      <td>0</td>\n",
              "      <td>0</td>\n",
              "      <td>0</td>\n",
              "      <td>0</td>\n",
              "      <td>0</td>\n",
              "    </tr>\n",
              "    <tr>\n",
              "      <th>267003</th>\n",
              "      <td>71</td>\n",
              "      <td>9</td>\n",
              "      <td>53</td>\n",
              "      <td>7</td>\n",
              "      <td>0</td>\n",
              "      <td>0</td>\n",
              "      <td>0</td>\n",
              "      <td>0</td>\n",
              "      <td>0</td>\n",
              "      <td>0</td>\n",
              "      <td>...</td>\n",
              "      <td>0</td>\n",
              "      <td>0</td>\n",
              "      <td>0</td>\n",
              "      <td>0</td>\n",
              "      <td>1</td>\n",
              "      <td>0</td>\n",
              "      <td>0</td>\n",
              "      <td>0</td>\n",
              "      <td>0</td>\n",
              "      <td>0</td>\n",
              "    </tr>\n",
              "    <tr>\n",
              "      <th>267004</th>\n",
              "      <td>71</td>\n",
              "      <td>9</td>\n",
              "      <td>53</td>\n",
              "      <td>8</td>\n",
              "      <td>0</td>\n",
              "      <td>0</td>\n",
              "      <td>0</td>\n",
              "      <td>0</td>\n",
              "      <td>0</td>\n",
              "      <td>0</td>\n",
              "      <td>...</td>\n",
              "      <td>0</td>\n",
              "      <td>1</td>\n",
              "      <td>0</td>\n",
              "      <td>0</td>\n",
              "      <td>0</td>\n",
              "      <td>0</td>\n",
              "      <td>0</td>\n",
              "      <td>0</td>\n",
              "      <td>0</td>\n",
              "      <td>0</td>\n",
              "    </tr>\n",
              "    <tr>\n",
              "      <th>267005</th>\n",
              "      <td>71</td>\n",
              "      <td>9</td>\n",
              "      <td>53</td>\n",
              "      <td>9</td>\n",
              "      <td>0</td>\n",
              "      <td>0</td>\n",
              "      <td>0</td>\n",
              "      <td>0</td>\n",
              "      <td>0</td>\n",
              "      <td>0</td>\n",
              "      <td>...</td>\n",
              "      <td>0</td>\n",
              "      <td>1</td>\n",
              "      <td>0</td>\n",
              "      <td>0</td>\n",
              "      <td>0</td>\n",
              "      <td>0</td>\n",
              "      <td>0</td>\n",
              "      <td>0</td>\n",
              "      <td>0</td>\n",
              "      <td>0</td>\n",
              "    </tr>\n",
              "  </tbody>\n",
              "</table>\n",
              "<p>267006 rows × 28 columns</p>\n",
              "</div>\n",
              "    <div class=\"colab-df-buttons\">\n",
              "\n",
              "  <div class=\"colab-df-container\">\n",
              "    <button class=\"colab-df-convert\" onclick=\"convertToInteractive('df-12b8b9de-da4c-41d7-8fb3-c519d908aca2')\"\n",
              "            title=\"Convert this dataframe to an interactive table.\"\n",
              "            style=\"display:none;\">\n",
              "\n",
              "  <svg xmlns=\"http://www.w3.org/2000/svg\" height=\"24px\" viewBox=\"0 -960 960 960\">\n",
              "    <path d=\"M120-120v-720h720v720H120Zm60-500h600v-160H180v160Zm220 220h160v-160H400v160Zm0 220h160v-160H400v160ZM180-400h160v-160H180v160Zm440 0h160v-160H620v160ZM180-180h160v-160H180v160Zm440 0h160v-160H620v160Z\"/>\n",
              "  </svg>\n",
              "    </button>\n",
              "\n",
              "  <style>\n",
              "    .colab-df-container {\n",
              "      display:flex;\n",
              "      gap: 12px;\n",
              "    }\n",
              "\n",
              "    .colab-df-convert {\n",
              "      background-color: #E8F0FE;\n",
              "      border: none;\n",
              "      border-radius: 50%;\n",
              "      cursor: pointer;\n",
              "      display: none;\n",
              "      fill: #1967D2;\n",
              "      height: 32px;\n",
              "      padding: 0 0 0 0;\n",
              "      width: 32px;\n",
              "    }\n",
              "\n",
              "    .colab-df-convert:hover {\n",
              "      background-color: #E2EBFA;\n",
              "      box-shadow: 0px 1px 2px rgba(60, 64, 67, 0.3), 0px 1px 3px 1px rgba(60, 64, 67, 0.15);\n",
              "      fill: #174EA6;\n",
              "    }\n",
              "\n",
              "    .colab-df-buttons div {\n",
              "      margin-bottom: 4px;\n",
              "    }\n",
              "\n",
              "    [theme=dark] .colab-df-convert {\n",
              "      background-color: #3B4455;\n",
              "      fill: #D2E3FC;\n",
              "    }\n",
              "\n",
              "    [theme=dark] .colab-df-convert:hover {\n",
              "      background-color: #434B5C;\n",
              "      box-shadow: 0px 1px 3px 1px rgba(0, 0, 0, 0.15);\n",
              "      filter: drop-shadow(0px 1px 2px rgba(0, 0, 0, 0.3));\n",
              "      fill: #FFFFFF;\n",
              "    }\n",
              "  </style>\n",
              "\n",
              "    <script>\n",
              "      const buttonEl =\n",
              "        document.querySelector('#df-12b8b9de-da4c-41d7-8fb3-c519d908aca2 button.colab-df-convert');\n",
              "      buttonEl.style.display =\n",
              "        google.colab.kernel.accessAllowed ? 'block' : 'none';\n",
              "\n",
              "      async function convertToInteractive(key) {\n",
              "        const element = document.querySelector('#df-12b8b9de-da4c-41d7-8fb3-c519d908aca2');\n",
              "        const dataTable =\n",
              "          await google.colab.kernel.invokeFunction('convertToInteractive',\n",
              "                                                    [key], {});\n",
              "        if (!dataTable) return;\n",
              "\n",
              "        const docLinkHtml = 'Like what you see? Visit the ' +\n",
              "          '<a target=\"_blank\" href=https://colab.research.google.com/notebooks/data_table.ipynb>data table notebook</a>'\n",
              "          + ' to learn more about interactive tables.';\n",
              "        element.innerHTML = '';\n",
              "        dataTable['output_type'] = 'display_data';\n",
              "        await google.colab.output.renderOutput(dataTable, element);\n",
              "        const docLink = document.createElement('div');\n",
              "        docLink.innerHTML = docLinkHtml;\n",
              "        element.appendChild(docLink);\n",
              "      }\n",
              "    </script>\n",
              "  </div>\n",
              "\n",
              "\n",
              "<div id=\"df-29d59d84-3aa5-4550-bce9-19ee4b427878\">\n",
              "  <button class=\"colab-df-quickchart\" onclick=\"quickchart('df-29d59d84-3aa5-4550-bce9-19ee4b427878')\"\n",
              "            title=\"Suggest charts\"\n",
              "            style=\"display:none;\">\n",
              "\n",
              "<svg xmlns=\"http://www.w3.org/2000/svg\" height=\"24px\"viewBox=\"0 0 24 24\"\n",
              "     width=\"24px\">\n",
              "    <g>\n",
              "        <path d=\"M19 3H5c-1.1 0-2 .9-2 2v14c0 1.1.9 2 2 2h14c1.1 0 2-.9 2-2V5c0-1.1-.9-2-2-2zM9 17H7v-7h2v7zm4 0h-2V7h2v10zm4 0h-2v-4h2v4z\"/>\n",
              "    </g>\n",
              "</svg>\n",
              "  </button>\n",
              "\n",
              "<style>\n",
              "  .colab-df-quickchart {\n",
              "      --bg-color: #E8F0FE;\n",
              "      --fill-color: #1967D2;\n",
              "      --hover-bg-color: #E2EBFA;\n",
              "      --hover-fill-color: #174EA6;\n",
              "      --disabled-fill-color: #AAA;\n",
              "      --disabled-bg-color: #DDD;\n",
              "  }\n",
              "\n",
              "  [theme=dark] .colab-df-quickchart {\n",
              "      --bg-color: #3B4455;\n",
              "      --fill-color: #D2E3FC;\n",
              "      --hover-bg-color: #434B5C;\n",
              "      --hover-fill-color: #FFFFFF;\n",
              "      --disabled-bg-color: #3B4455;\n",
              "      --disabled-fill-color: #666;\n",
              "  }\n",
              "\n",
              "  .colab-df-quickchart {\n",
              "    background-color: var(--bg-color);\n",
              "    border: none;\n",
              "    border-radius: 50%;\n",
              "    cursor: pointer;\n",
              "    display: none;\n",
              "    fill: var(--fill-color);\n",
              "    height: 32px;\n",
              "    padding: 0;\n",
              "    width: 32px;\n",
              "  }\n",
              "\n",
              "  .colab-df-quickchart:hover {\n",
              "    background-color: var(--hover-bg-color);\n",
              "    box-shadow: 0 1px 2px rgba(60, 64, 67, 0.3), 0 1px 3px 1px rgba(60, 64, 67, 0.15);\n",
              "    fill: var(--button-hover-fill-color);\n",
              "  }\n",
              "\n",
              "  .colab-df-quickchart-complete:disabled,\n",
              "  .colab-df-quickchart-complete:disabled:hover {\n",
              "    background-color: var(--disabled-bg-color);\n",
              "    fill: var(--disabled-fill-color);\n",
              "    box-shadow: none;\n",
              "  }\n",
              "\n",
              "  .colab-df-spinner {\n",
              "    border: 2px solid var(--fill-color);\n",
              "    border-color: transparent;\n",
              "    border-bottom-color: var(--fill-color);\n",
              "    animation:\n",
              "      spin 1s steps(1) infinite;\n",
              "  }\n",
              "\n",
              "  @keyframes spin {\n",
              "    0% {\n",
              "      border-color: transparent;\n",
              "      border-bottom-color: var(--fill-color);\n",
              "      border-left-color: var(--fill-color);\n",
              "    }\n",
              "    20% {\n",
              "      border-color: transparent;\n",
              "      border-left-color: var(--fill-color);\n",
              "      border-top-color: var(--fill-color);\n",
              "    }\n",
              "    30% {\n",
              "      border-color: transparent;\n",
              "      border-left-color: var(--fill-color);\n",
              "      border-top-color: var(--fill-color);\n",
              "      border-right-color: var(--fill-color);\n",
              "    }\n",
              "    40% {\n",
              "      border-color: transparent;\n",
              "      border-right-color: var(--fill-color);\n",
              "      border-top-color: var(--fill-color);\n",
              "    }\n",
              "    60% {\n",
              "      border-color: transparent;\n",
              "      border-right-color: var(--fill-color);\n",
              "    }\n",
              "    80% {\n",
              "      border-color: transparent;\n",
              "      border-right-color: var(--fill-color);\n",
              "      border-bottom-color: var(--fill-color);\n",
              "    }\n",
              "    90% {\n",
              "      border-color: transparent;\n",
              "      border-bottom-color: var(--fill-color);\n",
              "    }\n",
              "  }\n",
              "</style>\n",
              "\n",
              "  <script>\n",
              "    async function quickchart(key) {\n",
              "      const quickchartButtonEl =\n",
              "        document.querySelector('#' + key + ' button');\n",
              "      quickchartButtonEl.disabled = true;  // To prevent multiple clicks.\n",
              "      quickchartButtonEl.classList.add('colab-df-spinner');\n",
              "      try {\n",
              "        const charts = await google.colab.kernel.invokeFunction(\n",
              "            'suggestCharts', [key], {});\n",
              "      } catch (error) {\n",
              "        console.error('Error during call to suggestCharts:', error);\n",
              "      }\n",
              "      quickchartButtonEl.classList.remove('colab-df-spinner');\n",
              "      quickchartButtonEl.classList.add('colab-df-quickchart-complete');\n",
              "    }\n",
              "    (() => {\n",
              "      let quickchartButtonEl =\n",
              "        document.querySelector('#df-29d59d84-3aa5-4550-bce9-19ee4b427878 button');\n",
              "      quickchartButtonEl.style.display =\n",
              "        google.colab.kernel.accessAllowed ? 'block' : 'none';\n",
              "    })();\n",
              "  </script>\n",
              "</div>\n",
              "    </div>\n",
              "  </div>\n"
            ],
            "application/vnd.google.colaboratory.intrinsic+json": {
              "type": "dataframe",
              "variable_name": "features_df"
            }
          },
          "metadata": {},
          "execution_count": 189
        }
      ]
    },
    {
      "cell_type": "code",
      "source": [
        "#separando o features_df em 2 datasets, um com injury igual a 0 e o outro com injury igual a 1_\n",
        "features_df0 = features_df[features_df['Injury'] < 1]\n",
        "features_df1 = features_df[features_df['Injury'] >= 1]"
      ],
      "metadata": {
        "id": "UqwoU4PNyrMY"
      },
      "execution_count": null,
      "outputs": []
    },
    {
      "cell_type": "code",
      "source": [
        "features_df770 = features_df0.sample(n=770)"
      ],
      "metadata": {
        "id": "fE3ZAo4wyu8_"
      },
      "execution_count": null,
      "outputs": []
    },
    {
      "cell_type": "code",
      "source": [
        "#multilplicando o dataframe de lesões por 10\n",
        "features_df2 = pd.DataFrame(np.repeat(features_df1.values, 10, axis=0))\n",
        "features_df2.columns = features_df1.columns"
      ],
      "metadata": {
        "id": "ZzqFCaVNrchO"
      },
      "execution_count": null,
      "outputs": []
    },
    {
      "cell_type": "code",
      "source": [
        "#juntando o dataset de injury = 1 com as 770 amostras de treino\n",
        "frames = [features_df2, features_df770]\n",
        "new_treino_df = pd.concat(frames)\n",
        "new_treino_df.reset_index(inplace=True)\n",
        "new_treino_df = new_treino_df.drop(columns=['index'])"
      ],
      "metadata": {
        "id": "sVIEfNaGrfVY"
      },
      "execution_count": null,
      "outputs": []
    },
    {
      "cell_type": "code",
      "source": [
        "#separa em features e targets (treino)\n",
        "y = new_treino_df['Injury']\n",
        "X = new_treino_df.drop(columns=['Injury'])"
      ],
      "metadata": {
        "id": "AMemPrkXrikA"
      },
      "execution_count": null,
      "outputs": []
    },
    {
      "cell_type": "code",
      "source": [
        "skf = StratifiedKFold(n_splits=2, shuffle = True)\n",
        "#usa separação estratificada para treinar o conjunto de treino para distribuir igualmente os rótulos em todas as classes\n",
        "for train_index, test_index in skf.split(X, y):\n",
        "    X_train, X_teste = X.values[train_index, :], X.values[test_index, :]\n",
        "    y_train, y_teste = y[train_index], y[test_index]"
      ],
      "metadata": {
        "id": "5nlw2ecjropw"
      },
      "execution_count": null,
      "outputs": []
    },
    {
      "cell_type": "code",
      "source": [
        "'''from sklearn.model_selection import train_test_split\n",
        "\n",
        "# Dividir os dados em conjuntos de treino e teste\n",
        "X_train_pca, X_test_pca, y_train, y_test = train_test_split(X_pca, y, test_size=0.2, random_state=42)\n",
        "\n",
        "# X_pca: Dados transformados pelo PCA\n",
        "# labels: Rótulos correspondentes aos dados\n",
        "# test_size: Proporção dos dados a serem alocados para o conjunto de teste (neste exemplo, 20%)\n",
        "# random_state: Semente para garantir reprodutibilidade, escolha um valor fixo ou None\n",
        "#y_pred = model.predict(X_test_pca)'''\n"
      ],
      "metadata": {
        "id": "eqnOYv6lItf0",
        "colab": {
          "base_uri": "https://localhost:8080/",
          "height": 52
        },
        "outputId": "abfc57b0-6c33-4b18-8230-aa4125551b26"
      },
      "execution_count": null,
      "outputs": [
        {
          "output_type": "execute_result",
          "data": {
            "text/plain": [
              "'from sklearn.model_selection import train_test_split\\n\\n# Dividir os dados em conjuntos de treino e teste\\nX_train_pca, X_test_pca, y_train, y_test = train_test_split(X_pca, y, test_size=0.2, random_state=42)\\n\\n# X_pca: Dados transformados pelo PCA\\n# labels: Rótulos correspondentes aos dados\\n# test_size: Proporção dos dados a serem alocados para o conjunto de teste (neste exemplo, 20%)\\n# random_state: Semente para garantir reprodutibilidade, escolha um valor fixo ou None\\n#y_pred = model.predict(X_test_pca)'"
            ],
            "application/vnd.google.colaboratory.intrinsic+json": {
              "type": "string"
            }
          },
          "metadata": {},
          "execution_count": 196
        }
      ]
    },
    {
      "cell_type": "code",
      "source": [
        "\"\"\"X_train_pca e X_test_pca são os conjuntos de treino e teste após a aplicação do PCA.\n",
        "y_train e y_test são os rótulos correspondentes aos conjuntos de treino e teste.\n",
        "XGBClassifier é configurado com alguns parâmetros, como objective para tarefa de classificação binária ('binary:logistic'), max_depth para a profundidade máxima das árvores, learning_rate para a taxa de aprendizado e eval_metric para a métrica de avaliação.\n",
        "Após criar a instância do XGBClassifier, você usa o método fit para treinar o modelo no conjunto de treino e, em seguida, usa o método predict para fazer previsões no conjunto de teste. Finalmente, você avalia o desempenho do modelo usando uma métrica de avaliação, neste caso, a acurácia.\"\"\""
      ],
      "metadata": {
        "id": "zoWfVUIuPLpS",
        "colab": {
          "base_uri": "https://localhost:8080/",
          "height": 70
        },
        "outputId": "3f6e9015-e727-4158-8bb2-b118d866d7bc"
      },
      "execution_count": null,
      "outputs": [
        {
          "output_type": "execute_result",
          "data": {
            "text/plain": [
              "\"X_train_pca e X_test_pca são os conjuntos de treino e teste após a aplicação do PCA.\\ny_train e y_test são os rótulos correspondentes aos conjuntos de treino e teste.\\nXGBClassifier é configurado com alguns parâmetros, como objective para tarefa de classificação binária ('binary:logistic'), max_depth para a profundidade máxima das árvores, learning_rate para a taxa de aprendizado e eval_metric para a métrica de avaliação.\\nApós criar a instância do XGBClassifier, você usa o método fit para treinar o modelo no conjunto de treino e, em seguida, usa o método predict para fazer previsões no conjunto de teste. Finalmente, você avalia o desempenho do modelo usando uma métrica de avaliação, neste caso, a acurácia.\""
            ],
            "application/vnd.google.colaboratory.intrinsic+json": {
              "type": "string"
            }
          },
          "metadata": {},
          "execution_count": 197
        }
      ]
    },
    {
      "cell_type": "code",
      "source": [
        "model = xgb.XGBClassifier(max_depth=3,\n",
        "                      learning_rate=0.1,\n",
        "                      n_estimators=100,\n",
        "                      objective='binary:logistic',\n",
        "                      booster='gbtree',\n",
        "                      tree_method='auto',\n",
        "                      n_jobs=50,\n",
        "                      gamma=0,\n",
        "                      min_child_weight=1,\n",
        "                      max_delta_step=0,\n",
        "                      subsample=1,\n",
        "                      colsample_bytree=1,\n",
        "                      colsample_bylevel=1,\n",
        "                      colsample_bynode=1,\n",
        "                      reg_alpha=0,\n",
        "                      reg_lambda=1,\n",
        "                      scale_pos_weight=1,\n",
        "                      base_score=0.5,\n",
        "                      random_state=42)\n",
        "model.fit(X_train, y_train)"
      ],
      "metadata": {
        "id": "yygJJlSm-ttB",
        "colab": {
          "base_uri": "https://localhost:8080/",
          "height": 232
        },
        "outputId": "925c505e-efbc-4a1f-b39a-cbc7c9148a77"
      },
      "execution_count": null,
      "outputs": [
        {
          "output_type": "execute_result",
          "data": {
            "text/plain": [
              "XGBClassifier(base_score=0.5, booster='gbtree', callbacks=None,\n",
              "              colsample_bylevel=1, colsample_bynode=1, colsample_bytree=1,\n",
              "              device=None, early_stopping_rounds=None, enable_categorical=False,\n",
              "              eval_metric=None, feature_types=None, gamma=0, grow_policy=None,\n",
              "              importance_type=None, interaction_constraints=None,\n",
              "              learning_rate=0.1, max_bin=None, max_cat_threshold=None,\n",
              "              max_cat_to_onehot=None, max_delta_step=0, max_depth=3,\n",
              "              max_leaves=None, min_child_weight=1, missing=nan,\n",
              "              monotone_constraints=None, multi_strategy=None, n_estimators=100,\n",
              "              n_jobs=50, num_parallel_tree=None, random_state=42, ...)"
            ],
            "text/html": [
              "<style>#sk-container-id-6 {color: black;background-color: white;}#sk-container-id-6 pre{padding: 0;}#sk-container-id-6 div.sk-toggleable {background-color: white;}#sk-container-id-6 label.sk-toggleable__label {cursor: pointer;display: block;width: 100%;margin-bottom: 0;padding: 0.3em;box-sizing: border-box;text-align: center;}#sk-container-id-6 label.sk-toggleable__label-arrow:before {content: \"▸\";float: left;margin-right: 0.25em;color: #696969;}#sk-container-id-6 label.sk-toggleable__label-arrow:hover:before {color: black;}#sk-container-id-6 div.sk-estimator:hover label.sk-toggleable__label-arrow:before {color: black;}#sk-container-id-6 div.sk-toggleable__content {max-height: 0;max-width: 0;overflow: hidden;text-align: left;background-color: #f0f8ff;}#sk-container-id-6 div.sk-toggleable__content pre {margin: 0.2em;color: black;border-radius: 0.25em;background-color: #f0f8ff;}#sk-container-id-6 input.sk-toggleable__control:checked~div.sk-toggleable__content {max-height: 200px;max-width: 100%;overflow: auto;}#sk-container-id-6 input.sk-toggleable__control:checked~label.sk-toggleable__label-arrow:before {content: \"▾\";}#sk-container-id-6 div.sk-estimator input.sk-toggleable__control:checked~label.sk-toggleable__label {background-color: #d4ebff;}#sk-container-id-6 div.sk-label input.sk-toggleable__control:checked~label.sk-toggleable__label {background-color: #d4ebff;}#sk-container-id-6 input.sk-hidden--visually {border: 0;clip: rect(1px 1px 1px 1px);clip: rect(1px, 1px, 1px, 1px);height: 1px;margin: -1px;overflow: hidden;padding: 0;position: absolute;width: 1px;}#sk-container-id-6 div.sk-estimator {font-family: monospace;background-color: #f0f8ff;border: 1px dotted black;border-radius: 0.25em;box-sizing: border-box;margin-bottom: 0.5em;}#sk-container-id-6 div.sk-estimator:hover {background-color: #d4ebff;}#sk-container-id-6 div.sk-parallel-item::after {content: \"\";width: 100%;border-bottom: 1px solid gray;flex-grow: 1;}#sk-container-id-6 div.sk-label:hover label.sk-toggleable__label {background-color: #d4ebff;}#sk-container-id-6 div.sk-serial::before {content: \"\";position: absolute;border-left: 1px solid gray;box-sizing: border-box;top: 0;bottom: 0;left: 50%;z-index: 0;}#sk-container-id-6 div.sk-serial {display: flex;flex-direction: column;align-items: center;background-color: white;padding-right: 0.2em;padding-left: 0.2em;position: relative;}#sk-container-id-6 div.sk-item {position: relative;z-index: 1;}#sk-container-id-6 div.sk-parallel {display: flex;align-items: stretch;justify-content: center;background-color: white;position: relative;}#sk-container-id-6 div.sk-item::before, #sk-container-id-6 div.sk-parallel-item::before {content: \"\";position: absolute;border-left: 1px solid gray;box-sizing: border-box;top: 0;bottom: 0;left: 50%;z-index: -1;}#sk-container-id-6 div.sk-parallel-item {display: flex;flex-direction: column;z-index: 1;position: relative;background-color: white;}#sk-container-id-6 div.sk-parallel-item:first-child::after {align-self: flex-end;width: 50%;}#sk-container-id-6 div.sk-parallel-item:last-child::after {align-self: flex-start;width: 50%;}#sk-container-id-6 div.sk-parallel-item:only-child::after {width: 0;}#sk-container-id-6 div.sk-dashed-wrapped {border: 1px dashed gray;margin: 0 0.4em 0.5em 0.4em;box-sizing: border-box;padding-bottom: 0.4em;background-color: white;}#sk-container-id-6 div.sk-label label {font-family: monospace;font-weight: bold;display: inline-block;line-height: 1.2em;}#sk-container-id-6 div.sk-label-container {text-align: center;}#sk-container-id-6 div.sk-container {/* jupyter's `normalize.less` sets `[hidden] { display: none; }` but bootstrap.min.css set `[hidden] { display: none !important; }` so we also need the `!important` here to be able to override the default hidden behavior on the sphinx rendered scikit-learn.org. See: https://github.com/scikit-learn/scikit-learn/issues/21755 */display: inline-block !important;position: relative;}#sk-container-id-6 div.sk-text-repr-fallback {display: none;}</style><div id=\"sk-container-id-6\" class=\"sk-top-container\"><div class=\"sk-text-repr-fallback\"><pre>XGBClassifier(base_score=0.5, booster=&#x27;gbtree&#x27;, callbacks=None,\n",
              "              colsample_bylevel=1, colsample_bynode=1, colsample_bytree=1,\n",
              "              device=None, early_stopping_rounds=None, enable_categorical=False,\n",
              "              eval_metric=None, feature_types=None, gamma=0, grow_policy=None,\n",
              "              importance_type=None, interaction_constraints=None,\n",
              "              learning_rate=0.1, max_bin=None, max_cat_threshold=None,\n",
              "              max_cat_to_onehot=None, max_delta_step=0, max_depth=3,\n",
              "              max_leaves=None, min_child_weight=1, missing=nan,\n",
              "              monotone_constraints=None, multi_strategy=None, n_estimators=100,\n",
              "              n_jobs=50, num_parallel_tree=None, random_state=42, ...)</pre><b>In a Jupyter environment, please rerun this cell to show the HTML representation or trust the notebook. <br />On GitHub, the HTML representation is unable to render, please try loading this page with nbviewer.org.</b></div><div class=\"sk-container\" hidden><div class=\"sk-item\"><div class=\"sk-estimator sk-toggleable\"><input class=\"sk-toggleable__control sk-hidden--visually\" id=\"sk-estimator-id-6\" type=\"checkbox\" checked><label for=\"sk-estimator-id-6\" class=\"sk-toggleable__label sk-toggleable__label-arrow\">XGBClassifier</label><div class=\"sk-toggleable__content\"><pre>XGBClassifier(base_score=0.5, booster=&#x27;gbtree&#x27;, callbacks=None,\n",
              "              colsample_bylevel=1, colsample_bynode=1, colsample_bytree=1,\n",
              "              device=None, early_stopping_rounds=None, enable_categorical=False,\n",
              "              eval_metric=None, feature_types=None, gamma=0, grow_policy=None,\n",
              "              importance_type=None, interaction_constraints=None,\n",
              "              learning_rate=0.1, max_bin=None, max_cat_threshold=None,\n",
              "              max_cat_to_onehot=None, max_delta_step=0, max_depth=3,\n",
              "              max_leaves=None, min_child_weight=1, missing=nan,\n",
              "              monotone_constraints=None, multi_strategy=None, n_estimators=100,\n",
              "              n_jobs=50, num_parallel_tree=None, random_state=42, ...)</pre></div></div></div></div></div>"
            ]
          },
          "metadata": {},
          "execution_count": 198
        }
      ]
    },
    {
      "cell_type": "code",
      "source": [
        "from xgboost import XGBClassifier\n",
        "from sklearn.metrics import accuracy_score\n",
        "from sklearn.metrics import confusion_matrix, classification_report\n",
        "\n",
        "# Fazer previsões no conjunto de treino e teste\n",
        "\n",
        "xgb_classifier = XGBClassifier()\n",
        "xgb_classifier.fit(X_train, y_train)\n",
        "\n",
        "y_train_pred = xgb_classifier.predict(X_train)\n",
        "\n",
        "accuracy = accuracy_score(y_train, y_train_pred)\n",
        "conf_matrix = confusion_matrix(y_train, y_train_pred)\n",
        "cohen_kappa = cohen_kappa_score(y_train, y_train_pred)\n",
        "\n",
        "print('Train Accuracy: {:.4f}'.format(accuracy))\n",
        "print('Cohen kappa: {:.3f}'.format(cohen_kappa))\n",
        "print('Confusion Matrix Conjunto Treino: \\n {}'.format(conf_matrix))"
      ],
      "metadata": {
        "id": "VfCY6JgH-5cg",
        "colab": {
          "base_uri": "https://localhost:8080/"
        },
        "outputId": "ff51aa02-7ce8-4b02-86b9-0495618b3d4f"
      },
      "execution_count": null,
      "outputs": [
        {
          "output_type": "stream",
          "name": "stdout",
          "text": [
            "Train Accuracy: 1.0000\n",
            "Cohen kappa: 1.000\n",
            "Confusion Matrix Conjunto Treino: \n",
            " [[385   0]\n",
            " [  0 385]]\n"
          ]
        }
      ]
    },
    {
      "cell_type": "code",
      "source": [
        "# Fazer previsões no conjunto de treino e teste\n",
        "xgb_classifier.fit(X_train, y_train)\n",
        "\n",
        "y_pred = xgb_classifier.predict(X_teste)\n",
        "\n",
        "accuracy = accuracy_score(y_teste, y_pred)\n",
        "conf_matrix = confusion_matrix(y_teste, y_pred)\n",
        "cohen_kappa = cohen_kappa_score(y_teste, y_pred)\n",
        "\n",
        "print('Test Accuracy: {:.4f}'.format(accuracy))\n",
        "print('Cohen kappa: {:.3f}'.format(cohen_kappa))\n",
        "f1 = f1_score(y_pred, y_teste, average=\"weighted\")\n",
        "print(\"F1 Score:\", f1)\n",
        "print('Confusion Matrix do Conjunto Teste: \\n {}'.format(conf_matrix))"
      ],
      "metadata": {
        "id": "rcNYKONzAH5K",
        "colab": {
          "base_uri": "https://localhost:8080/"
        },
        "outputId": "9732336f-969e-4802-c2fc-0ee12d594f12"
      },
      "execution_count": null,
      "outputs": [
        {
          "output_type": "stream",
          "name": "stdout",
          "text": [
            "Test Accuracy: 0.9455\n",
            "Cohen kappa: 0.891\n",
            "F1 Score: 0.945617313720762\n",
            "Confusion Matrix do Conjunto Teste: \n",
            " [[343  42]\n",
            " [  0 385]]\n"
          ]
        }
      ]
    },
    {
      "cell_type": "code",
      "source": [
        "xgb_classifier.fit(X_train, y_train)\n",
        "y_pred = xgb_classifier.predict(X_teste)\n",
        "\n",
        "from sklearn.metrics import confusion_matrix\n",
        "\n",
        "labels = [\"(Não Lesão)\", \"(Lesão)\"]\n",
        "cf_matrix = confusion_matrix(y_teste, y_pred)\n",
        "print(cf_matrix)\n",
        "\n",
        "import seaborn as sns\n",
        "ax= plt.subplot()\n",
        "sns.heatmap(cf_matrix, annot=True, fmt='g', ax=ax, cmap = 'Blues')\n",
        "\n",
        "ax.set_xlabel('Predicted labels');ax.set_ylabel('True labels');\n",
        "ax.set_title('Matriz de Confusão - XGB/A.d.I');\n",
        "ax.xaxis.set_ticklabels(['Não Lesão', 'Lesão']); ax.yaxis.set_ticklabels(['Não Lesão', 'Lesão']);"
      ],
      "metadata": {
        "colab": {
          "base_uri": "https://localhost:8080/",
          "height": 507
        },
        "id": "D0qdfUnL8rNt",
        "outputId": "993f14c4-d4fa-4e18-d674-6dd155132447"
      },
      "execution_count": null,
      "outputs": [
        {
          "output_type": "stream",
          "name": "stdout",
          "text": [
            "[[358  27]\n",
            " [  0 385]]\n"
          ]
        },
        {
          "output_type": "display_data",
          "data": {
            "text/plain": [
              "<Figure size 640x480 with 2 Axes>"
            ],
            "image/png": "[encoded data removed]"
          },
          "metadata": {}
        }
      ]
    },
    {
      "cell_type": "code",
      "source": [
        "feature_importances = model.feature_importances_\n",
        "feature_importances = pd.DataFrame(feature_importances, index = X.columns).reset_index().rename(columns={'index':'feature', 0:'importance'}).sort_values(by=['importance'], ascending=False)\n",
        "\n",
        "plt.figure(figsize=(20,7))\n",
        "plt.bar(range(len(feature_importances)), feature_importances.importance.values)\n",
        "plt.xticks(range(len(feature_importances)), feature_importances.feature.values, rotation=90)\n",
        "\n",
        "plt.title('Feature importances')\n",
        "plt.xlabel('features')\n",
        "plt.show()"
      ],
      "metadata": {
        "colab": {
          "base_uri": "https://localhost:8080/",
          "height": 866
        },
        "id": "eqc1rd9Sad5T",
        "outputId": "610e6df3-47d8-470d-8735-be66e881981f"
      },
      "execution_count": null,
      "outputs": [
        {
          "output_type": "display_data",
          "data": {
            "text/plain": [
              "<Figure size 2000x700 with 1 Axes>"
            ],
            "image/png": "[encoded data removed]"
          },
          "metadata": {}
        }
      ]
    }
  ],
  "metadata": {
    "colab": {
      "provenance": []
    },
    "kernelspec": {
      "display_name": "Python 3",
      "name": "python3"
    },
    "language_info": {
      "name": "python"
    }
  },
  "nbformat": 4,
  "nbformat_minor": 0
}